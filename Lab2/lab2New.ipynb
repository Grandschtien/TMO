{
 "cells":[
  {
   "cell_type":"markdown",
   "source":[
    "# Лабораторная работа 2\n",
    "## Обработка пропусков в данных, кодирование категориальных признаков, масштабирование данных.\n",
    "Цель лабораторной работы: изучение способов предварительной обработки данных для дальнейшего формирования моделей.\n",
    "Для лабораторный работы был взят датасет melb_data из библиотеки sklearn"
   ],
   "attachments":{
    
   },
   "metadata":{
    "datalore":{
     "type":"MD",
     "hide_input_from_viewers":false,
     "hide_output_from_viewers":false
    }
   }
  },
  {
   "cell_type":"code",
   "source":[
    "import numpy as np\n",
    "import pandas as pd\n",
    "import seaborn as sns\n",
    "import matplotlib.pyplot as plt\n",
    "from sklearn.preprocessing import OneHotEncoder, MinMaxScaler, StandardScaler, Normalizer\n",
    "from sklearn.impute import MissingIndicator, SimpleImputer\n",
    "%matplotlib inline"
   ],
   "execution_count":null,
   "outputs":[
    
   ],
   "metadata":{
    "datalore":{
     "type":"CODE",
     "hide_input_from_viewers":false,
     "hide_output_from_viewers":false
    }
   }
  },
  {
   "cell_type":"code",
   "source":[
    "data = pd.read_csv('melb_data.csv')\n",
    "data.shape"
   ],
   "execution_count":null,
   "outputs":[
    {
     "data":{
      "text\/plain":[
       "(13580, 21)"
      ]
     },
     "metadata":{
      
     },
     "output_type":"display_data"
    }
   ],
   "metadata":{
    "datalore":{
     "type":"CODE",
     "hide_input_from_viewers":false,
     "hide_output_from_viewers":false
    }
   }
  },
  {
   "cell_type":"code",
   "source":[
    "data.info()"
   ],
   "execution_count":null,
   "outputs":[
    {
     "name":"stdout",
     "text":[
      "<class 'pandas.core.frame.DataFrame'>\n",
      "RangeIndex: 13580 entries, 0 to 13579\n",
      "Data columns (total 21 columns):\n",
      " #   Column         Non-Null Count  Dtype  \n",
      "---  ------         --------------  -----  \n",
      " 0   Suburb         13580 non-null  object \n",
      " 1   Address        13580 non-null  object \n",
      " 2   Rooms          13580 non-null  int64  \n",
      " 3   Type           13580 non-null  object \n",
      " 4   Price          13580 non-null  float64\n",
      " 5   Method         13580 non-null  object \n",
      " 6   SellerG        13580 non-null  object \n",
      " 7   Date           13580 non-null  object \n",
      " 8   Distance       13580 non-null  float64\n",
      " 9   Postcode       13580 non-null  float64\n",
      " 10  Bedroom2       13580 non-null  float64\n",
      " 11  Bathroom       13580 non-null  float64\n",
      " 12  Car            13518 non-null  float64\n",
      " 13  Landsize       13580 non-null  float64\n",
      " 14  BuildingArea   7130 non-null   float64\n",
      " 15  YearBuilt      8205 non-null   float64\n",
      " 16  CouncilArea    12211 non-null  object \n",
      " 17  Lattitude      13580 non-null  float64\n",
      " 18  Longtitude     13580 non-null  float64\n",
      " 19  Regionname     13580 non-null  object \n",
      " 20  Propertycount  13580 non-null  float64\n",
      "dtypes: float64(12), int64(1), object(8)\n",
      "memory usage: 2.2+ MB\n"
     ],
     "output_type":"stream"
    }
   ],
   "metadata":{
    "datalore":{
     "type":"CODE",
     "hide_input_from_viewers":false,
     "hide_output_from_viewers":false
    }
   }
  },
  {
   "cell_type":"code",
   "source":[
    "data.head()"
   ],
   "execution_count":null,
   "outputs":[
    {
     "data":{
      "text\/html":[
       "<div>\n",
       "<style scoped>\n",
       "    .dataframe tbody tr th:only-of-type {\n",
       "        vertical-align: middle;\n",
       "    }\n",
       "\n",
       "    .dataframe tbody tr th {\n",
       "        vertical-align: top;\n",
       "    }\n",
       "\n",
       "    .dataframe thead th {\n",
       "        text-align: right;\n",
       "    }\n",
       "<\/style>\n",
       "<table border=\"1\" class=\"dataframe\">\n",
       "  <thead>\n",
       "    <tr style=\"text-align: right;\">\n",
       "      <th><\/th>\n",
       "      <th>Suburb<\/th>\n",
       "      <th>Address<\/th>\n",
       "      <th>Rooms<\/th>\n",
       "      <th>Type<\/th>\n",
       "      <th>Price<\/th>\n",
       "      <th>Method<\/th>\n",
       "      <th>SellerG<\/th>\n",
       "      <th>Date<\/th>\n",
       "      <th>Distance<\/th>\n",
       "      <th>Postcode<\/th>\n",
       "      <th>...<\/th>\n",
       "      <th>Bathroom<\/th>\n",
       "      <th>Car<\/th>\n",
       "      <th>Landsize<\/th>\n",
       "      <th>BuildingArea<\/th>\n",
       "      <th>YearBuilt<\/th>\n",
       "      <th>CouncilArea<\/th>\n",
       "      <th>Lattitude<\/th>\n",
       "      <th>Longtitude<\/th>\n",
       "      <th>Regionname<\/th>\n",
       "      <th>Propertycount<\/th>\n",
       "    <\/tr>\n",
       "  <\/thead>\n",
       "  <tbody>\n",
       "    <tr>\n",
       "      <th>0<\/th>\n",
       "      <td>Abbotsford<\/td>\n",
       "      <td>85 Turner St<\/td>\n",
       "      <td>2<\/td>\n",
       "      <td>h<\/td>\n",
       "      <td>1480000.0<\/td>\n",
       "      <td>S<\/td>\n",
       "      <td>Biggin<\/td>\n",
       "      <td>3\/12\/2016<\/td>\n",
       "      <td>2.5<\/td>\n",
       "      <td>3067.0<\/td>\n",
       "      <td>...<\/td>\n",
       "      <td>1.0<\/td>\n",
       "      <td>1.0<\/td>\n",
       "      <td>202.0<\/td>\n",
       "      <td>NaN<\/td>\n",
       "      <td>NaN<\/td>\n",
       "      <td>Yarra<\/td>\n",
       "      <td>-37.7996<\/td>\n",
       "      <td>144.9984<\/td>\n",
       "      <td>Northern Metropolitan<\/td>\n",
       "      <td>4019.0<\/td>\n",
       "    <\/tr>\n",
       "    <tr>\n",
       "      <th>1<\/th>\n",
       "      <td>Abbotsford<\/td>\n",
       "      <td>25 Bloomburg St<\/td>\n",
       "      <td>2<\/td>\n",
       "      <td>h<\/td>\n",
       "      <td>1035000.0<\/td>\n",
       "      <td>S<\/td>\n",
       "      <td>Biggin<\/td>\n",
       "      <td>4\/02\/2016<\/td>\n",
       "      <td>2.5<\/td>\n",
       "      <td>3067.0<\/td>\n",
       "      <td>...<\/td>\n",
       "      <td>1.0<\/td>\n",
       "      <td>0.0<\/td>\n",
       "      <td>156.0<\/td>\n",
       "      <td>79.0<\/td>\n",
       "      <td>1900.0<\/td>\n",
       "      <td>Yarra<\/td>\n",
       "      <td>-37.8079<\/td>\n",
       "      <td>144.9934<\/td>\n",
       "      <td>Northern Metropolitan<\/td>\n",
       "      <td>4019.0<\/td>\n",
       "    <\/tr>\n",
       "    <tr>\n",
       "      <th>2<\/th>\n",
       "      <td>Abbotsford<\/td>\n",
       "      <td>5 Charles St<\/td>\n",
       "      <td>3<\/td>\n",
       "      <td>h<\/td>\n",
       "      <td>1465000.0<\/td>\n",
       "      <td>SP<\/td>\n",
       "      <td>Biggin<\/td>\n",
       "      <td>4\/03\/2017<\/td>\n",
       "      <td>2.5<\/td>\n",
       "      <td>3067.0<\/td>\n",
       "      <td>...<\/td>\n",
       "      <td>2.0<\/td>\n",
       "      <td>0.0<\/td>\n",
       "      <td>134.0<\/td>\n",
       "      <td>150.0<\/td>\n",
       "      <td>1900.0<\/td>\n",
       "      <td>Yarra<\/td>\n",
       "      <td>-37.8093<\/td>\n",
       "      <td>144.9944<\/td>\n",
       "      <td>Northern Metropolitan<\/td>\n",
       "      <td>4019.0<\/td>\n",
       "    <\/tr>\n",
       "    <tr>\n",
       "      <th>3<\/th>\n",
       "      <td>Abbotsford<\/td>\n",
       "      <td>40 Federation La<\/td>\n",
       "      <td>3<\/td>\n",
       "      <td>h<\/td>\n",
       "      <td>850000.0<\/td>\n",
       "      <td>PI<\/td>\n",
       "      <td>Biggin<\/td>\n",
       "      <td>4\/03\/2017<\/td>\n",
       "      <td>2.5<\/td>\n",
       "      <td>3067.0<\/td>\n",
       "      <td>...<\/td>\n",
       "      <td>2.0<\/td>\n",
       "      <td>1.0<\/td>\n",
       "      <td>94.0<\/td>\n",
       "      <td>NaN<\/td>\n",
       "      <td>NaN<\/td>\n",
       "      <td>Yarra<\/td>\n",
       "      <td>-37.7969<\/td>\n",
       "      <td>144.9969<\/td>\n",
       "      <td>Northern Metropolitan<\/td>\n",
       "      <td>4019.0<\/td>\n",
       "    <\/tr>\n",
       "    <tr>\n",
       "      <th>4<\/th>\n",
       "      <td>Abbotsford<\/td>\n",
       "      <td>55a Park St<\/td>\n",
       "      <td>4<\/td>\n",
       "      <td>h<\/td>\n",
       "      <td>1600000.0<\/td>\n",
       "      <td>VB<\/td>\n",
       "      <td>Nelson<\/td>\n",
       "      <td>4\/06\/2016<\/td>\n",
       "      <td>2.5<\/td>\n",
       "      <td>3067.0<\/td>\n",
       "      <td>...<\/td>\n",
       "      <td>1.0<\/td>\n",
       "      <td>2.0<\/td>\n",
       "      <td>120.0<\/td>\n",
       "      <td>142.0<\/td>\n",
       "      <td>2014.0<\/td>\n",
       "      <td>Yarra<\/td>\n",
       "      <td>-37.8072<\/td>\n",
       "      <td>144.9941<\/td>\n",
       "      <td>Northern Metropolitan<\/td>\n",
       "      <td>4019.0<\/td>\n",
       "    <\/tr>\n",
       "  <\/tbody>\n",
       "<\/table>\n",
       "<p>5 rows × 21 columns<\/p>\n",
       "<\/div>"
      ]
     },
     "metadata":{
      
     },
     "output_type":"display_data"
    }
   ],
   "metadata":{
    "datalore":{
     "type":"CODE",
     "hide_input_from_viewers":false,
     "hide_output_from_viewers":false
    }
   }
  },
  {
   "cell_type":"code",
   "source":[
    "data.isnull().sum()"
   ],
   "execution_count":null,
   "outputs":[
    {
     "data":{
      "text\/html":[
       
      ]
     },
     "metadata":{
      
     },
     "output_type":"display_data"
    }
   ],
   "metadata":{
    "datalore":{
     "type":"CODE",
     "hide_input_from_viewers":false,
     "hide_output_from_viewers":false
    }
   }
  },
  {
   "cell_type":"markdown",
   "source":[
    "## Обработка пропусков в данных\n",
    "Посмотрим % пропусков в столбах."
   ],
   "attachments":{
    
   },
   "metadata":{
    "datalore":{
     "type":"MD",
     "hide_input_from_viewers":false,
     "hide_output_from_viewers":false
    }
   }
  },
  {
   "cell_type":"code",
   "source":[
    "num_cols = []\n",
    "for column in data.columns:\n",
    "    temp_null_count = data[data[column].isnull()].shape[0]\n",
    "    dt = str(data[column].dtype)\n",
    "\n",
    "    if temp_null_count > 0 and (dt == 'float64' or dt == 'int64'):\n",
    "        num_cols.append(column)\n",
    "        temp_percent = round((temp_null_count\/ data.shape[0]) * 100.0, 2)\n",
    "        print('Столбец: {}. Тип данных: {}. Кол-во пустых значений: {}, {}%'.format(column, dt, temp_null_count, temp_percent))"
   ],
   "execution_count":null,
   "outputs":[
    {
     "name":"stdout",
     "text":[
      "Столбец: Car. Тип данных: float64. Кол-во пустых значений: 62, 0.46%\n",
      "Столбец: BuildingArea. Тип данных: float64. Кол-во пустых значений: 6450, 47.5%\n",
      "Столбец: YearBuilt. Тип данных: float64. Кол-во пустых значений: 5375, 39.58%\n"
     ],
     "output_type":"stream"
    }
   ],
   "metadata":{
    "datalore":{
     "type":"CODE",
     "hide_input_from_viewers":false,
     "hide_output_from_viewers":false
    }
   }
  },
  {
   "cell_type":"code",
   "source":[
    "def impute_dataframe(df, col, strategy_name) -> pd.DataFrame:\n",
    "    \"\"\"\n",
    "    Функия для заполнения пропусков в столбце датафрейма\n",
    "\n",
    "    :param df: Датафрейм\n",
    "    :param col: Столбец, в которой надо заполнить пропуски\n",
    "    :param strategy_name: Стратегия импьютации\n",
    "    :return: Датафрейм с заполнненой колонкой\n",
    "    \"\"\"\n",
    "    imp = SimpleImputer(strategy=strategy_name)\n",
    "\n",
    "    data_imputed = imp.fit_transform(df[[col]])\n",
    "    df[[col]] = data_imputed\n",
    "\n",
    "    return df"
   ],
   "execution_count":null,
   "outputs":[
    
   ],
   "metadata":{
    "datalore":{
     "type":"CODE",
     "hide_input_from_viewers":false,
     "hide_output_from_viewers":false
    }
   }
  },
  {
   "cell_type":"code",
   "source":[
    "data_comp = impute_dataframe(data, 'Car', 'most_frequent')\n",
    "data_comp = impute_dataframe(data_comp, 'BuildingArea', 'median')\n",
    "data_comp = impute_dataframe(data_comp, 'YearBuilt', 'median')\n",
    "\n",
    "data_comp.isnull().sum()"
   ],
   "execution_count":null,
   "outputs":[
    {
     "data":{
      "text\/html":[
       
      ]
     },
     "metadata":{
      
     },
     "output_type":"display_data"
    }
   ],
   "metadata":{
    "datalore":{
     "type":"CODE",
     "hide_input_from_viewers":false,
     "hide_output_from_viewers":false
    }
   }
  },
  {
   "cell_type":"markdown",
   "source":[
    "## Кодирование категориальных признаков\n",
    "\n",
    "Закодируем колонку 'Type' с помощью one-hot encoding"
   ],
   "attachments":{
    
   },
   "metadata":{
    "datalore":{
     "type":"MD",
     "hide_input_from_viewers":false,
     "hide_output_from_viewers":false
    }
   }
  },
  {
   "cell_type":"code",
   "source":[
    "one = OneHotEncoder(dtype=np.int64)\n",
    "data_tmp = data_comp[['Type']]\n",
    "data_enc = one.fit_transform(data_tmp)\n",
    "data_enc"
   ],
   "execution_count":null,
   "outputs":[
    {
     "data":{
      "text\/plain":[
       "<13580x3 sparse matrix of type '<class 'numpy.int64'>'\n",
       "\twith 13580 stored elements in Compressed Sparse Row format>"
      ]
     },
     "metadata":{
      
     },
     "output_type":"display_data"
    }
   ],
   "metadata":{
    "datalore":{
     "type":"CODE",
     "hide_input_from_viewers":false,
     "hide_output_from_viewers":false
    }
   }
  },
  {
   "cell_type":"code",
   "source":[
    "data_enc.todense()[0:10]"
   ],
   "execution_count":null,
   "outputs":[
    {
     "data":{
      "text\/html":[
       
      ]
     },
     "metadata":{
      
     },
     "output_type":"display_data"
    }
   ],
   "metadata":{
    "datalore":{
     "type":"CODE",
     "hide_input_from_viewers":false,
     "hide_output_from_viewers":false
    }
   }
  },
  {
   "cell_type":"code",
   "source":[
    "data_enc.shape"
   ],
   "execution_count":null,
   "outputs":[
    {
     "data":{
      "text\/plain":[
       "(13580, 3)"
      ]
     },
     "metadata":{
      
     },
     "output_type":"display_data"
    }
   ],
   "metadata":{
    "datalore":{
     "type":"CODE",
     "hide_input_from_viewers":false,
     "hide_output_from_viewers":false
    }
   }
  },
  {
   "cell_type":"markdown",
   "source":[
    "## Масштабирование данных\n",
    "\n",
    "Для масштабирования используем поле Salary."
   ],
   "attachments":{
    
   },
   "metadata":{
    "datalore":{
     "type":"MD",
     "hide_input_from_viewers":false,
     "hide_output_from_viewers":false
    }
   }
  },
  {
   "cell_type":"code",
   "source":[
    "sns.histplot(data_comp['Price'], bins= 75)\n",
    "sns.despine()\n",
    "plt.show()"
   ],
   "execution_count":null,
   "outputs":[
    {
     "data":{
      "image\/png":"[encoded data removed]"
     },
     "metadata":{
      "image\/png":{
       
      }
     },
     "output_type":"display_data"
    }
   ],
   "metadata":{
    "datalore":{
     "type":"CODE",
     "hide_input_from_viewers":false,
     "hide_output_from_viewers":false
    }
   }
  },
  {
   "cell_type":"markdown",
   "source":[
    "## MinMax масштабирование"
   ],
   "attachments":{
    
   },
   "metadata":{
    "datalore":{
     "type":"MD",
     "hide_input_from_viewers":false,
     "hide_output_from_viewers":false
    }
   }
  },
  {
   "cell_type":"code",
   "source":[
    "minmax_scaler = MinMaxScaler()\n",
    "minmax_scaled_data = minmax_scaler.fit_transform(data_comp[['Price']])"
   ],
   "execution_count":null,
   "outputs":[
    
   ],
   "metadata":{
    "datalore":{
     "type":"CODE",
     "hide_input_from_viewers":false,
     "hide_output_from_viewers":false
    }
   }
  },
  {
   "cell_type":"code",
   "source":[
    "sns.histplot(minmax_scaled_data, bins= 75, legend=False)\n",
    "sns.despine()\n",
    "plt.show()"
   ],
   "execution_count":null,
   "outputs":[
    {
     "data":{
      "image\/png":"[encoded data removed]"
     },
     "metadata":{
      "image\/png":{
       
      }
     },
     "output_type":"display_data"
    }
   ],
   "metadata":{
    "datalore":{
     "type":"CODE",
     "hide_input_from_viewers":false,
     "hide_output_from_viewers":false
    }
   }
  },
  {
   "cell_type":"markdown",
   "source":[
    "## Масштабированние на основе Z-оценки"
   ],
   "attachments":{
    
   },
   "metadata":{
    "datalore":{
     "type":"MD",
     "hide_input_from_viewers":false,
     "hide_output_from_viewers":false
    }
   }
  },
  {
   "cell_type":"code",
   "source":[
    "standard_scaler = StandardScaler()\n",
    "standard_scaled_data = standard_scaler.fit_transform(data_comp[['Price']])"
   ],
   "execution_count":null,
   "outputs":[
    
   ],
   "metadata":{
    "datalore":{
     "type":"CODE",
     "hide_input_from_viewers":false,
     "hide_output_from_viewers":false
    }
   }
  },
  {
   "cell_type":"code",
   "source":[
    "sns.histplot(standard_scaled_data, bins= 75, legend=False)\n",
    "sns.despine()\n",
    "plt.show()"
   ],
   "execution_count":null,
   "outputs":[
    {
     "data":{
      "image\/png":"[encoded data removed]"
     },
     "metadata":{
      "image\/png":{
       
      }
     },
     "output_type":"display_data"
    }
   ],
   "metadata":{
    "datalore":{
     "type":"CODE",
     "hide_input_from_viewers":false,
     "hide_output_from_viewers":false
    }
   }
  }
 ],
 "metadata":{
  "datalore":{
   "version":1,
   "computation_mode":"JUPYTER",
   "package_manager":"pip",
   "base_environment":"default",
   "packages":[
    
   ]
  }
 },
 "nbformat":4,
 "nbformat_minor":4
}