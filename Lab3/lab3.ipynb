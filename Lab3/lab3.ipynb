{
 "cells":[
  {
   "cell_type":"markdown",
   "source":[
    "# Лабораторная работа №3\n",
    "\n",
    "### Подготовка обучающей и тестовой выборки, кросс-валидация и подбор гиперпараметров на примере метода ближайших соседей\n",
    "\n",
    "## Шкарин Егор, ИУ5-65Б\n",
    "\n",
    "Задание\n",
    "\n",
    "- Выберите набор данных (датасет) для решения задачи классификации или регрессии.\n",
    "- С использованием метода train_test_split разделите выборку на обучающую и тестовую.\n",
    "- Обучите модель ближайших соседей для произвольно заданного гиперпараметра K. Оцените качество модели с помощью        \n",
    "  подходящих для задачи метрик.\n",
    "- Произведите подбор гиперпараметра K с использованием GridSearchCV и\/или RandomizedSearchCV и кросс-валидации, оцените качество оптимальной модели. Желательно использование нескольких стратегий кросс-валидации.\n",
    "- Сравните метрики качества исходной и оптимальной моделей.\n",
    "\n",
    "Датасет: https:\/\/www.kaggle.com\/datasets\/vicsuperman\/prediction-of-music-genre"
   ],
   "attachments":{
    
   },
   "metadata":{
    "datalore":{
     "type":"MD",
     "hide_input_from_viewers":false,
     "hide_output_from_viewers":false
    }
   }
  },
  {
   "cell_type":"code",
   "source":[
    "import numpy as np\n",
    "import pandas as pd\n",
    "import matplotlib.pyplot as plt\n",
    "from typing import Dict"
   ],
   "execution_count":null,
   "outputs":[
    
   ],
   "metadata":{
    "datalore":{
     "type":"CODE",
     "hide_input_from_viewers":false,
     "hide_output_from_viewers":false
    }
   }
  },
  {
   "cell_type":"code",
   "source":[
    "data = pd.read_csv('music_genre.csv', sep=',')"
   ],
   "execution_count":null,
   "outputs":[
    
   ],
   "metadata":{
    "datalore":{
     "type":"CODE",
     "hide_input_from_viewers":false,
     "hide_output_from_viewers":false
    }
   }
  },
  {
   "cell_type":"markdown",
   "source":[
    "## Общая информация о датасете"
   ],
   "attachments":{
    
   },
   "metadata":{
    "datalore":{
     "type":"MD",
     "hide_input_from_viewers":false,
     "hide_output_from_viewers":false
    }
   }
  },
  {
   "cell_type":"code",
   "source":[
    "data.head(10)"
   ],
   "execution_count":null,
   "outputs":[
    {
     "data":{
      "text\/html":[
       "<div>\n",
       "<style scoped>\n",
       "    .dataframe tbody tr th:only-of-type {\n",
       "        vertical-align: middle;\n",
       "    }\n",
       "\n",
       "    .dataframe tbody tr th {\n",
       "        vertical-align: top;\n",
       "    }\n",
       "\n",
       "    .dataframe thead th {\n",
       "        text-align: right;\n",
       "    }\n",
       "<\/style>\n",
       "<table border=\"1\" class=\"dataframe\">\n",
       "  <thead>\n",
       "    <tr style=\"text-align: right;\">\n",
       "      <th><\/th>\n",
       "      <th>instance_id<\/th>\n",
       "      <th>artist_name<\/th>\n",
       "      <th>track_name<\/th>\n",
       "      <th>popularity<\/th>\n",
       "      <th>acousticness<\/th>\n",
       "      <th>danceability<\/th>\n",
       "      <th>duration_ms<\/th>\n",
       "      <th>energy<\/th>\n",
       "      <th>instrumentalness<\/th>\n",
       "      <th>key<\/th>\n",
       "      <th>liveness<\/th>\n",
       "      <th>loudness<\/th>\n",
       "      <th>mode<\/th>\n",
       "      <th>speechiness<\/th>\n",
       "      <th>tempo<\/th>\n",
       "      <th>obtained_date<\/th>\n",
       "      <th>valence<\/th>\n",
       "      <th>music_genre<\/th>\n",
       "    <\/tr>\n",
       "  <\/thead>\n",
       "  <tbody>\n",
       "    <tr>\n",
       "      <th>0<\/th>\n",
       "      <td>32894.0<\/td>\n",
       "      <td>Röyksopp<\/td>\n",
       "      <td>Röyksopp's Night Out<\/td>\n",
       "      <td>27.0<\/td>\n",
       "      <td>0.00468<\/td>\n",
       "      <td>0.652<\/td>\n",
       "      <td>-1.0<\/td>\n",
       "      <td>0.941<\/td>\n",
       "      <td>0.792000<\/td>\n",
       "      <td>A#<\/td>\n",
       "      <td>0.1150<\/td>\n",
       "      <td>-5.201<\/td>\n",
       "      <td>Minor<\/td>\n",
       "      <td>0.0748<\/td>\n",
       "      <td>100.889<\/td>\n",
       "      <td>4-Apr<\/td>\n",
       "      <td>0.759<\/td>\n",
       "      <td>Electronic<\/td>\n",
       "    <\/tr>\n",
       "    <tr>\n",
       "      <th>1<\/th>\n",
       "      <td>46652.0<\/td>\n",
       "      <td>Thievery Corporation<\/td>\n",
       "      <td>The Shining Path<\/td>\n",
       "      <td>31.0<\/td>\n",
       "      <td>0.01270<\/td>\n",
       "      <td>0.622<\/td>\n",
       "      <td>218293.0<\/td>\n",
       "      <td>0.890<\/td>\n",
       "      <td>0.950000<\/td>\n",
       "      <td>D<\/td>\n",
       "      <td>0.1240<\/td>\n",
       "      <td>-7.043<\/td>\n",
       "      <td>Minor<\/td>\n",
       "      <td>0.0300<\/td>\n",
       "      <td>115.00200000000001<\/td>\n",
       "      <td>4-Apr<\/td>\n",
       "      <td>0.531<\/td>\n",
       "      <td>Electronic<\/td>\n",
       "    <\/tr>\n",
       "    <tr>\n",
       "      <th>2<\/th>\n",
       "      <td>30097.0<\/td>\n",
       "      <td>Dillon Francis<\/td>\n",
       "      <td>Hurricane<\/td>\n",
       "      <td>28.0<\/td>\n",
       "      <td>0.00306<\/td>\n",
       "      <td>0.620<\/td>\n",
       "      <td>215613.0<\/td>\n",
       "      <td>0.755<\/td>\n",
       "      <td>0.011800<\/td>\n",
       "      <td>G#<\/td>\n",
       "      <td>0.5340<\/td>\n",
       "      <td>-4.617<\/td>\n",
       "      <td>Major<\/td>\n",
       "      <td>0.0345<\/td>\n",
       "      <td>127.994<\/td>\n",
       "      <td>4-Apr<\/td>\n",
       "      <td>0.333<\/td>\n",
       "      <td>Electronic<\/td>\n",
       "    <\/tr>\n",
       "    <tr>\n",
       "      <th>3<\/th>\n",
       "      <td>62177.0<\/td>\n",
       "      <td>Dubloadz<\/td>\n",
       "      <td>Nitro<\/td>\n",
       "      <td>34.0<\/td>\n",
       "      <td>0.02540<\/td>\n",
       "      <td>0.774<\/td>\n",
       "      <td>166875.0<\/td>\n",
       "      <td>0.700<\/td>\n",
       "      <td>0.002530<\/td>\n",
       "      <td>C#<\/td>\n",
       "      <td>0.1570<\/td>\n",
       "      <td>-4.498<\/td>\n",
       "      <td>Major<\/td>\n",
       "      <td>0.2390<\/td>\n",
       "      <td>128.014<\/td>\n",
       "      <td>4-Apr<\/td>\n",
       "      <td>0.270<\/td>\n",
       "      <td>Electronic<\/td>\n",
       "    <\/tr>\n",
       "    <tr>\n",
       "      <th>4<\/th>\n",
       "      <td>24907.0<\/td>\n",
       "      <td>What So Not<\/td>\n",
       "      <td>Divide &amp; Conquer<\/td>\n",
       "      <td>32.0<\/td>\n",
       "      <td>0.00465<\/td>\n",
       "      <td>0.638<\/td>\n",
       "      <td>222369.0<\/td>\n",
       "      <td>0.587<\/td>\n",
       "      <td>0.909000<\/td>\n",
       "      <td>F#<\/td>\n",
       "      <td>0.1570<\/td>\n",
       "      <td>-6.266<\/td>\n",
       "      <td>Major<\/td>\n",
       "      <td>0.0413<\/td>\n",
       "      <td>145.036<\/td>\n",
       "      <td>4-Apr<\/td>\n",
       "      <td>0.323<\/td>\n",
       "      <td>Electronic<\/td>\n",
       "    <\/tr>\n",
       "    <tr>\n",
       "      <th>5<\/th>\n",
       "      <td>89064.0<\/td>\n",
       "      <td>Axel Boman<\/td>\n",
       "      <td>Hello<\/td>\n",
       "      <td>47.0<\/td>\n",
       "      <td>0.00523<\/td>\n",
       "      <td>0.755<\/td>\n",
       "      <td>519468.0<\/td>\n",
       "      <td>0.731<\/td>\n",
       "      <td>0.854000<\/td>\n",
       "      <td>D<\/td>\n",
       "      <td>0.2160<\/td>\n",
       "      <td>-10.517<\/td>\n",
       "      <td>Minor<\/td>\n",
       "      <td>0.0412<\/td>\n",
       "      <td>?<\/td>\n",
       "      <td>4-Apr<\/td>\n",
       "      <td>0.614<\/td>\n",
       "      <td>Electronic<\/td>\n",
       "    <\/tr>\n",
       "    <tr>\n",
       "      <th>6<\/th>\n",
       "      <td>43760.0<\/td>\n",
       "      <td>Jordan Comolli<\/td>\n",
       "      <td>Clash<\/td>\n",
       "      <td>46.0<\/td>\n",
       "      <td>0.02890<\/td>\n",
       "      <td>0.572<\/td>\n",
       "      <td>214408.0<\/td>\n",
       "      <td>0.803<\/td>\n",
       "      <td>0.000008<\/td>\n",
       "      <td>B<\/td>\n",
       "      <td>0.1060<\/td>\n",
       "      <td>-4.294<\/td>\n",
       "      <td>Major<\/td>\n",
       "      <td>0.3510<\/td>\n",
       "      <td>149.995<\/td>\n",
       "      <td>4-Apr<\/td>\n",
       "      <td>0.230<\/td>\n",
       "      <td>Electronic<\/td>\n",
       "    <\/tr>\n",
       "    <tr>\n",
       "      <th>7<\/th>\n",
       "      <td>30738.0<\/td>\n",
       "      <td>Hraach<\/td>\n",
       "      <td>Delirio<\/td>\n",
       "      <td>43.0<\/td>\n",
       "      <td>0.02970<\/td>\n",
       "      <td>0.809<\/td>\n",
       "      <td>416132.0<\/td>\n",
       "      <td>0.706<\/td>\n",
       "      <td>0.903000<\/td>\n",
       "      <td>G<\/td>\n",
       "      <td>0.0635<\/td>\n",
       "      <td>-9.339<\/td>\n",
       "      <td>Minor<\/td>\n",
       "      <td>0.0484<\/td>\n",
       "      <td>120.008<\/td>\n",
       "      <td>4-Apr<\/td>\n",
       "      <td>0.761<\/td>\n",
       "      <td>Electronic<\/td>\n",
       "    <\/tr>\n",
       "    <tr>\n",
       "      <th>8<\/th>\n",
       "      <td>84950.0<\/td>\n",
       "      <td>Kayzo<\/td>\n",
       "      <td>NEVER ALONE<\/td>\n",
       "      <td>39.0<\/td>\n",
       "      <td>0.00299<\/td>\n",
       "      <td>0.509<\/td>\n",
       "      <td>292800.0<\/td>\n",
       "      <td>0.921<\/td>\n",
       "      <td>0.000276<\/td>\n",
       "      <td>F<\/td>\n",
       "      <td>0.1780<\/td>\n",
       "      <td>-3.175<\/td>\n",
       "      <td>Minor<\/td>\n",
       "      <td>0.2680<\/td>\n",
       "      <td>149.94799999999998<\/td>\n",
       "      <td>4-Apr<\/td>\n",
       "      <td>0.273<\/td>\n",
       "      <td>Electronic<\/td>\n",
       "    <\/tr>\n",
       "    <tr>\n",
       "      <th>9<\/th>\n",
       "      <td>56950.0<\/td>\n",
       "      <td>Shlump<\/td>\n",
       "      <td>Lazer Beam<\/td>\n",
       "      <td>22.0<\/td>\n",
       "      <td>0.00934<\/td>\n",
       "      <td>0.578<\/td>\n",
       "      <td>204800.0<\/td>\n",
       "      <td>0.731<\/td>\n",
       "      <td>0.011200<\/td>\n",
       "      <td>A<\/td>\n",
       "      <td>0.1110<\/td>\n",
       "      <td>-7.091<\/td>\n",
       "      <td>Minor<\/td>\n",
       "      <td>0.1730<\/td>\n",
       "      <td>139.933<\/td>\n",
       "      <td>4-Apr<\/td>\n",
       "      <td>0.203<\/td>\n",
       "      <td>Electronic<\/td>\n",
       "    <\/tr>\n",
       "  <\/tbody>\n",
       "<\/table>\n",
       "<\/div>"
      ]
     },
     "metadata":{
      
     },
     "output_type":"display_data"
    }
   ],
   "metadata":{
    "datalore":{
     "type":"CODE",
     "hide_input_from_viewers":false,
     "hide_output_from_viewers":false
    }
   }
  },
  {
   "cell_type":"code",
   "source":[
    "data.describe()"
   ],
   "execution_count":null,
   "outputs":[
    {
     "data":{
      "text\/html":[
       "<div>\n",
       "<style scoped>\n",
       "    .dataframe tbody tr th:only-of-type {\n",
       "        vertical-align: middle;\n",
       "    }\n",
       "\n",
       "    .dataframe tbody tr th {\n",
       "        vertical-align: top;\n",
       "    }\n",
       "\n",
       "    .dataframe thead th {\n",
       "        text-align: right;\n",
       "    }\n",
       "<\/style>\n",
       "<table border=\"1\" class=\"dataframe\">\n",
       "  <thead>\n",
       "    <tr style=\"text-align: right;\">\n",
       "      <th><\/th>\n",
       "      <th>instance_id<\/th>\n",
       "      <th>popularity<\/th>\n",
       "      <th>acousticness<\/th>\n",
       "      <th>danceability<\/th>\n",
       "      <th>duration_ms<\/th>\n",
       "      <th>energy<\/th>\n",
       "      <th>instrumentalness<\/th>\n",
       "      <th>liveness<\/th>\n",
       "      <th>loudness<\/th>\n",
       "      <th>speechiness<\/th>\n",
       "      <th>valence<\/th>\n",
       "    <\/tr>\n",
       "  <\/thead>\n",
       "  <tbody>\n",
       "    <tr>\n",
       "      <th>count<\/th>\n",
       "      <td>50000.000000<\/td>\n",
       "      <td>50000.000000<\/td>\n",
       "      <td>50000.000000<\/td>\n",
       "      <td>50000.000000<\/td>\n",
       "      <td>5.000000e+04<\/td>\n",
       "      <td>50000.000000<\/td>\n",
       "      <td>50000.000000<\/td>\n",
       "      <td>50000.000000<\/td>\n",
       "      <td>50000.000000<\/td>\n",
       "      <td>50000.000000<\/td>\n",
       "      <td>50000.000000<\/td>\n",
       "    <\/tr>\n",
       "    <tr>\n",
       "      <th>mean<\/th>\n",
       "      <td>55888.396360<\/td>\n",
       "      <td>44.220420<\/td>\n",
       "      <td>0.306383<\/td>\n",
       "      <td>0.558241<\/td>\n",
       "      <td>2.212526e+05<\/td>\n",
       "      <td>0.599755<\/td>\n",
       "      <td>0.181601<\/td>\n",
       "      <td>0.193896<\/td>\n",
       "      <td>-9.133761<\/td>\n",
       "      <td>0.093586<\/td>\n",
       "      <td>0.456264<\/td>\n",
       "    <\/tr>\n",
       "    <tr>\n",
       "      <th>std<\/th>\n",
       "      <td>20725.256253<\/td>\n",
       "      <td>15.542008<\/td>\n",
       "      <td>0.341340<\/td>\n",
       "      <td>0.178632<\/td>\n",
       "      <td>1.286720e+05<\/td>\n",
       "      <td>0.264559<\/td>\n",
       "      <td>0.325409<\/td>\n",
       "      <td>0.161637<\/td>\n",
       "      <td>6.162990<\/td>\n",
       "      <td>0.101373<\/td>\n",
       "      <td>0.247119<\/td>\n",
       "    <\/tr>\n",
       "    <tr>\n",
       "      <th>min<\/th>\n",
       "      <td>20002.000000<\/td>\n",
       "      <td>0.000000<\/td>\n",
       "      <td>0.000000<\/td>\n",
       "      <td>0.059600<\/td>\n",
       "      <td>-1.000000e+00<\/td>\n",
       "      <td>0.000792<\/td>\n",
       "      <td>0.000000<\/td>\n",
       "      <td>0.009670<\/td>\n",
       "      <td>-47.046000<\/td>\n",
       "      <td>0.022300<\/td>\n",
       "      <td>0.000000<\/td>\n",
       "    <\/tr>\n",
       "    <tr>\n",
       "      <th>25%<\/th>\n",
       "      <td>37973.500000<\/td>\n",
       "      <td>34.000000<\/td>\n",
       "      <td>0.020000<\/td>\n",
       "      <td>0.442000<\/td>\n",
       "      <td>1.748000e+05<\/td>\n",
       "      <td>0.433000<\/td>\n",
       "      <td>0.000000<\/td>\n",
       "      <td>0.096900<\/td>\n",
       "      <td>-10.860000<\/td>\n",
       "      <td>0.036100<\/td>\n",
       "      <td>0.257000<\/td>\n",
       "    <\/tr>\n",
       "    <tr>\n",
       "      <th>50%<\/th>\n",
       "      <td>55913.500000<\/td>\n",
       "      <td>45.000000<\/td>\n",
       "      <td>0.144000<\/td>\n",
       "      <td>0.568000<\/td>\n",
       "      <td>2.192810e+05<\/td>\n",
       "      <td>0.643000<\/td>\n",
       "      <td>0.000158<\/td>\n",
       "      <td>0.126000<\/td>\n",
       "      <td>-7.276500<\/td>\n",
       "      <td>0.048900<\/td>\n",
       "      <td>0.448000<\/td>\n",
       "    <\/tr>\n",
       "    <tr>\n",
       "      <th>75%<\/th>\n",
       "      <td>73863.250000<\/td>\n",
       "      <td>56.000000<\/td>\n",
       "      <td>0.552000<\/td>\n",
       "      <td>0.687000<\/td>\n",
       "      <td>2.686122e+05<\/td>\n",
       "      <td>0.815000<\/td>\n",
       "      <td>0.155000<\/td>\n",
       "      <td>0.244000<\/td>\n",
       "      <td>-5.173000<\/td>\n",
       "      <td>0.098525<\/td>\n",
       "      <td>0.648000<\/td>\n",
       "    <\/tr>\n",
       "    <tr>\n",
       "      <th>max<\/th>\n",
       "      <td>91759.000000<\/td>\n",
       "      <td>99.000000<\/td>\n",
       "      <td>0.996000<\/td>\n",
       "      <td>0.986000<\/td>\n",
       "      <td>4.830606e+06<\/td>\n",
       "      <td>0.999000<\/td>\n",
       "      <td>0.996000<\/td>\n",
       "      <td>1.000000<\/td>\n",
       "      <td>3.744000<\/td>\n",
       "      <td>0.942000<\/td>\n",
       "      <td>0.992000<\/td>\n",
       "    <\/tr>\n",
       "  <\/tbody>\n",
       "<\/table>\n",
       "<\/div>"
      ]
     },
     "metadata":{
      
     },
     "output_type":"display_data"
    }
   ],
   "metadata":{
    "datalore":{
     "type":"CODE",
     "hide_input_from_viewers":false,
     "hide_output_from_viewers":false
    }
   }
  },
  {
   "cell_type":"code",
   "source":[
    "data.shape"
   ],
   "execution_count":null,
   "outputs":[
    {
     "data":{
      "text\/plain":[
       "(50000, 18)"
      ]
     },
     "metadata":{
      
     },
     "output_type":"display_data"
    }
   ],
   "metadata":{
    "datalore":{
     "type":"CODE",
     "hide_input_from_viewers":false,
     "hide_output_from_viewers":false
    }
   }
  },
  {
   "cell_type":"code",
   "source":[
    "data.isnull().sum()"
   ],
   "execution_count":null,
   "outputs":[
    {
     "data":{
      "text\/html":[
       
      ]
     },
     "metadata":{
      
     },
     "output_type":"display_data"
    }
   ],
   "metadata":{
    "datalore":{
     "type":"CODE",
     "hide_input_from_viewers":false,
     "hide_output_from_viewers":false
    }
   }
  },
  {
   "cell_type":"code",
   "source":[
    "data.dtypes"
   ],
   "execution_count":null,
   "outputs":[
    {
     "data":{
      "text\/html":[
       
      ]
     },
     "metadata":{
      
     },
     "output_type":"display_data"
    }
   ],
   "metadata":{
    "datalore":{
     "type":"CODE",
     "hide_input_from_viewers":false,
     "hide_output_from_viewers":false
    }
   }
  },
  {
   "cell_type":"code",
   "source":[
    "# Посмотрим на соотношение классов целевого признака\n",
    "for cls in pd.unique(data['music_genre'], ):\n",
    "    print(f'Класс {cls}. Процент {data[data[\"music_genre\"] == str(cls)].shape[0]\/data.shape[0] * 100}%')"
   ],
   "execution_count":null,
   "outputs":[
    {
     "name":"stdout",
     "text":[
      "Класс Electronic. Процент 10.0%\n",
      "Класс Anime. Процент 10.0%\n",
      "Класс Jazz. Процент 10.0%\n",
      "Класс Alternative. Процент 10.0%\n",
      "Класс Country. Процент 10.0%\n",
      "Класс Rap. Процент 10.0%\n",
      "Класс Blues. Процент 10.0%\n",
      "Класс Rock. Процент 10.0%\n",
      "Класс Classical. Процент 10.0%\n",
      "Класс Hip-Hop. Процент 10.0%\n"
     ],
     "output_type":"stream"
    }
   ],
   "metadata":{
    "datalore":{
     "type":"CODE",
     "hide_input_from_viewers":false,
     "hide_output_from_viewers":false
    }
   }
  },
  {
   "cell_type":"markdown",
   "source":[
    "## Предобработка данных\n",
    "### Заполнение пропусков\n",
    "Колонка tempo должна иметь тип float64, но из-за того что отсутствующие значения заполнили занаками вопроса, она имеет тип object. Исправим это"
   ],
   "attachments":{
    
   },
   "metadata":{
    "datalore":{
     "type":"MD",
     "hide_input_from_viewers":false,
     "hide_output_from_viewers":false
    }
   }
  },
  {
   "cell_type":"code",
   "source":[
    "data['tempo'] = pd.to_numeric(data['tempo'], errors='coerce')  # errors='coerce' заполняет ошибки NaN\n",
    "data.dtypes"
   ],
   "execution_count":null,
   "outputs":[
    {
     "data":{
      "text\/html":[
       
      ]
     },
     "metadata":{
      
     },
     "output_type":"display_data"
    }
   ],
   "metadata":{
    "datalore":{
     "type":"CODE",
     "hide_input_from_viewers":false,
     "hide_output_from_viewers":false
    }
   }
  },
  {
   "cell_type":"code",
   "source":[
    "from sklearn.impute import SimpleImputer, MissingIndicator\n",
    "indicator = MissingIndicator()\n",
    "missing_tempo = indicator.fit_transform(data[['tempo']])\n",
    "\n",
    "imp_tempo = SimpleImputer(strategy='median')\n",
    "data[['tempo']] = imp_tempo.fit_transform(data[['tempo']])\n",
    "data[missing_tempo]['tempo']"
   ],
   "execution_count":null,
   "outputs":[
    {
     "data":{
      "text\/html":[
       
      ]
     },
     "metadata":{
      
     },
     "output_type":"display_data"
    }
   ],
   "metadata":{
    "datalore":{
     "type":"CODE",
     "hide_input_from_viewers":false,
     "hide_output_from_viewers":false
    }
   }
  },
  {
   "cell_type":"markdown",
   "source":[
    "Также пропуски были обнаружены в колонке duration_ms. Они были записаны как -1"
   ],
   "attachments":{
    
   },
   "metadata":{
    "datalore":{
     "type":"MD",
     "hide_input_from_viewers":false,
     "hide_output_from_viewers":false
    }
   }
  },
  {
   "cell_type":"code",
   "source":[
    "data_dur = data[['duration_ms']].copy()\n",
    "data_dur[data_dur['duration_ms'] == -1] = np.nan\n",
    "data_dur.head()"
   ],
   "execution_count":null,
   "outputs":[
    {
     "data":{
      "text\/html":[
       "<div>\n",
       "<style scoped>\n",
       "    .dataframe tbody tr th:only-of-type {\n",
       "        vertical-align: middle;\n",
       "    }\n",
       "\n",
       "    .dataframe tbody tr th {\n",
       "        vertical-align: top;\n",
       "    }\n",
       "\n",
       "    .dataframe thead th {\n",
       "        text-align: right;\n",
       "    }\n",
       "<\/style>\n",
       "<table border=\"1\" class=\"dataframe\">\n",
       "  <thead>\n",
       "    <tr style=\"text-align: right;\">\n",
       "      <th><\/th>\n",
       "      <th>duration_ms<\/th>\n",
       "    <\/tr>\n",
       "  <\/thead>\n",
       "  <tbody>\n",
       "    <tr>\n",
       "      <th>0<\/th>\n",
       "      <td>NaN<\/td>\n",
       "    <\/tr>\n",
       "    <tr>\n",
       "      <th>1<\/th>\n",
       "      <td>218293.0<\/td>\n",
       "    <\/tr>\n",
       "    <tr>\n",
       "      <th>2<\/th>\n",
       "      <td>215613.0<\/td>\n",
       "    <\/tr>\n",
       "    <tr>\n",
       "      <th>3<\/th>\n",
       "      <td>166875.0<\/td>\n",
       "    <\/tr>\n",
       "    <tr>\n",
       "      <th>4<\/th>\n",
       "      <td>222369.0<\/td>\n",
       "    <\/tr>\n",
       "  <\/tbody>\n",
       "<\/table>\n",
       "<\/div>"
      ]
     },
     "metadata":{
      
     },
     "output_type":"display_data"
    }
   ],
   "metadata":{
    "datalore":{
     "type":"CODE",
     "hide_input_from_viewers":false,
     "hide_output_from_viewers":false
    }
   }
  },
  {
   "cell_type":"markdown",
   "source":[
    "\n",
    "Теперь заполним эти пропуски"
   ],
   "attachments":{
    
   },
   "metadata":{
    "datalore":{
     "type":"MD",
     "hide_input_from_viewers":false,
     "hide_output_from_viewers":false
    }
   }
  },
  {
   "cell_type":"code",
   "source":[
    "indicator = MissingIndicator()\n",
    "missing_duration = indicator.fit_transform(data_dur[['duration_ms']])\n",
    "\n",
    "imp_duration = SimpleImputer(strategy='median')\n",
    "data[['duration_ms']] = imp_duration.fit_transform(data_dur[['duration_ms']])\n",
    "data[missing_duration]['duration_ms']"
   ],
   "execution_count":null,
   "outputs":[
    {
     "data":{
      "text\/html":[
       
      ]
     },
     "metadata":{
      
     },
     "output_type":"display_data"
    }
   ],
   "metadata":{
    "datalore":{
     "type":"CODE",
     "hide_input_from_viewers":false,
     "hide_output_from_viewers":false
    }
   }
  },
  {
   "cell_type":"markdown",
   "source":[
    "### Кодирование категориальных атрибутов\n",
    "Для корректной работы алгоритма необходимо закодировать категориальные признаки"
   ],
   "attachments":{
    
   },
   "metadata":{
    "datalore":{
     "type":"MD",
     "hide_input_from_viewers":false,
     "hide_output_from_viewers":false
    }
   }
  },
  {
   "cell_type":"code",
   "source":[
    "data: pd.DataFrame = data.drop(columns=['obtained_date', 'track_name', 'instance_id'])"
   ],
   "execution_count":null,
   "outputs":[
    
   ],
   "metadata":{
    "datalore":{
     "type":"CODE",
     "hide_input_from_viewers":false,
     "hide_output_from_viewers":false
    }
   }
  },
  {
   "cell_type":"code",
   "source":[
    "from sklearn.preprocessing import OrdinalEncoder, LabelEncoder\n",
    "oe = OrdinalEncoder()\n",
    "le = LabelEncoder()\n",
    "\n",
    "data_coded: pd.DataFrame = data.copy()\n",
    "\n",
    "atr_coded = oe.fit_transform(data[['artist_name', 'key']])\n",
    "target_coded = le.fit_transform(data['music_genre'])\n",
    "data_coded[['artist_name', 'key']] = atr_coded\n",
    "data_coded['music_genre'] = target_coded\n",
    "dummies = pd.get_dummies(data_coded[['mode']])\n",
    "data_coded[dummies.columns] = dummies[dummies.columns]\n",
    "data_coded = data_coded.drop(columns=['mode'])\n",
    "data_coded.head()"
   ],
   "execution_count":null,
   "outputs":[
    {
     "data":{
      "text\/html":[
       "<div>\n",
       "<style scoped>\n",
       "    .dataframe tbody tr th:only-of-type {\n",
       "        vertical-align: middle;\n",
       "    }\n",
       "\n",
       "    .dataframe tbody tr th {\n",
       "        vertical-align: top;\n",
       "    }\n",
       "\n",
       "    .dataframe thead th {\n",
       "        text-align: right;\n",
       "    }\n",
       "<\/style>\n",
       "<table border=\"1\" class=\"dataframe\">\n",
       "  <thead>\n",
       "    <tr style=\"text-align: right;\">\n",
       "      <th><\/th>\n",
       "      <th>artist_name<\/th>\n",
       "      <th>popularity<\/th>\n",
       "      <th>acousticness<\/th>\n",
       "      <th>danceability<\/th>\n",
       "      <th>duration_ms<\/th>\n",
       "      <th>energy<\/th>\n",
       "      <th>instrumentalness<\/th>\n",
       "      <th>key<\/th>\n",
       "      <th>liveness<\/th>\n",
       "      <th>loudness<\/th>\n",
       "      <th>speechiness<\/th>\n",
       "      <th>tempo<\/th>\n",
       "      <th>valence<\/th>\n",
       "      <th>music_genre<\/th>\n",
       "      <th>mode_Major<\/th>\n",
       "      <th>mode_Minor<\/th>\n",
       "    <\/tr>\n",
       "  <\/thead>\n",
       "  <tbody>\n",
       "    <tr>\n",
       "      <th>0<\/th>\n",
       "      <td>5029.0<\/td>\n",
       "      <td>27.0<\/td>\n",
       "      <td>0.00468<\/td>\n",
       "      <td>0.652<\/td>\n",
       "      <td>227360.0<\/td>\n",
       "      <td>0.941<\/td>\n",
       "      <td>0.79200<\/td>\n",
       "      <td>1.0<\/td>\n",
       "      <td>0.115<\/td>\n",
       "      <td>-5.201<\/td>\n",
       "      <td>0.0748<\/td>\n",
       "      <td>100.889<\/td>\n",
       "      <td>0.759<\/td>\n",
       "      <td>5<\/td>\n",
       "      <td>0<\/td>\n",
       "      <td>1<\/td>\n",
       "    <\/tr>\n",
       "    <tr>\n",
       "      <th>1<\/th>\n",
       "      <td>6117.0<\/td>\n",
       "      <td>31.0<\/td>\n",
       "      <td>0.01270<\/td>\n",
       "      <td>0.622<\/td>\n",
       "      <td>218293.0<\/td>\n",
       "      <td>0.890<\/td>\n",
       "      <td>0.95000<\/td>\n",
       "      <td>5.0<\/td>\n",
       "      <td>0.124<\/td>\n",
       "      <td>-7.043<\/td>\n",
       "      <td>0.0300<\/td>\n",
       "      <td>115.002<\/td>\n",
       "      <td>0.531<\/td>\n",
       "      <td>5<\/td>\n",
       "      <td>0<\/td>\n",
       "      <td>1<\/td>\n",
       "    <\/tr>\n",
       "    <tr>\n",
       "      <th>2<\/th>\n",
       "      <td>1591.0<\/td>\n",
       "      <td>28.0<\/td>\n",
       "      <td>0.00306<\/td>\n",
       "      <td>0.620<\/td>\n",
       "      <td>215613.0<\/td>\n",
       "      <td>0.755<\/td>\n",
       "      <td>0.01180<\/td>\n",
       "      <td>11.0<\/td>\n",
       "      <td>0.534<\/td>\n",
       "      <td>-4.617<\/td>\n",
       "      <td>0.0345<\/td>\n",
       "      <td>127.994<\/td>\n",
       "      <td>0.333<\/td>\n",
       "      <td>5<\/td>\n",
       "      <td>1<\/td>\n",
       "      <td>0<\/td>\n",
       "    <\/tr>\n",
       "    <tr>\n",
       "      <th>3<\/th>\n",
       "      <td>1707.0<\/td>\n",
       "      <td>34.0<\/td>\n",
       "      <td>0.02540<\/td>\n",
       "      <td>0.774<\/td>\n",
       "      <td>166875.0<\/td>\n",
       "      <td>0.700<\/td>\n",
       "      <td>0.00253<\/td>\n",
       "      <td>4.0<\/td>\n",
       "      <td>0.157<\/td>\n",
       "      <td>-4.498<\/td>\n",
       "      <td>0.2390<\/td>\n",
       "      <td>128.014<\/td>\n",
       "      <td>0.270<\/td>\n",
       "      <td>5<\/td>\n",
       "      <td>1<\/td>\n",
       "      <td>0<\/td>\n",
       "    <\/tr>\n",
       "    <tr>\n",
       "      <th>4<\/th>\n",
       "      <td>6519.0<\/td>\n",
       "      <td>32.0<\/td>\n",
       "      <td>0.00465<\/td>\n",
       "      <td>0.638<\/td>\n",
       "      <td>222369.0<\/td>\n",
       "      <td>0.587<\/td>\n",
       "      <td>0.90900<\/td>\n",
       "      <td>9.0<\/td>\n",
       "      <td>0.157<\/td>\n",
       "      <td>-6.266<\/td>\n",
       "      <td>0.0413<\/td>\n",
       "      <td>145.036<\/td>\n",
       "      <td>0.323<\/td>\n",
       "      <td>5<\/td>\n",
       "      <td>1<\/td>\n",
       "      <td>0<\/td>\n",
       "    <\/tr>\n",
       "  <\/tbody>\n",
       "<\/table>\n",
       "<\/div>"
      ]
     },
     "metadata":{
      
     },
     "output_type":"display_data"
    }
   ],
   "metadata":{
    "datalore":{
     "type":"CODE",
     "hide_input_from_viewers":false,
     "hide_output_from_viewers":false
    }
   }
  },
  {
   "cell_type":"code",
   "source":[
    "# Классы целевого признака\n",
    "le.classes_"
   ],
   "execution_count":null,
   "outputs":[
    {
     "data":{
      "text\/html":[
       
      ]
     },
     "metadata":{
      
     },
     "output_type":"display_data"
    }
   ],
   "metadata":{
    "datalore":{
     "type":"CODE",
     "hide_input_from_viewers":false,
     "hide_output_from_viewers":false
    }
   }
  },
  {
   "cell_type":"markdown",
   "source":[
    "### Масштабирование"
   ],
   "attachments":{
    
   },
   "metadata":{
    "datalore":{
     "type":"MD",
     "hide_input_from_viewers":false,
     "hide_output_from_viewers":false
    }
   }
  },
  {
   "cell_type":"code",
   "source":[
    "from sklearn.preprocessing import StandardScaler\n",
    "\n",
    "scl = StandardScaler()\n",
    "data_scaled = data_coded.copy()\n",
    "data_scaled[data_coded.drop(columns=['music_genre']).columns] = scl.fit_transform(data_coded.drop(columns=['music_genre']))\n",
    "data_scaled.head()"
   ],
   "execution_count":null,
   "outputs":[
    {
     "data":{
      "text\/html":[
       "<div>\n",
       "<style scoped>\n",
       "    .dataframe tbody tr th:only-of-type {\n",
       "        vertical-align: middle;\n",
       "    }\n",
       "\n",
       "    .dataframe tbody tr th {\n",
       "        vertical-align: top;\n",
       "    }\n",
       "\n",
       "    .dataframe thead th {\n",
       "        text-align: right;\n",
       "    }\n",
       "<\/style>\n",
       "<table border=\"1\" class=\"dataframe\">\n",
       "  <thead>\n",
       "    <tr style=\"text-align: right;\">\n",
       "      <th><\/th>\n",
       "      <th>artist_name<\/th>\n",
       "      <th>popularity<\/th>\n",
       "      <th>acousticness<\/th>\n",
       "      <th>danceability<\/th>\n",
       "      <th>duration_ms<\/th>\n",
       "      <th>energy<\/th>\n",
       "      <th>instrumentalness<\/th>\n",
       "      <th>key<\/th>\n",
       "      <th>liveness<\/th>\n",
       "      <th>loudness<\/th>\n",
       "      <th>speechiness<\/th>\n",
       "      <th>tempo<\/th>\n",
       "      <th>valence<\/th>\n",
       "      <th>music_genre<\/th>\n",
       "      <th>mode_Major<\/th>\n",
       "      <th>mode_Minor<\/th>\n",
       "    <\/tr>\n",
       "  <\/thead>\n",
       "  <tbody>\n",
       "    <tr>\n",
       "      <th>0<\/th>\n",
       "      <td>0.695929<\/td>\n",
       "      <td>-1.108003<\/td>\n",
       "      <td>-0.883886<\/td>\n",
       "      <td>0.524878<\/td>\n",
       "      <td>-0.154369<\/td>\n",
       "      <td>1.289876<\/td>\n",
       "      <td>1.875809<\/td>\n",
       "      <td>-1.259526<\/td>\n",
       "      <td>-0.488113<\/td>\n",
       "      <td>0.638132<\/td>\n",
       "      <td>-0.185322<\/td>\n",
       "      <td>-0.655420<\/td>\n",
       "      <td>1.225073<\/td>\n",
       "      <td>5<\/td>\n",
       "      <td>-1.339082<\/td>\n",
       "      <td>1.339082<\/td>\n",
       "    <\/tr>\n",
       "    <tr>\n",
       "      <th>1<\/th>\n",
       "      <td>1.221540<\/td>\n",
       "      <td>-0.850633<\/td>\n",
       "      <td>-0.860390<\/td>\n",
       "      <td>0.356933<\/td>\n",
       "      <td>-0.239968<\/td>\n",
       "      <td>1.097101<\/td>\n",
       "      <td>2.361357<\/td>\n",
       "      <td>-0.102517<\/td>\n",
       "      <td>-0.432433<\/td>\n",
       "      <td>0.339248<\/td>\n",
       "      <td>-0.627258<\/td>\n",
       "      <td>-0.170027<\/td>\n",
       "      <td>0.302431<\/td>\n",
       "      <td>5<\/td>\n",
       "      <td>-1.339082<\/td>\n",
       "      <td>1.339082<\/td>\n",
       "    <\/tr>\n",
       "    <tr>\n",
       "      <th>2<\/th>\n",
       "      <td>-0.964965<\/td>\n",
       "      <td>-1.043661<\/td>\n",
       "      <td>-0.888632<\/td>\n",
       "      <td>0.345737<\/td>\n",
       "      <td>-0.265269<\/td>\n",
       "      <td>0.586813<\/td>\n",
       "      <td>-0.521812<\/td>\n",
       "      <td>1.632996<\/td>\n",
       "      <td>2.104140<\/td>\n",
       "      <td>0.732892<\/td>\n",
       "      <td>-0.582867<\/td>\n",
       "      <td>0.276811<\/td>\n",
       "      <td>-0.498812<\/td>\n",
       "      <td>5<\/td>\n",
       "      <td>0.746780<\/td>\n",
       "      <td>-0.746780<\/td>\n",
       "    <\/tr>\n",
       "    <tr>\n",
       "      <th>3<\/th>\n",
       "      <td>-0.908926<\/td>\n",
       "      <td>-0.657606<\/td>\n",
       "      <td>-0.823184<\/td>\n",
       "      <td>1.207853<\/td>\n",
       "      <td>-0.725393<\/td>\n",
       "      <td>0.378918<\/td>\n",
       "      <td>-0.550300<\/td>\n",
       "      <td>-0.391769<\/td>\n",
       "      <td>-0.228269<\/td>\n",
       "      <td>0.752201<\/td>\n",
       "      <td>1.434452<\/td>\n",
       "      <td>0.277499<\/td>\n",
       "      <td>-0.753752<\/td>\n",
       "      <td>5<\/td>\n",
       "      <td>0.746780<\/td>\n",
       "      <td>-0.746780<\/td>\n",
       "    <\/tr>\n",
       "    <tr>\n",
       "      <th>4<\/th>\n",
       "      <td>1.415746<\/td>\n",
       "      <td>-0.786291<\/td>\n",
       "      <td>-0.883974<\/td>\n",
       "      <td>0.446504<\/td>\n",
       "      <td>-0.201488<\/td>\n",
       "      <td>-0.048212<\/td>\n",
       "      <td>2.235361<\/td>\n",
       "      <td>1.054492<\/td>\n",
       "      <td>-0.228269<\/td>\n",
       "      <td>0.465324<\/td>\n",
       "      <td>-0.515787<\/td>\n",
       "      <td>0.862942<\/td>\n",
       "      <td>-0.539278<\/td>\n",
       "      <td>5<\/td>\n",
       "      <td>0.746780<\/td>\n",
       "      <td>-0.746780<\/td>\n",
       "    <\/tr>\n",
       "  <\/tbody>\n",
       "<\/table>\n",
       "<\/div>"
      ]
     },
     "metadata":{
      
     },
     "output_type":"display_data"
    }
   ],
   "metadata":{
    "datalore":{
     "type":"CODE",
     "hide_input_from_viewers":false,
     "hide_output_from_viewers":false
    }
   }
  },
  {
   "cell_type":"code",
   "source":[
    "data_scaled.describe()"
   ],
   "execution_count":null,
   "outputs":[
    {
     "data":{
      "text\/html":[
       "<div>\n",
       "<style scoped>\n",
       "    .dataframe tbody tr th:only-of-type {\n",
       "        vertical-align: middle;\n",
       "    }\n",
       "\n",
       "    .dataframe tbody tr th {\n",
       "        vertical-align: top;\n",
       "    }\n",
       "\n",
       "    .dataframe thead th {\n",
       "        text-align: right;\n",
       "    }\n",
       "<\/style>\n",
       "<table border=\"1\" class=\"dataframe\">\n",
       "  <thead>\n",
       "    <tr style=\"text-align: right;\">\n",
       "      <th><\/th>\n",
       "      <th>artist_name<\/th>\n",
       "      <th>popularity<\/th>\n",
       "      <th>acousticness<\/th>\n",
       "      <th>danceability<\/th>\n",
       "      <th>duration_ms<\/th>\n",
       "      <th>energy<\/th>\n",
       "      <th>instrumentalness<\/th>\n",
       "      <th>key<\/th>\n",
       "      <th>liveness<\/th>\n",
       "      <th>loudness<\/th>\n",
       "      <th>speechiness<\/th>\n",
       "      <th>tempo<\/th>\n",
       "      <th>valence<\/th>\n",
       "      <th>music_genre<\/th>\n",
       "      <th>mode_Major<\/th>\n",
       "      <th>mode_Minor<\/th>\n",
       "    <\/tr>\n",
       "  <\/thead>\n",
       "  <tbody>\n",
       "    <tr>\n",
       "      <th>count<\/th>\n",
       "      <td>5.000000e+04<\/td>\n",
       "      <td>5.000000e+04<\/td>\n",
       "      <td>5.000000e+04<\/td>\n",
       "      <td>5.000000e+04<\/td>\n",
       "      <td>5.000000e+04<\/td>\n",
       "      <td>5.000000e+04<\/td>\n",
       "      <td>5.000000e+04<\/td>\n",
       "      <td>5.000000e+04<\/td>\n",
       "      <td>5.000000e+04<\/td>\n",
       "      <td>5.000000e+04<\/td>\n",
       "      <td>5.000000e+04<\/td>\n",
       "      <td>5.000000e+04<\/td>\n",
       "      <td>5.000000e+04<\/td>\n",
       "      <td>50000.00000<\/td>\n",
       "      <td>5.000000e+04<\/td>\n",
       "      <td>5.000000e+04<\/td>\n",
       "    <\/tr>\n",
       "    <tr>\n",
       "      <th>mean<\/th>\n",
       "      <td>-4.689582e-18<\/td>\n",
       "      <td>1.796252e-16<\/td>\n",
       "      <td>2.842171e-16<\/td>\n",
       "      <td>-1.250555e-16<\/td>\n",
       "      <td>9.833911e-17<\/td>\n",
       "      <td>-7.958079e-18<\/td>\n",
       "      <td>-2.728484e-17<\/td>\n",
       "      <td>-5.400125e-17<\/td>\n",
       "      <td>-1.014655e-16<\/td>\n",
       "      <td>-1.136868e-16<\/td>\n",
       "      <td>-9.094947e-17<\/td>\n",
       "      <td>6.230039e-16<\/td>\n",
       "      <td>8.128609e-17<\/td>\n",
       "      <td>4.50000<\/td>\n",
       "      <td>2.273737e-17<\/td>\n",
       "      <td>-2.273737e-17<\/td>\n",
       "    <\/tr>\n",
       "    <tr>\n",
       "      <th>std<\/th>\n",
       "      <td>1.000010e+00<\/td>\n",
       "      <td>1.000010e+00<\/td>\n",
       "      <td>1.000010e+00<\/td>\n",
       "      <td>1.000010e+00<\/td>\n",
       "      <td>1.000010e+00<\/td>\n",
       "      <td>1.000010e+00<\/td>\n",
       "      <td>1.000010e+00<\/td>\n",
       "      <td>1.000010e+00<\/td>\n",
       "      <td>1.000010e+00<\/td>\n",
       "      <td>1.000010e+00<\/td>\n",
       "      <td>1.000010e+00<\/td>\n",
       "      <td>1.000010e+00<\/td>\n",
       "      <td>1.000010e+00<\/td>\n",
       "      <td>2.87231<\/td>\n",
       "      <td>1.000010e+00<\/td>\n",
       "      <td>1.000010e+00<\/td>\n",
       "    <\/tr>\n",
       "    <tr>\n",
       "      <th>min<\/th>\n",
       "      <td>-1.733575e+00<\/td>\n",
       "      <td>-2.845248e+00<\/td>\n",
       "      <td>-8.975970e-01<\/td>\n",
       "      <td>-2.791471e+00<\/td>\n",
       "      <td>-2.154402e+00<\/td>\n",
       "      <td>-2.264025e+00<\/td>\n",
       "      <td>-5.580745e-01<\/td>\n",
       "      <td>-1.548778e+00<\/td>\n",
       "      <td>-1.139765e+00<\/td>\n",
       "      <td>-6.151660e+00<\/td>\n",
       "      <td>-7.032154e-01<\/td>\n",
       "      <td>-2.944020e+00<\/td>\n",
       "      <td>-1.846356e+00<\/td>\n",
       "      <td>0.00000<\/td>\n",
       "      <td>-1.339082e+00<\/td>\n",
       "      <td>-7.467804e-01<\/td>\n",
       "    <\/tr>\n",
       "    <tr>\n",
       "      <th>25%<\/th>\n",
       "      <td>-8.388763e-01<\/td>\n",
       "      <td>-6.576063e-01<\/td>\n",
       "      <td>-8.390039e-01<\/td>\n",
       "      <td>-6.507353e-01<\/td>\n",
       "      <td>-4.610517e-01<\/td>\n",
       "      <td>-6.303180e-01<\/td>\n",
       "      <td>-5.580745e-01<\/td>\n",
       "      <td>-6.810212e-01<\/td>\n",
       "      <td>-6.000939e-01<\/td>\n",
       "      <td>-2.801004e-01<\/td>\n",
       "      <td>-5.670834e-01<\/td>\n",
       "      <td>-7.968878e-01<\/td>\n",
       "      <td>-8.063593e-01<\/td>\n",
       "      <td>2.00000<\/td>\n",
       "      <td>-1.339082e+00<\/td>\n",
       "      <td>-7.467804e-01<\/td>\n",
       "    <\/tr>\n",
       "    <tr>\n",
       "      <th>50%<\/th>\n",
       "      <td>-2.002380e-02<\/td>\n",
       "      <td>5.016004e-02<\/td>\n",
       "      <td>-4.757261e-01<\/td>\n",
       "      <td>5.463274e-02<\/td>\n",
       "      <td>-1.543688e-01<\/td>\n",
       "      <td>1.634630e-01<\/td>\n",
       "      <td>-5.575889e-01<\/td>\n",
       "      <td>-1.025168e-01<\/td>\n",
       "      <td>-4.200591e-01<\/td>\n",
       "      <td>3.013602e-01<\/td>\n",
       "      <td>-4.408160e-01<\/td>\n",
       "      <td>-2.290393e-03<\/td>\n",
       "      <td>-3.344372e-02<\/td>\n",
       "      <td>4.50000<\/td>\n",
       "      <td>7.467804e-01<\/td>\n",
       "      <td>-7.467804e-01<\/td>\n",
       "    <\/tr>\n",
       "    <tr>\n",
       "      <th>75%<\/th>\n",
       "      <td>8.857865e-01<\/td>\n",
       "      <td>7.579264e-01<\/td>\n",
       "      <td>7.195750e-01<\/td>\n",
       "      <td>7.208136e-01<\/td>\n",
       "      <td>2.350835e-01<\/td>\n",
       "      <td>8.136074e-01<\/td>\n",
       "      <td>-8.174618e-02<\/td>\n",
       "      <td>7.652399e-01<\/td>\n",
       "      <td>3.099788e-01<\/td>\n",
       "      <td>6.426752e-01<\/td>\n",
       "      <td>4.871678e-02<\/td>\n",
       "      <td>6.714489e-01<\/td>\n",
       "      <td>7.758919e-01<\/td>\n",
       "      <td>7.00000<\/td>\n",
       "      <td>7.467804e-01<\/td>\n",
       "      <td>1.339082e+00<\/td>\n",
       "    <\/tr>\n",
       "    <tr>\n",
       "      <th>max<\/th>\n",
       "      <td>1.581449e+00<\/td>\n",
       "      <td>3.524649e+00<\/td>\n",
       "      <td>2.020344e+00<\/td>\n",
       "      <td>2.394663e+00<\/td>\n",
       "      <td>4.330374e+01<\/td>\n",
       "      <td>1.509111e+00<\/td>\n",
       "      <td>2.502719e+00<\/td>\n",
       "      <td>1.632996e+00<\/td>\n",
       "      <td>4.987171e+00<\/td>\n",
       "      <td>2.089552e+00<\/td>\n",
       "      <td>8.369295e+00<\/td>\n",
       "      <td>3.450696e+00<\/td>\n",
       "      <td>2.167949e+00<\/td>\n",
       "      <td>9.00000<\/td>\n",
       "      <td>7.467804e-01<\/td>\n",
       "      <td>1.339082e+00<\/td>\n",
       "    <\/tr>\n",
       "  <\/tbody>\n",
       "<\/table>\n",
       "<\/div>"
      ]
     },
     "metadata":{
      
     },
     "output_type":"display_data"
    }
   ],
   "metadata":{
    "datalore":{
     "type":"CODE",
     "hide_input_from_viewers":false,
     "hide_output_from_viewers":false
    }
   }
  },
  {
   "cell_type":"markdown",
   "source":[
    "## Разделение на обучающую и тестовую выборки\n",
    "Разделим выборку на обучающую и тестовую методом train_test_split"
   ],
   "attachments":{
    
   },
   "metadata":{
    "datalore":{
     "type":"MD",
     "hide_input_from_viewers":false,
     "hide_output_from_viewers":false
    }
   }
  },
  {
   "cell_type":"code",
   "source":[
    "from sklearn.model_selection import train_test_split\n",
    "data_X = data_scaled.drop(columns=['music_genre'])\n",
    "data_y = data_scaled['music_genre']\n",
    "data_X_train, data_X_test, data_Y_train, data_Y_test = train_test_split(data_X, data_y, random_state=40)"
   ],
   "execution_count":null,
   "outputs":[
    
   ],
   "metadata":{
    "datalore":{
     "type":"CODE",
     "hide_input_from_viewers":false,
     "hide_output_from_viewers":false
    }
   }
  },
  {
   "cell_type":"markdown",
   "source":[
    "## Обучение выборки для произвольного K"
   ],
   "attachments":{
    
   },
   "metadata":{
    "datalore":{
     "type":"MD",
     "hide_input_from_viewers":false,
     "hide_output_from_viewers":false
    }
   }
  },
  {
   "cell_type":"code",
   "source":[
    "# Импортируем класс из библиотеки sklearn и создадим его экземпляр\n",
    "from sklearn.neighbors import KNeighborsClassifier\n",
    "knn_class = KNeighborsClassifier(n_neighbors=20)"
   ],
   "execution_count":null,
   "outputs":[
    
   ],
   "metadata":{
    "datalore":{
     "type":"CODE",
     "hide_input_from_viewers":false,
     "hide_output_from_viewers":false
    }
   }
  },
  {
   "cell_type":"code",
   "source":[
    "# Обучение\n",
    "knn_class.fit(data_X_train, data_Y_train)\n",
    "predict = knn_class.predict(data_X_test)\n",
    "predict"
   ],
   "execution_count":null,
   "outputs":[
    {
     "data":{
      "text\/html":[
       
      ]
     },
     "metadata":{
      
     },
     "output_type":"display_data"
    }
   ],
   "metadata":{
    "datalore":{
     "type":"CODE",
     "hide_input_from_viewers":false,
     "hide_output_from_viewers":false
    }
   }
  },
  {
   "cell_type":"markdown",
   "source":[
    "## Оценка качества построенной модели"
   ],
   "attachments":{
    
   },
   "metadata":{
    "datalore":{
     "type":"MD",
     "hide_input_from_viewers":false,
     "hide_output_from_viewers":false
    }
   }
  },
  {
   "cell_type":"code",
   "source":[
    "from sklearn.metrics import accuracy_score\n",
    "from sklearn.metrics import ConfusionMatrixDisplay\n",
    "from sklearn.metrics import classification_report\n",
    "from sklearn.metrics import confusion_matrix\n",
    "from sklearn.metrics import roc_curve, roc_auc_score"
   ],
   "execution_count":null,
   "outputs":[
    
   ],
   "metadata":{
    "datalore":{
     "type":"CODE",
     "hide_input_from_viewers":false,
     "hide_output_from_viewers":false
    }
   }
  },
  {
   "cell_type":"markdown",
   "source":[
    "## Accuracy"
   ],
   "attachments":{
    
   },
   "metadata":{
    "datalore":{
     "type":"MD",
     "hide_input_from_viewers":false,
     "hide_output_from_viewers":false
    }
   }
  },
  {
   "cell_type":"code",
   "source":[
    "accuracy_score(data_Y_test, predict)"
   ],
   "execution_count":null,
   "outputs":[
    {
     "data":{
      "text\/plain":[
       "0.50728"
      ]
     },
     "metadata":{
      
     },
     "output_type":"display_data"
    }
   ],
   "metadata":{
    "datalore":{
     "type":"CODE",
     "hide_input_from_viewers":false,
     "hide_output_from_viewers":false
    }
   }
  },
  {
   "cell_type":"markdown",
   "source":[
    "Рассмотрим Accuracy для каждого класса"
   ],
   "attachments":{
    
   },
   "metadata":{
    "datalore":{
     "type":"MD",
     "hide_input_from_viewers":false,
     "hide_output_from_viewers":false
    }
   }
  },
  {
   "cell_type":"code",
   "source":[
    "def accuracy_score_for_classes(\n",
    "        y_true: np.ndarray,\n",
    "        y_pred: np.ndarray) -> Dict[int, float]:\n",
    "    \"\"\"\n",
    "    Вычисление метрики accuracy для каждого класса\n",
    "    y_true - истинные значения классов\n",
    "    y_pred - предсказанные значения классов\n",
    "    Возвращает словарь: ключ - метка класса,\n",
    "    значение - Accuracy для данного класса\n",
    "    \"\"\"\n",
    "    # Для удобства фильтрации сформируем Pandas DataFrame\n",
    "    d = {'t': y_true, 'p': y_pred}\n",
    "    df = pd.DataFrame(data=d)\n",
    "    # Метки классов\n",
    "    classes = np.unique(y_true)\n",
    "    # Результирующий словарь\n",
    "    res = dict()\n",
    "    # Перебор меток классов\n",
    "    for c in classes:\n",
    "        # отфильтруем данные, которые соответствуют\n",
    "        # текущей метке класса в истинных значениях\n",
    "        temp_data_flt = df[df['t']==c]\n",
    "        # расчет accuracy для заданной метки класса\n",
    "        temp_acc = accuracy_score(\n",
    "            temp_data_flt['t'].values,\n",
    "            temp_data_flt['p'].values)\n",
    "        # сохранение результата в словарь\n",
    "        res[c] = temp_acc\n",
    "    return res\n",
    "\n",
    "def print_accuracy_score_for_classes(\n",
    "        y_true: np.ndarray,\n",
    "        y_pred: np.ndarray):\n",
    "    \"\"\"\n",
    "    Вывод метрики accuracy для каждого класса\n",
    "    \"\"\"\n",
    "    accs = accuracy_score_for_classes(y_true, y_pred)\n",
    "    if len(accs)>0:\n",
    "        print('Метка \\t Accuracy')\n",
    "    for i in accs:\n",
    "        print('{} \\t {}'.format(i, accs[i]))"
   ],
   "execution_count":null,
   "outputs":[
    
   ],
   "metadata":{
    "datalore":{
     "type":"CODE",
     "hide_input_from_viewers":false,
     "hide_output_from_viewers":false
    }
   }
  },
  {
   "cell_type":"code",
   "source":[
    "print_accuracy_score_for_classes(data_Y_test, predict)"
   ],
   "execution_count":null,
   "outputs":[
    {
     "name":"stdout",
     "text":[
      "Метка \t Accuracy\n",
      "0 \t 0.36242138364779874\n",
      "1 \t 0.625\n",
      "2 \t 0.4539527302363488\n",
      "3 \t 0.8301127214170693\n",
      "4 \t 0.5868878357030016\n",
      "5 \t 0.5127388535031847\n",
      "6 \t 0.48249027237354086\n",
      "7 \t 0.38461538461538464\n",
      "8 \t 0.29912490055688146\n",
      "9 \t 0.5418006430868167\n"
     ],
     "output_type":"stream"
    }
   ],
   "metadata":{
    "datalore":{
     "type":"CODE",
     "hide_input_from_viewers":false,
     "hide_output_from_viewers":false
    }
   }
  },
  {
   "cell_type":"markdown",
   "source":[
    "## Confusion Matrix"
   ],
   "attachments":{
    
   },
   "metadata":{
    "datalore":{
     "type":"MD",
     "hide_input_from_viewers":false,
     "hide_output_from_viewers":false
    }
   }
  },
  {
   "cell_type":"code",
   "source":[
    "matrix = confusion_matrix(data_Y_test, predict, labels=[0, 1, 2, 3, 4, 5, 6, 7, 8, 9])\n",
    "matrix"
   ],
   "execution_count":null,
   "outputs":[
    {
     "data":{
      "text\/html":[
       
      ]
     },
     "metadata":{
      
     },
     "output_type":"display_data"
    }
   ],
   "metadata":{
    "datalore":{
     "type":"CODE",
     "hide_input_from_viewers":false,
     "hide_output_from_viewers":false
    }
   }
  },
  {
   "cell_type":"code",
   "source":[
    "fig, ax = plt.subplots(figsize=(15, 15))\n",
    "ConfusionMatrixDisplay.from_predictions(data_Y_test, predict, display_labels=le.classes_, ax=ax, cmap='Greens')"
   ],
   "execution_count":null,
   "outputs":[
    {
     "data":{
      "text\/plain":[
       "<sklearn.metrics._plot.confusion_matrix.ConfusionMatrixDisplay at 0x7fd0cf192400>"
      ],
      "image\/png":"[encoded data removed]"
     },
     "metadata":{
      "image\/png":{
       
      }
     },
     "output_type":"display_data"
    }
   ],
   "metadata":{
    "datalore":{
     "type":"CODE",
     "hide_input_from_viewers":false,
     "hide_output_from_viewers":false
    }
   }
  },
  {
   "cell_type":"markdown",
   "source":[
    "## Precision, recall и F-мера"
   ],
   "attachments":{
    
   },
   "metadata":{
    "datalore":{
     "type":"MD",
     "hide_input_from_viewers":false,
     "hide_output_from_viewers":false
    }
   }
  },
  {
   "cell_type":"code",
   "source":[
    "classification_report(data_Y_test, predict,\n",
    "                      target_names=le.classes_, output_dict=True)"
   ],
   "execution_count":null,
   "outputs":[
    {
     "data":{
      "text\/plain":[
       "{'Alternative': {'precision': 0.3527161438408569,\n",
       "  'recall': 0.36242138364779874,\n",
       "  'f1-score': 0.3575029081039162,\n",
       "  'support': 1272},\n",
       " 'Anime': {'precision': 0.6666666666666666,\n",
       "  'recall': 0.625,\n",
       "  'f1-score': 0.6451612903225806,\n",
       "  'support': 1216},\n",
       " 'Blues': {'precision': 0.5407766990291262,\n",
       "  'recall': 0.4539527302363488,\n",
       "  'f1-score': 0.4935755427558706,\n",
       "  'support': 1227},\n",
       " 'Classical': {'precision': 0.8060985144644254,\n",
       "  'recall': 0.8301127214170693,\n",
       "  'f1-score': 0.8179293930979771,\n",
       "  'support': 1242},\n",
       " 'Country': {'precision': 0.41049723756906076,\n",
       "  'recall': 0.5868878357030016,\n",
       "  'f1-score': 0.4830949284785436,\n",
       "  'support': 1266},\n",
       " 'Electronic': {'precision': 0.6018691588785047,\n",
       "  'recall': 0.5127388535031847,\n",
       "  'f1-score': 0.5537403267411866,\n",
       "  'support': 1256},\n",
       " 'Hip-Hop': {'precision': 0.39390088945362134,\n",
       "  'recall': 0.48249027237354086,\n",
       "  'f1-score': 0.4337180832458902,\n",
       "  'support': 1285},\n",
       " 'Jazz': {'precision': 0.49427679500520294,\n",
       "  'recall': 0.38461538461538464,\n",
       "  'f1-score': 0.43260473588342446,\n",
       "  'support': 1235},\n",
       " 'Rap': {'precision': 0.38564102564102565,\n",
       "  'recall': 0.29912490055688146,\n",
       "  'f1-score': 0.3369175627240143,\n",
       "  'support': 1257},\n",
       " 'Rock': {'precision': 0.4977843426883309,\n",
       "  'recall': 0.5418006430868167,\n",
       "  'f1-score': 0.5188606620477291,\n",
       "  'support': 1244},\n",
       " 'accuracy': 0.50728,\n",
       " 'macro avg': {'precision': 0.5150227473236823,\n",
       "  'recall': 0.5079144725140028,\n",
       "  'f1-score': 0.5073105433401133,\n",
       "  'support': 12500},\n",
       " 'weighted avg': {'precision': 0.5136204087147205,\n",
       "  'recall': 0.50728,\n",
       "  'f1-score': 0.5062723184711043,\n",
       "  'support': 12500}}"
      ]
     },
     "metadata":{
      
     },
     "output_type":"display_data"
    }
   ],
   "metadata":{
    "datalore":{
     "type":"CODE",
     "hide_input_from_viewers":false,
     "hide_output_from_viewers":false
    }
   }
  },
  {
   "cell_type":"markdown",
   "source":[
    "Для построения ROC кривой необходимо целевой признак сделать бинарным. Для этого выберем один класс и будем обозначать его 1, а остальные будем обозначать 0"
   ],
   "attachments":{
    
   },
   "metadata":{
    "datalore":{
     "type":"MD",
     "hide_input_from_viewers":false,
     "hide_output_from_viewers":false
    }
   }
  },
  {
   "cell_type":"code",
   "source":[
    "def convert_target_to_binary(array:np.ndarray, target:int):\n",
    "    res = [1 if x==target else 0 for x in array]\n",
    "    return res"
   ],
   "execution_count":null,
   "outputs":[
    
   ],
   "metadata":{
    "datalore":{
     "type":"CODE",
     "hide_input_from_viewers":false,
     "hide_output_from_viewers":false
    }
   }
  },
  {
   "cell_type":"code",
   "source":[
    "bin_Y_train = convert_target_to_binary(data_Y_train, 3)\n",
    "bin_Y_test = convert_target_to_binary(data_Y_test, 3)"
   ],
   "execution_count":null,
   "outputs":[
    
   ],
   "metadata":{
    "datalore":{
     "type":"CODE",
     "hide_input_from_viewers":false,
     "hide_output_from_viewers":false
    }
   }
  },
  {
   "cell_type":"code",
   "source":[
    "bin_knn_class = KNeighborsClassifier(n_neighbors=20)\n",
    "\n",
    "bin_knn_class.fit(data_X_train, bin_Y_train)\n",
    "predict = bin_knn_class.predict(data_X_test)\n",
    "bin_knn_class.classes_"
   ],
   "execution_count":null,
   "outputs":[
    {
     "data":{
      "text\/html":[
       
      ]
     },
     "metadata":{
      
     },
     "output_type":"display_data"
    }
   ],
   "metadata":{
    "datalore":{
     "type":"CODE",
     "hide_input_from_viewers":false,
     "hide_output_from_viewers":false
    }
   }
  },
  {
   "cell_type":"code",
   "source":[
    "# предскажем вероятности классов\n",
    "proba_target = bin_knn_class.predict_proba(data_X_test)\n",
    "len(proba_target), proba_target"
   ],
   "execution_count":null,
   "outputs":[
    {
     "data":{
      "text\/plain":[
       "(12500,\n",
       " array([[1.  , 0.  ],\n",
       "        [1.  , 0.  ],\n",
       "        [1.  , 0.  ],\n",
       "        ...,\n",
       "        [1.  , 0.  ],\n",
       "        [1.  , 0.  ],\n",
       "        [0.95, 0.05]]))"
      ]
     },
     "metadata":{
      
     },
     "output_type":"display_data"
    }
   ],
   "metadata":{
    "datalore":{
     "type":"CODE",
     "hide_input_from_viewers":false,
     "hide_output_from_viewers":false
    }
   }
  },
  {
   "cell_type":"code",
   "source":[
    "# вероятность единичного (истинного) класса\n",
    "true_proba_target1_1 = proba_target[:,1]\n",
    "true_proba_target1_1"
   ],
   "execution_count":null,
   "outputs":[
    {
     "data":{
      "text\/html":[
       
      ]
     },
     "metadata":{
      
     },
     "output_type":"display_data"
    }
   ],
   "metadata":{
    "datalore":{
     "type":"CODE",
     "hide_input_from_viewers":false,
     "hide_output_from_viewers":false
    }
   }
  },
  {
   "cell_type":"code",
   "source":[
    "fpr, tpr, thresholds = roc_curve(bin_Y_test, true_proba_target1_1,\n",
    "                                 pos_label=1)\n",
    "fpr, tpr, thresholds"
   ],
   "execution_count":null,
   "outputs":[
    {
     "data":{
      "text\/plain":[
       "(array([0.00000000e+00, 3.55302896e-04, 7.99431515e-04, 1.68768875e-03,\n",
       "        2.93124889e-03, 4.79658909e-03, 6.04014923e-03, 7.99431515e-03,\n",
       "        9.85965536e-03, 1.23467756e-02, 1.43009416e-02, 1.66104104e-02,\n",
       "        1.98969622e-02, 2.27393853e-02, 2.72694972e-02, 3.06448748e-02,\n",
       "        3.52638124e-02, 4.39687333e-02, 5.80920234e-02, 9.69976905e-02,\n",
       "        2.14602949e-01, 1.00000000e+00]),\n",
       " array([0.        , 0.15861514, 0.30193237, 0.42351047, 0.50644122,\n",
       "        0.57487923, 0.64331723, 0.67713366, 0.7173913 , 0.74798712,\n",
       "        0.7705314 , 0.7962963 , 0.81078905, 0.83011272, 0.84943639,\n",
       "        0.86312399, 0.87761675, 0.89049919, 0.90499195, 0.931562  ,\n",
       "        0.96940419, 1.        ]),\n",
       " array([2.  , 1.  , 0.95, 0.9 , 0.85, 0.8 , 0.75, 0.7 , 0.65, 0.6 , 0.55,\n",
       "        0.5 , 0.45, 0.4 , 0.35, 0.3 , 0.25, 0.2 , 0.15, 0.1 , 0.05, 0.  ]))"
      ]
     },
     "metadata":{
      
     },
     "output_type":"display_data"
    }
   ],
   "metadata":{
    "datalore":{
     "type":"CODE",
     "hide_input_from_viewers":false,
     "hide_output_from_viewers":false
    }
   }
  },
  {
   "cell_type":"code",
   "source":[
    "# Отрисовка ROC-кривой\n",
    "def draw_roc_curve(y_true, y_score, pos_label, average):\n",
    "    fpr, tpr, thresholds = roc_curve(y_true, y_score,\n",
    "                                     pos_label=pos_label)\n",
    "    roc_auc_value = roc_auc_score(y_true, y_score, average=average)\n",
    "    plt.figure()\n",
    "    lw = 2\n",
    "    plt.plot(fpr, tpr, color='darkorange',\n",
    "             lw=lw, label='ROC curve (area = %0.2f)' % roc_auc_value)\n",
    "    plt.plot([0, 1], [0, 1], color='navy', lw=lw, linestyle='--')\n",
    "    plt.xlim([0.0, 1.0])\n",
    "    plt.ylim([0.0, 1.05])\n",
    "    plt.xlabel('False Positive Rate')\n",
    "    plt.ylabel('True Positive Rate')\n",
    "    plt.title('Receiver operating characteristic')\n",
    "    plt.legend(loc=\"lower right\")\n",
    "    plt.show()"
   ],
   "execution_count":null,
   "outputs":[
    
   ],
   "metadata":{
    "datalore":{
     "type":"CODE",
     "hide_input_from_viewers":false,
     "hide_output_from_viewers":false
    }
   }
  },
  {
   "cell_type":"code",
   "source":[
    "draw_roc_curve(bin_Y_test, predict, pos_label=1, average='micro')"
   ],
   "execution_count":null,
   "outputs":[
    {
     "data":{
      "image\/png":"[encoded data removed]"
     },
     "metadata":{
      "image\/png":{
       
      }
     },
     "output_type":"display_data"
    }
   ],
   "metadata":{
    "datalore":{
     "type":"CODE",
     "hide_input_from_viewers":false,
     "hide_output_from_viewers":false
    }
   }
  },
  {
   "cell_type":"markdown",
   "source":[
    "## Обучение с использованием кросс-валидации и подбором гиперпараметров\n",
    "Применим кросс-валидацию для оценки качества построенной модели. Рассмотрим следующие стратегии кросс-валидации: K-fold, Repeated K-fold и ShuffleSplit. \n",
    "В качестве метрик качетсва используем accuracy и f1-weigthed"
   ],
   "attachments":{
    
   },
   "metadata":{
    "datalore":{
     "type":"MD",
     "hide_input_from_viewers":false,
     "hide_output_from_viewers":false
    }
   }
  },
  {
   "cell_type":"code",
   "source":[
    "from sklearn.model_selection import KFold, RepeatedKFold, ShuffleSplit, cross_validate\n",
    "\n",
    "scoring = {'acc': 'accuracy',\n",
    "           'f1': 'f1_weighted'}"
   ],
   "execution_count":null,
   "outputs":[
    
   ],
   "metadata":{
    "datalore":{
     "type":"CODE",
     "hide_input_from_viewers":false,
     "hide_output_from_viewers":false
    }
   }
  },
  {
   "cell_type":"code",
   "source":[
    "%%time\n",
    "# KFold\n",
    "scores = cross_validate(KNeighborsClassifier(n_neighbors=20),\n",
    "                        data_X, data_y, scoring=scoring,\n",
    "                        cv=KFold(n_splits=5), return_train_score=True, n_jobs=4)\n",
    "scores"
   ],
   "execution_count":null,
   "outputs":[
    {
     "name":"stdout",
     "text":[
      "CPU times: user 24.2 ms, sys: 77 ms, total: 101 ms\n",
      "Wall time: 5min 46s\n"
     ],
     "output_type":"stream"
    },
    {
     "data":{
      "text\/plain":[
       "{'fit_time': array([0.21923327, 0.22136402, 0.21511722, 0.21928   , 0.20834112]),\n",
       " 'score_time': array([20.87869477, 21.3670814 , 17.70781684, 19.74690318,  7.23751569]),\n",
       " 'test_acc': array([0., 0., 0., 0., 0.]),\n",
       " 'train_acc': array([0.588375, 0.6523  , 0.6617  , 0.6215  , 0.6036  ]),\n",
       " 'test_f1': array([0., 0., 0., 0., 0.]),\n",
       " 'train_f1': array([0.58819566, 0.65062042, 0.65959962, 0.62086062, 0.60354283])}"
      ]
     },
     "metadata":{
      
     },
     "output_type":"display_data"
    }
   ],
   "metadata":{
    "datalore":{
     "type":"CODE",
     "hide_input_from_viewers":false,
     "hide_output_from_viewers":false
    }
   }
  },
  {
   "cell_type":"code",
   "source":[
    "%%time\n",
    "# RepeatedKFold\n",
    "scores = cross_validate(KNeighborsClassifier(n_neighbors=20),\n",
    "                        data_X, data_y, scoring=scoring,\n",
    "                        cv=RepeatedKFold(n_splits=5, n_repeats=3), return_train_score=True, n_jobs=4) \n",
    "scores"
   ],
   "execution_count":null,
   "outputs":[
    {
     "name":"stdout",
     "text":[
      "CPU times: user 155 ms, sys: 91 ms, total: 246 ms\n",
      "Wall time: 20min 16s\n"
     ],
     "output_type":"stream"
    },
    {
     "data":{
      "text\/plain":[
       "{'fit_time': array([0.20378327, 0.21228743, 0.20898342, 0.20327187, 1.16385055,\n",
       "        1.06243134, 1.04225898, 1.105474  , 1.24709463, 1.00063515,\n",
       "        1.13643408, 1.14434648, 0.93916702, 1.20630598, 1.09965372]),\n",
       " 'score_time': array([ 80.21931314,  82.94303513,  81.06518579,  78.70411158,\n",
       "        107.12184858, 106.88409376, 107.17652798, 107.56384492,\n",
       "        104.71468496, 104.79302931, 103.9217422 , 109.18445468,\n",
       "         84.89022136,  82.55540562,  80.98252606]),\n",
       " 'test_acc': array([0.5123, 0.5117, 0.5152, 0.5135, 0.5068, 0.5098, 0.5083, 0.5145,\n",
       "        0.5062, 0.5085, 0.5127, 0.5081, 0.5024, 0.5173, 0.5137]),\n",
       " 'train_acc': array([0.5711  , 0.573775, 0.570375, 0.568425, 0.572225, 0.571775,\n",
       "        0.56925 , 0.57125 , 0.57165 , 0.572875, 0.571675, 0.57125 ,\n",
       "        0.5741  , 0.569475, 0.5714  ]),\n",
       " 'test_f1': array([0.51235663, 0.51111974, 0.51378816, 0.51354524, 0.50543952,\n",
       "        0.50993735, 0.5071262 , 0.51347759, 0.50605609, 0.50723456,\n",
       "        0.51318881, 0.50658946, 0.50180435, 0.51618653, 0.51479202]),\n",
       " 'train_f1': array([0.57092164, 0.57297652, 0.56962792, 0.56790207, 0.57186454,\n",
       "        0.57136331, 0.56859953, 0.57079626, 0.57088975, 0.57241868,\n",
       "        0.57122909, 0.57006432, 0.57373701, 0.56893388, 0.57162856])}"
      ]
     },
     "metadata":{
      
     },
     "output_type":"display_data"
    }
   ],
   "metadata":{
    "datalore":{
     "type":"CODE",
     "hide_input_from_viewers":false,
     "hide_output_from_viewers":false
    }
   }
  },
  {
   "cell_type":"code",
   "source":[
    "%%time\n",
    "# ShuffleSplit\n",
    "scores = cross_validate(KNeighborsClassifier(n_neighbors=20),\n",
    "                        data_X, data_y, scoring=scoring,\n",
    "                        cv=ShuffleSplit(n_splits=5, test_size=0.25), return_train_score=True, n_jobs=4)\n",
    "scores"
   ],
   "execution_count":null,
   "outputs":[
    {
     "name":"stdout",
     "text":[
      "CPU times: user 91.5 ms, sys: 33.7 ms, total: 125 ms\n",
      "Wall time: 7min 8s\n"
     ],
     "output_type":"stream"
    },
    {
     "data":{
      "text\/plain":[
       "{'fit_time': array([0.78267622, 0.84685969, 1.08272123, 1.13694143, 1.08582759]),\n",
       " 'score_time': array([129.14369226, 126.50178075, 127.80473948, 128.40126944,\n",
       "         27.31061363]),\n",
       " 'test_acc': array([0.5168 , 0.5148 , 0.50592, 0.51296, 0.50304]),\n",
       " 'train_acc': array([0.56976   , 0.56624   , 0.57149333, 0.56997333, 0.57133333]),\n",
       " 'test_f1': array([0.51522134, 0.5144779 , 0.50488183, 0.51310743, 0.50230988]),\n",
       " 'train_f1': array([0.56930411, 0.56607648, 0.57096298, 0.56926844, 0.57059919])}"
      ]
     },
     "metadata":{
      
     },
     "output_type":"display_data"
    }
   ],
   "metadata":{
    "datalore":{
     "type":"CODE",
     "hide_input_from_viewers":false,
     "hide_output_from_viewers":false
    }
   }
  },
  {
   "cell_type":"markdown",
   "source":[
    "Применим рандомизированный поиск для подбора оптимального количетсва ближайших соседей"
   ],
   "attachments":{
    
   },
   "metadata":{
    "datalore":{
     "type":"MD",
     "hide_input_from_viewers":false,
     "hide_output_from_viewers":false
    }
   }
  },
  {
   "cell_type":"code",
   "source":[
    "%%time\n",
    "from sklearn.model_selection import GridSearchCV, RandomizedSearchCV\n",
    "\n",
    "params = [{'n_neighbors': list(range(5, 100, 5)),\n",
    "           'p': [1, 2]}]\n",
    "search = RandomizedSearchCV(KNeighborsClassifier(), params, cv=5, scoring='f1_weighted', n_jobs=4)\n",
    "search.fit(data_X, data_y)"
   ],
   "execution_count":null,
   "outputs":[
    {
     "name":"stdout",
     "text":[
      "CPU times: user 792 ms, sys: 92 ms, total: 884 ms\n",
      "Wall time: 18min 18s\n"
     ],
     "output_type":"stream"
    },
    {
     "data":{
      "text\/plain":[
       "RandomizedSearchCV(cv=5, estimator=KNeighborsClassifier(), n_jobs=4,\n",
       "                   param_distributions=[{'n_neighbors': [5, 10, 15, 20, 25, 30,\n",
       "                                                         35, 40, 45, 50, 55, 60,\n",
       "                                                         65, 70, 75, 80, 85, 90,\n",
       "                                                         95],\n",
       "                                         'p': [1, 2]}],\n",
       "                   scoring='f1_weighted')"
      ]
     },
     "metadata":{
      
     },
     "output_type":"display_data"
    }
   ],
   "metadata":{
    "datalore":{
     "type":"CODE",
     "hide_input_from_viewers":false,
     "hide_output_from_viewers":false
    }
   }
  },
  {
   "cell_type":"code",
   "source":[
    "search.best_score_, search.best_params_"
   ],
   "execution_count":null,
   "outputs":[
    {
     "data":{
      "text\/plain":[
       "(0.5311625833103186, {'p': 1, 'n_neighbors': 30})"
      ]
     },
     "metadata":{
      
     },
     "output_type":"display_data"
    }
   ],
   "metadata":{
    "datalore":{
     "type":"CODE",
     "hide_input_from_viewers":false,
     "hide_output_from_viewers":false
    }
   }
  },
  {
   "cell_type":"markdown",
   "source":[
    "Теперь уточним это значение с помощью обычного GridSearch"
   ],
   "attachments":{
    
   },
   "metadata":{
    "datalore":{
     "type":"MD",
     "hide_input_from_viewers":false,
     "hide_output_from_viewers":false
    }
   }
  },
  {
   "cell_type":"code",
   "source":[
    "%%time\n",
    "\n",
    "n_range = range(25, 61, 3)\n",
    "params = [{'n_neighbors': list(n_range),\n",
    "           'p': [1]}]\n",
    "search = GridSearchCV(KNeighborsClassifier(), params, cv=5, scoring='f1_weighted', n_jobs=4)\n",
    "search.fit(data_X, data_y)"
   ],
   "execution_count":null,
   "outputs":[
    {
     "name":"stdout",
     "text":[
      "CPU times: user 778 ms, sys: 127 ms, total: 905 ms\n",
      "Wall time: 31min 24s\n"
     ],
     "output_type":"stream"
    },
    {
     "data":{
      "text\/plain":[
       "GridSearchCV(cv=5, estimator=KNeighborsClassifier(), n_jobs=4,\n",
       "             param_grid=[{'n_neighbors': [25, 28, 31, 34, 37, 40, 43, 46, 49,\n",
       "                                          52, 55, 58],\n",
       "                          'p': [1]}],\n",
       "             scoring='f1_weighted')"
      ]
     },
     "metadata":{
      
     },
     "output_type":"display_data"
    }
   ],
   "metadata":{
    "datalore":{
     "type":"CODE",
     "hide_input_from_viewers":false,
     "hide_output_from_viewers":false
    }
   }
  },
  {
   "cell_type":"code",
   "source":[
    "search.best_score_, search.best_params_"
   ],
   "execution_count":null,
   "outputs":[
    {
     "data":{
      "text\/plain":[
       "(0.5325771441439009, {'n_neighbors': 49, 'p': 1})"
      ]
     },
     "metadata":{
      
     },
     "output_type":"display_data"
    }
   ],
   "metadata":{
    "datalore":{
     "type":"CODE",
     "hide_input_from_viewers":false,
     "hide_output_from_viewers":false
    }
   }
  },
  {
   "cell_type":"code",
   "source":[
    "plt.plot(n_range, search.cv_results_['mean_test_score'])"
   ],
   "execution_count":null,
   "outputs":[
    {
     "data":{
      "text\/plain":[
       "[<matplotlib.lines.Line2D at 0x7fd0ccde14f0>]"
      ],
      "image\/png":"[encoded data removed]"
     },
     "metadata":{
      "image\/png":{
       
      }
     },
     "output_type":"display_data"
    }
   ],
   "metadata":{
    "datalore":{
     "type":"CODE",
     "hide_input_from_viewers":false,
     "hide_output_from_viewers":false
    }
   }
  },
  {
   "cell_type":"markdown",
   "source":[
    "Обучим новую модель с учетом найденного гиперпараметра\n"
   ],
   "attachments":{
    
   },
   "metadata":{
    "datalore":{
     "type":"MD",
     "hide_input_from_viewers":false,
     "hide_output_from_viewers":false
    }
   }
  },
  {
   "cell_type":"code",
   "source":[
    "search.best_estimator_.fit(data_X_train, data_Y_train)\n",
    "best_est_predict_train = search.best_estimator_.predict(data_X_train)\n",
    "best_est_predict_test = search.best_estimator_.predict(data_X_test)"
   ],
   "execution_count":null,
   "outputs":[
    
   ],
   "metadata":{
    "datalore":{
     "type":"CODE",
     "hide_input_from_viewers":false,
     "hide_output_from_viewers":false
    }
   }
  },
  {
   "cell_type":"code",
   "source":[
    "# Accuracy новой модели\n",
    "accuracy_score(data_Y_train, best_est_predict_train), accuracy_score(data_Y_test, best_est_predict_test)"
   ],
   "execution_count":null,
   "outputs":[
    {
     "data":{
      "text\/plain":[
       "(0.56368, 0.53048)"
      ]
     },
     "metadata":{
      
     },
     "output_type":"display_data"
    }
   ],
   "metadata":{
    "datalore":{
     "type":"CODE",
     "hide_input_from_viewers":false,
     "hide_output_from_viewers":false
    }
   }
  },
  {
   "cell_type":"code",
   "source":[
    "from sklearn.model_selection import learning_curve, validation_curve\n",
    "\n",
    "def plot_learning_curve(estimator, title, X, y, ylim=None, cv=None,\n",
    "                        n_jobs=None, train_sizes=np.linspace(.1, 1.0, 5), scoring='accuracy'):\n",
    "    plt.figure()\n",
    "    plt.title(title)\n",
    "    if ylim is not None:\n",
    "        plt.ylim(*ylim)\n",
    "    plt.xlabel(\"Training examples\")\n",
    "    plt.ylabel(scoring)\n",
    "    train_sizes, train_scores, test_scores = learning_curve(\n",
    "        estimator, X, y, cv=cv, scoring=scoring, n_jobs=n_jobs, train_sizes=train_sizes)\n",
    "    train_scores_mean = np.mean(train_scores, axis=1)\n",
    "    train_scores_std = np.std(train_scores, axis=1)\n",
    "    test_scores_mean = np.mean(test_scores, axis=1)\n",
    "    test_scores_std = np.std(test_scores, axis=1)\n",
    "    plt.grid()\n",
    "\n",
    "    plt.fill_between(train_sizes, train_scores_mean - train_scores_std,\n",
    "                     train_scores_mean + train_scores_std, alpha=0.3,\n",
    "                     color=\"r\")\n",
    "    plt.fill_between(train_sizes, test_scores_mean - test_scores_std,\n",
    "                     test_scores_mean + test_scores_std, alpha=0.1, color=\"g\")\n",
    "    plt.plot(train_sizes, train_scores_mean, 'o-', color=\"r\",\n",
    "             label=\"Training score\")\n",
    "    plt.plot(train_sizes, test_scores_mean, 'o-', color=\"g\",\n",
    "             label=\"Cross-validation score\")\n",
    "\n",
    "    plt.legend(loc=\"best\")\n",
    "    return plt"
   ],
   "execution_count":null,
   "outputs":[
    
   ],
   "metadata":{
    "datalore":{
     "type":"CODE",
     "hide_input_from_viewers":false,
     "hide_output_from_viewers":false
    }
   }
  },
  {
   "cell_type":"code",
   "source":[
    "def plot_validation_curve(estimator, title, X, y,\n",
    "                          param_name, param_range, cv,\n",
    "                          scoring='accuracy', n_jobs=1):\n",
    "\n",
    "    train_scores, test_scores = validation_curve(\n",
    "        estimator, X, y, param_name=param_name, param_range=param_range,\n",
    "        cv=cv, scoring=scoring, n_jobs=n_jobs)\n",
    "    train_scores_mean = np.mean(train_scores, axis=1)\n",
    "    train_scores_std = np.std(train_scores, axis=1)\n",
    "    test_scores_mean = np.mean(test_scores, axis=1)\n",
    "    test_scores_std = np.std(test_scores, axis=1)\n",
    "\n",
    "    plt.title(title)\n",
    "    plt.xlabel(param_name)\n",
    "    plt.ylabel(str(scoring))\n",
    "    plt.ylim(0.0, 1.1)\n",
    "    lw = 2\n",
    "    plt.plot(param_range, train_scores_mean, label=\"Training score\",\n",
    "             color=\"darkorange\", lw=lw)\n",
    "    plt.fill_between(param_range, train_scores_mean - train_scores_std,\n",
    "                     train_scores_mean + train_scores_std, alpha=0.4,\n",
    "                     color=\"darkorange\", lw=lw)\n",
    "    plt.plot(param_range, test_scores_mean, label=\"Cross-validation score\",\n",
    "             color=\"navy\", lw=lw)\n",
    "    plt.fill_between(param_range, test_scores_mean - test_scores_std,\n",
    "                     test_scores_mean + test_scores_std, alpha=0.2,\n",
    "                     color=\"navy\", lw=lw)\n",
    "    plt.legend(loc=\"best\")\n",
    "    return plt"
   ],
   "execution_count":null,
   "outputs":[
    
   ],
   "metadata":{
    "datalore":{
     "type":"CODE",
     "hide_input_from_viewers":false,
     "hide_output_from_viewers":false
    }
   }
  },
  {
   "cell_type":"code",
   "source":[
    "plot_learning_curve(search.best_estimator_, 'n_neighbors=49',\n",
    "                    data_X, data_y, cv=5, train_sizes=np.linspace(.2, 1.0, 5), n_jobs=4)"
   ],
   "execution_count":null,
   "outputs":[
    {
     "data":{
      "text\/plain":[
       "<module 'matplotlib.pyplot' from '\/opt\/python\/envs\/default\/lib\/python3.8\/site-packages\/matplotlib\/pyplot.py'>"
      ],
      "image\/png":"[encoded data removed]"
     },
     "metadata":{
      "image\/png":{
       
      }
     },
     "output_type":"display_data"
    }
   ],
   "metadata":{
    "datalore":{
     "type":"CODE",
     "hide_input_from_viewers":false,
     "hide_output_from_viewers":false
    }
   }
  },
  {
   "cell_type":"code",
   "source":[
    "n_range2 = np.array(range(10, 100, 10))"
   ],
   "execution_count":null,
   "outputs":[
    
   ],
   "metadata":{
    "datalore":{
     "type":"CODE",
     "hide_input_from_viewers":false,
     "hide_output_from_viewers":false
    }
   }
  },
  {
   "cell_type":"code",
   "source":[
    "plot_validation_curve(search.best_estimator_, 'knn',\n",
    "                      data_X, data_y,\n",
    "                      param_name='n_neighbors', param_range=n_range2,\n",
    "                      cv=5, scoring='accuracy', n_jobs=4)"
   ],
   "execution_count":null,
   "outputs":[
    {
     "data":{
      "text\/plain":[
       "<module 'matplotlib.pyplot' from '\/opt\/python\/envs\/default\/lib\/python3.8\/site-packages\/matplotlib\/pyplot.py'>"
      ],
      "image\/png":"[encoded data removed]"
     },
     "metadata":{
      "image\/png":{
       
      }
     },
     "output_type":"display_data"
    }
   ],
   "metadata":{
    "datalore":{
     "type":"CODE",
     "hide_input_from_viewers":false,
     "hide_output_from_viewers":false
    }
   }
  }
 ],
 "metadata":{
  "datalore":{
   "version":1,
   "computation_mode":"JUPYTER",
   "package_manager":"pip",
   "base_environment":"default",
   "packages":[
    
   ]
  }
 },
 "nbformat":4,
 "nbformat_minor":4
}