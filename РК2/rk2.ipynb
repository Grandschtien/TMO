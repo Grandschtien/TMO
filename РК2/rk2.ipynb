{
 "cells":[
  {
   "cell_type":"markdown",
   "source":[
    "# Рубежный контроль №2\n",
    "# Тема: Методы построения моделей машинного обучения"
   ],
   "attachments":{
    
   },
   "metadata":{
    "datalore":{
     "type":"MD",
     "hide_input_from_viewers":false,
     "hide_output_from_viewers":false
    }
   }
  },
  {
   "cell_type":"markdown",
   "source":[
    "## Шкарин Е.А ИУ5-65Б Вариант 20"
   ],
   "attachments":{
    
   },
   "metadata":{
    "datalore":{
     "type":"MD",
     "hide_input_from_viewers":false,
     "hide_output_from_viewers":false
    }
   }
  },
  {
   "cell_type":"markdown",
   "source":[
    "Загрузка необходимых библиотек:"
   ],
   "attachments":{
    
   },
   "metadata":{
    "datalore":{
     "type":"MD",
     "hide_input_from_viewers":false,
     "hide_output_from_viewers":false
    }
   }
  },
  {
   "cell_type":"code",
   "source":[
    "import pandas as pd\n",
    "import numpy as np\n",
    "import seaborn as sns\n",
    "from sklearn import preprocessing\n",
    "from sklearn import svm\n",
    "from sklearn.model_selection import train_test_split\n",
    "from sklearn.model_selection import cross_val_score\n",
    "from xgboost import XGBClassifier\n",
    "\n",
    "from sklearn.metrics import accuracy_score, balanced_accuracy_score\n",
    "from sklearn.metrics import precision_score, recall_score, f1_score, classification_report\n",
    "from sklearn.metrics import confusion_matrix\n",
    "from sklearn.metrics import mean_absolute_error, mean_squared_error, mean_squared_log_error, median_absolute_error, r2_score \n",
    "from sklearn.metrics import roc_curve, roc_auc_score\n",
    "\n",
    "from sklearn.ensemble import AdaBoostClassifier\n",
    "from sklearn.impute import SimpleImputer"
   ],
   "execution_count":null,
   "outputs":[
    
   ],
   "metadata":{
    "datalore":{
     "type":"CODE",
     "hide_input_from_viewers":false,
     "hide_output_from_viewers":false
    }
   }
  },
  {
   "cell_type":"code",
   "source":[
    "data = pd.read_csv('impeachment-polls.csv', sep=\",\")\n",
    "TARGET_COL_NAME = 'Pollster'\n",
    "TARGET_IS_NUMERIC = data[TARGET_COL_NAME].dtype != 'O'\n",
    "TARGET_IS_NUMERIC"
   ],
   "execution_count":null,
   "outputs":[
    {
     "data":{
      "text\/plain":[
       "False"
      ]
     },
     "metadata":{
      
     },
     "output_type":"display_data"
    }
   ],
   "metadata":{
    "datalore":{
     "type":"CODE",
     "hide_input_from_viewers":false,
     "hide_output_from_viewers":false
    }
   }
  },
  {
   "cell_type":"code",
   "source":[
    "data"
   ],
   "execution_count":null,
   "outputs":[
    {
     "data":{
      "text\/html":[
       "<div>\n",
       "<style scoped>\n",
       "    .dataframe tbody tr th:only-of-type {\n",
       "        vertical-align: middle;\n",
       "    }\n",
       "\n",
       "    .dataframe tbody tr th {\n",
       "        vertical-align: top;\n",
       "    }\n",
       "\n",
       "    .dataframe thead th {\n",
       "        text-align: right;\n",
       "    }\n",
       "<\/style>\n",
       "<table border=\"1\" class=\"dataframe\">\n",
       "  <thead>\n",
       "    <tr style=\"text-align: right;\">\n",
       "      <th><\/th>\n",
       "      <th>Start<\/th>\n",
       "      <th>End<\/th>\n",
       "      <th>Pollster<\/th>\n",
       "      <th>Sponsor<\/th>\n",
       "      <th>SampleSize<\/th>\n",
       "      <th>Pop<\/th>\n",
       "      <th>tracking<\/th>\n",
       "      <th>Text<\/th>\n",
       "      <th>Category<\/th>\n",
       "      <th>Include?<\/th>\n",
       "      <th>...<\/th>\n",
       "      <th>Rep Yes<\/th>\n",
       "      <th>Rep No<\/th>\n",
       "      <th>Dem Sample<\/th>\n",
       "      <th>Dem Yes<\/th>\n",
       "      <th>Dem No<\/th>\n",
       "      <th>Ind Sample<\/th>\n",
       "      <th>Ind Yes<\/th>\n",
       "      <th>Ind No<\/th>\n",
       "      <th>URL<\/th>\n",
       "      <th>Notes<\/th>\n",
       "    <\/tr>\n",
       "  <\/thead>\n",
       "  <tbody>\n",
       "    <tr>\n",
       "      <th>0<\/th>\n",
       "      <td>6\/28\/2019<\/td>\n",
       "      <td>7\/1\/2019<\/td>\n",
       "      <td>ABC News\/Washington Post<\/td>\n",
       "      <td>NaN<\/td>\n",
       "      <td>1008<\/td>\n",
       "      <td>a<\/td>\n",
       "      <td>NaN<\/td>\n",
       "      <td>Based on what you know, do you think Congress ...<\/td>\n",
       "      <td>begin_proceedings<\/td>\n",
       "      <td>yes<\/td>\n",
       "      <td>...<\/td>\n",
       "      <td>7.0<\/td>\n",
       "      <td>87.0<\/td>\n",
       "      <td>292.0<\/td>\n",
       "      <td>61.0<\/td>\n",
       "      <td>36.0<\/td>\n",
       "      <td>373.0<\/td>\n",
       "      <td>37.0<\/td>\n",
       "      <td>59.0<\/td>\n",
       "      <td>https:\/\/games-cdn.washingtonpost.com\/notes\/pro...<\/td>\n",
       "      <td>NaN<\/td>\n",
       "    <\/tr>\n",
       "    <tr>\n",
       "      <th>1<\/th>\n",
       "      <td>4\/22\/2019<\/td>\n",
       "      <td>4\/25\/2019<\/td>\n",
       "      <td>ABC News\/Washington Post<\/td>\n",
       "      <td>NaN<\/td>\n",
       "      <td>1001<\/td>\n",
       "      <td>a<\/td>\n",
       "      <td>NaN<\/td>\n",
       "      <td>Based on what you know, do you think Congress ...<\/td>\n",
       "      <td>begin_proceedings<\/td>\n",
       "      <td>yes<\/td>\n",
       "      <td>...<\/td>\n",
       "      <td>10.0<\/td>\n",
       "      <td>87.0<\/td>\n",
       "      <td>290.0<\/td>\n",
       "      <td>62.0<\/td>\n",
       "      <td>29.0<\/td>\n",
       "      <td>360.0<\/td>\n",
       "      <td>36.0<\/td>\n",
       "      <td>59.0<\/td>\n",
       "      <td>https:\/\/games-cdn.washingtonpost.com\/notes\/pro...<\/td>\n",
       "      <td>NaN<\/td>\n",
       "    <\/tr>\n",
       "    <tr>\n",
       "      <th>2<\/th>\n",
       "      <td>1\/21\/2019<\/td>\n",
       "      <td>1\/24\/2019<\/td>\n",
       "      <td>ABC News\/Washington Post<\/td>\n",
       "      <td>NaN<\/td>\n",
       "      <td>1001<\/td>\n",
       "      <td>a<\/td>\n",
       "      <td>NaN<\/td>\n",
       "      <td>Based on what you know, do you think Congress ...<\/td>\n",
       "      <td>begin_proceedings<\/td>\n",
       "      <td>yes<\/td>\n",
       "      <td>...<\/td>\n",
       "      <td>7.0<\/td>\n",
       "      <td>90.0<\/td>\n",
       "      <td>320.0<\/td>\n",
       "      <td>64.0<\/td>\n",
       "      <td>30.0<\/td>\n",
       "      <td>370.0<\/td>\n",
       "      <td>42.0<\/td>\n",
       "      <td>53.0<\/td>\n",
       "      <td>langerresearch.com\/wp-content\/uploads\/1204a2Tr...<\/td>\n",
       "      <td>NaN<\/td>\n",
       "    <\/tr>\n",
       "    <tr>\n",
       "      <th>3<\/th>\n",
       "      <td>8\/26\/2018<\/td>\n",
       "      <td>8\/29\/2018<\/td>\n",
       "      <td>ABC News\/Washington Post<\/td>\n",
       "      <td>NaN<\/td>\n",
       "      <td>1003<\/td>\n",
       "      <td>a<\/td>\n",
       "      <td>NaN<\/td>\n",
       "      <td>Based on what you know, do you think Congress ...<\/td>\n",
       "      <td>begin_proceedings<\/td>\n",
       "      <td>yes<\/td>\n",
       "      <td>...<\/td>\n",
       "      <td>15.0<\/td>\n",
       "      <td>82.0<\/td>\n",
       "      <td>331.0<\/td>\n",
       "      <td>75.0<\/td>\n",
       "      <td>21.0<\/td>\n",
       "      <td>371.0<\/td>\n",
       "      <td>49.0<\/td>\n",
       "      <td>46.0<\/td>\n",
       "      <td>https:\/\/www.langerresearch.com\/wp-content\/uplo...<\/td>\n",
       "      <td>NaN<\/td>\n",
       "    <\/tr>\n",
       "    <tr>\n",
       "      <th>4<\/th>\n",
       "      <td>6\/8\/2019<\/td>\n",
       "      <td>6\/12\/2019<\/td>\n",
       "      <td>Civiqs<\/td>\n",
       "      <td>NaN<\/td>\n",
       "      <td>1559<\/td>\n",
       "      <td>rv<\/td>\n",
       "      <td>NaN<\/td>\n",
       "      <td>Do you think the House of Representatives shou...<\/td>\n",
       "      <td>begin_inquiry<\/td>\n",
       "      <td>yes<\/td>\n",
       "      <td>...<\/td>\n",
       "      <td>5.0<\/td>\n",
       "      <td>93.0<\/td>\n",
       "      <td>577.0<\/td>\n",
       "      <td>77.0<\/td>\n",
       "      <td>15.0<\/td>\n",
       "      <td>499.0<\/td>\n",
       "      <td>41.0<\/td>\n",
       "      <td>53.0<\/td>\n",
       "      <td>https:\/\/civiqs.com\/documents\/Civiqs_DailyKos_m...<\/td>\n",
       "      <td>NaN<\/td>\n",
       "    <\/tr>\n",
       "    <tr>\n",
       "      <th>...<\/th>\n",
       "      <td>...<\/td>\n",
       "      <td>...<\/td>\n",
       "      <td>...<\/td>\n",
       "      <td>...<\/td>\n",
       "      <td>...<\/td>\n",
       "      <td>...<\/td>\n",
       "      <td>...<\/td>\n",
       "      <td>...<\/td>\n",
       "      <td>...<\/td>\n",
       "      <td>...<\/td>\n",
       "      <td>...<\/td>\n",
       "      <td>...<\/td>\n",
       "      <td>...<\/td>\n",
       "      <td>...<\/td>\n",
       "      <td>...<\/td>\n",
       "      <td>...<\/td>\n",
       "      <td>...<\/td>\n",
       "      <td>...<\/td>\n",
       "      <td>...<\/td>\n",
       "      <td>...<\/td>\n",
       "      <td>...<\/td>\n",
       "    <\/tr>\n",
       "    <tr>\n",
       "      <th>537<\/th>\n",
       "      <td>1\/29\/2020<\/td>\n",
       "      <td>1\/30\/2020<\/td>\n",
       "      <td>Morning Consult<\/td>\n",
       "      <td>Politico<\/td>\n",
       "      <td>1992<\/td>\n",
       "      <td>rv<\/td>\n",
       "      <td>NaN<\/td>\n",
       "      <td>As you may know, the Constitution gives the Ho...<\/td>\n",
       "      <td>impeach<\/td>\n",
       "      <td>yes<\/td>\n",
       "      <td>...<\/td>\n",
       "      <td>15.0<\/td>\n",
       "      <td>80.0<\/td>\n",
       "      <td>765.0<\/td>\n",
       "      <td>84.0<\/td>\n",
       "      <td>11.0<\/td>\n",
       "      <td>587.0<\/td>\n",
       "      <td>45.0<\/td>\n",
       "      <td>42.0<\/td>\n",
       "      <td>https:\/\/morningconsult.com\/wp-content\/uploads\/...<\/td>\n",
       "      <td>NaN<\/td>\n",
       "    <\/tr>\n",
       "    <tr>\n",
       "      <th>538<\/th>\n",
       "      <td>1\/29\/2020<\/td>\n",
       "      <td>1\/30\/2020<\/td>\n",
       "      <td>Morning Consult<\/td>\n",
       "      <td>Politico<\/td>\n",
       "      <td>1992<\/td>\n",
       "      <td>rv<\/td>\n",
       "      <td>NaN<\/td>\n",
       "      <td>And, would you approve or disapprove of the Se...<\/td>\n",
       "      <td>remove<\/td>\n",
       "      <td>yes<\/td>\n",
       "      <td>...<\/td>\n",
       "      <td>13.0<\/td>\n",
       "      <td>82.0<\/td>\n",
       "      <td>765.0<\/td>\n",
       "      <td>84.0<\/td>\n",
       "      <td>11.0<\/td>\n",
       "      <td>587.0<\/td>\n",
       "      <td>45.0<\/td>\n",
       "      <td>42.0<\/td>\n",
       "      <td>https:\/\/morningconsult.com\/wp-content\/uploads\/...<\/td>\n",
       "      <td>NaN<\/td>\n",
       "    <\/tr>\n",
       "    <tr>\n",
       "      <th>539<\/th>\n",
       "      <td>1\/26\/2020<\/td>\n",
       "      <td>1\/29\/2020<\/td>\n",
       "      <td>NBC News\/Wall Street Journal<\/td>\n",
       "      <td>NaN<\/td>\n",
       "      <td>1000<\/td>\n",
       "      <td>rv<\/td>\n",
       "      <td>NaN<\/td>\n",
       "      <td>Thinking now about the impeachment trial again...<\/td>\n",
       "      <td>remove<\/td>\n",
       "      <td>yes<\/td>\n",
       "      <td>...<\/td>\n",
       "      <td>NaN<\/td>\n",
       "      <td>91.0<\/td>\n",
       "      <td>320.0<\/td>\n",
       "      <td>84.0<\/td>\n",
       "      <td>NaN<\/td>\n",
       "      <td>310.0<\/td>\n",
       "      <td>45.0<\/td>\n",
       "      <td>50.0<\/td>\n",
       "      <td>https:\/\/www.nbcnews.com\/politics\/meet-the-pres...<\/td>\n",
       "      <td>NaN<\/td>\n",
       "    <\/tr>\n",
       "    <tr>\n",
       "      <th>540<\/th>\n",
       "      <td>1\/30\/2020<\/td>\n",
       "      <td>2\/2\/2020<\/td>\n",
       "      <td>AtlasIntel<\/td>\n",
       "      <td>NaN<\/td>\n",
       "      <td>1600<\/td>\n",
       "      <td>rv<\/td>\n",
       "      <td>NaN<\/td>\n",
       "      <td>Do you think President Trump should be impeach...<\/td>\n",
       "      <td>impeach_and_remove<\/td>\n",
       "      <td>yes<\/td>\n",
       "      <td>...<\/td>\n",
       "      <td>NaN<\/td>\n",
       "      <td>NaN<\/td>\n",
       "      <td>NaN<\/td>\n",
       "      <td>NaN<\/td>\n",
       "      <td>NaN<\/td>\n",
       "      <td>NaN<\/td>\n",
       "      <td>NaN<\/td>\n",
       "      <td>NaN<\/td>\n",
       "      <td>https:\/\/projects.fivethirtyeight.com\/polls\/201...<\/td>\n",
       "      <td>NaN<\/td>\n",
       "    <\/tr>\n",
       "    <tr>\n",
       "      <th>541<\/th>\n",
       "      <td>1\/16\/2020<\/td>\n",
       "      <td>1\/29\/2020<\/td>\n",
       "      <td>Gallup<\/td>\n",
       "      <td>NaN<\/td>\n",
       "      <td>1033<\/td>\n",
       "      <td>a<\/td>\n",
       "      <td>NaN<\/td>\n",
       "      <td>Next, as you may know, removing a president fr...<\/td>\n",
       "      <td>remove<\/td>\n",
       "      <td>yes<\/td>\n",
       "      <td>...<\/td>\n",
       "      <td>4.0<\/td>\n",
       "      <td>95.0<\/td>\n",
       "      <td>275.0<\/td>\n",
       "      <td>92.0<\/td>\n",
       "      <td>7.0<\/td>\n",
       "      <td>424.0<\/td>\n",
       "      <td>48.0<\/td>\n",
       "      <td>50.0<\/td>\n",
       "      <td>https:\/\/news.gallup.com\/poll\/284156\/trump-job-...<\/td>\n",
       "      <td>NaN<\/td>\n",
       "    <\/tr>\n",
       "  <\/tbody>\n",
       "<\/table>\n",
       "<p>542 rows × 24 columns<\/p>\n",
       "<\/div>"
      ]
     },
     "metadata":{
      
     },
     "output_type":"display_data"
    }
   ],
   "metadata":{
    "datalore":{
     "type":"CODE",
     "hide_input_from_viewers":false,
     "hide_output_from_viewers":false
    }
   }
  },
  {
   "cell_type":"code",
   "source":[
    "data.shape"
   ],
   "execution_count":null,
   "outputs":[
    {
     "data":{
      "text\/plain":[
       "(542, 24)"
      ]
     },
     "metadata":{
      
     },
     "output_type":"display_data"
    }
   ],
   "metadata":{
    "datalore":{
     "type":"CODE",
     "hide_input_from_viewers":false,
     "hide_output_from_viewers":false
    }
   }
  },
  {
   "cell_type":"code",
   "source":[
    "data.info()"
   ],
   "execution_count":null,
   "outputs":[
    {
     "name":"stdout",
     "text":[
      "<class 'pandas.core.frame.DataFrame'>\n",
      "RangeIndex: 542 entries, 0 to 541\n",
      "Data columns (total 24 columns):\n",
      " #   Column      Non-Null Count  Dtype  \n",
      "---  ------      --------------  -----  \n",
      " 0   Start       542 non-null    object \n",
      " 1   End         542 non-null    object \n",
      " 2   Pollster    542 non-null    object \n",
      " 3   Sponsor     276 non-null    object \n",
      " 4   SampleSize  542 non-null    int64  \n",
      " 5   Pop         542 non-null    object \n",
      " 6   tracking    114 non-null    object \n",
      " 7   Text        541 non-null    object \n",
      " 8   Category    541 non-null    object \n",
      " 9   Include?    542 non-null    object \n",
      " 10  Yes         542 non-null    float64\n",
      " 11  No          542 non-null    float64\n",
      " 12  Unsure      521 non-null    float64\n",
      " 13  Rep Sample  475 non-null    float64\n",
      " 14  Rep Yes     509 non-null    float64\n",
      " 15  Rep No      492 non-null    float64\n",
      " 16  Dem Sample  477 non-null    float64\n",
      " 17  Dem Yes     515 non-null    float64\n",
      " 18  Dem No      491 non-null    float64\n",
      " 19  Ind Sample  409 non-null    float64\n",
      " 20  Ind Yes     447 non-null    float64\n",
      " 21  Ind No      430 non-null    float64\n",
      " 22  URL         541 non-null    object \n",
      " 23  Notes       7 non-null      object \n",
      "dtypes: float64(12), int64(1), object(11)\n",
      "memory usage: 101.8+ KB\n"
     ],
     "output_type":"stream"
    }
   ],
   "metadata":{
    "datalore":{
     "type":"CODE",
     "hide_input_from_viewers":false,
     "hide_output_from_viewers":false
    }
   }
  },
  {
   "cell_type":"code",
   "source":[
    "# проверим есть ли пропущенные значения\n",
    "data.isnull().sum()"
   ],
   "execution_count":null,
   "outputs":[
    {
     "data":{
      "text\/html":[
       
      ]
     },
     "metadata":{
      
     },
     "output_type":"display_data"
    }
   ],
   "metadata":{
    "datalore":{
     "type":"CODE",
     "hide_input_from_viewers":false,
     "hide_output_from_viewers":false
    }
   }
  },
  {
   "cell_type":"markdown",
   "source":[
    "### Удалим колонки, которые не влияют на целевой признак"
   ],
   "attachments":{
    
   },
   "metadata":{
    "datalore":{
     "type":"MD",
     "hide_input_from_viewers":false,
     "hide_output_from_viewers":false
    }
   }
  },
  {
   "cell_type":"markdown",
   "source":[
    "Построим heatmap для лучшего визуального представления всез корреляций"
   ],
   "attachments":{
    
   },
   "metadata":{
    "datalore":{
     "type":"MD",
     "hide_input_from_viewers":false,
     "hide_output_from_viewers":false
    }
   }
  },
  {
   "cell_type":"code",
   "source":[
    "cmap = sns.cm.rocket_r\n",
    "ax = sns.heatmap(data.corr(), cmap=cmap)"
   ],
   "execution_count":null,
   "outputs":[
    {
     "data":{
      "image\/png":"[encoded data removed]"
     },
     "metadata":{
      "image\/png":{
       
      }
     },
     "output_type":"display_data"
    }
   ],
   "metadata":{
    "datalore":{
     "type":"CODE",
     "hide_input_from_viewers":false,
     "hide_output_from_viewers":false
    }
   }
  },
  {
   "cell_type":"code",
   "source":[
    "data = data.drop(columns=['Sponsor', 'Ind Sample', 'tracking', 'Notes'])\n",
    "data.info()"
   ],
   "execution_count":null,
   "outputs":[
    {
     "name":"stdout",
     "text":[
      "<class 'pandas.core.frame.DataFrame'>\n",
      "RangeIndex: 542 entries, 0 to 541\n",
      "Data columns (total 20 columns):\n",
      " #   Column      Non-Null Count  Dtype  \n",
      "---  ------      --------------  -----  \n",
      " 0   Start       542 non-null    object \n",
      " 1   End         542 non-null    object \n",
      " 2   Pollster    542 non-null    object \n",
      " 3   SampleSize  542 non-null    int64  \n",
      " 4   Pop         542 non-null    object \n",
      " 5   Text        541 non-null    object \n",
      " 6   Category    541 non-null    object \n",
      " 7   Include?    542 non-null    object \n",
      " 8   Yes         542 non-null    float64\n",
      " 9   No          542 non-null    float64\n",
      " 10  Unsure      521 non-null    float64\n",
      " 11  Rep Sample  475 non-null    float64\n",
      " 12  Rep Yes     509 non-null    float64\n",
      " 13  Rep No      492 non-null    float64\n",
      " 14  Dem Sample  477 non-null    float64\n",
      " 15  Dem Yes     515 non-null    float64\n",
      " 16  Dem No      491 non-null    float64\n",
      " 17  Ind Yes     447 non-null    float64\n",
      " 18  Ind No      430 non-null    float64\n",
      " 19  URL         541 non-null    object \n",
      "dtypes: float64(11), int64(1), object(8)\n",
      "memory usage: 84.8+ KB\n"
     ],
     "output_type":"stream"
    }
   ],
   "metadata":{
    "datalore":{
     "type":"CODE",
     "hide_input_from_viewers":false,
     "hide_output_from_viewers":false
    }
   }
  },
  {
   "cell_type":"markdown",
   "source":[
    "### Обработка пропусков"
   ],
   "attachments":{
    
   },
   "metadata":{
    "datalore":{
     "type":"MD",
     "hide_input_from_viewers":false,
     "hide_output_from_viewers":false
    }
   }
  },
  {
   "cell_type":"code",
   "source":[
    "# Импьютация наиболее частыми значениями\n",
    "imp = SimpleImputer(missing_values=np.nan, strategy='most_frequent')\n",
    "\n",
    "imputed = {}\n",
    "\n",
    "for col in data:\n",
    "    contains_nan = data[col].isnull().sum() != 0\n",
    "    if contains_nan:\n",
    "        data_imp = data[[col]]\n",
    "        data_imp = imp.fit_transform(data_imp)\n",
    "        imputed[col] = data_imp\n",
    "\n",
    "for col_name in imputed:\n",
    "    df = pd.DataFrame({col_name:imputed[col_name].T[0]})\n",
    "    data[col_name] = df.copy()\n",
    "\n",
    "data.info()"
   ],
   "execution_count":null,
   "outputs":[
    {
     "name":"stdout",
     "text":[
      "<class 'pandas.core.frame.DataFrame'>\n",
      "RangeIndex: 542 entries, 0 to 541\n",
      "Data columns (total 20 columns):\n",
      " #   Column      Non-Null Count  Dtype  \n",
      "---  ------      --------------  -----  \n",
      " 0   Start       542 non-null    object \n",
      " 1   End         542 non-null    object \n",
      " 2   Pollster    542 non-null    object \n",
      " 3   SampleSize  542 non-null    int64  \n",
      " 4   Pop         542 non-null    object \n",
      " 5   Text        542 non-null    object \n",
      " 6   Category    542 non-null    object \n",
      " 7   Include?    542 non-null    object \n",
      " 8   Yes         542 non-null    float64\n",
      " 9   No          542 non-null    float64\n",
      " 10  Unsure      542 non-null    float64\n",
      " 11  Rep Sample  542 non-null    float64\n",
      " 12  Rep Yes     542 non-null    float64\n",
      " 13  Rep No      542 non-null    float64\n",
      " 14  Dem Sample  542 non-null    float64\n",
      " 15  Dem Yes     542 non-null    float64\n",
      " 16  Dem No      542 non-null    float64\n",
      " 17  Ind Yes     542 non-null    float64\n",
      " 18  Ind No      542 non-null    float64\n",
      " 19  URL         542 non-null    object \n",
      "dtypes: float64(11), int64(1), object(8)\n",
      "memory usage: 84.8+ KB\n"
     ],
     "output_type":"stream"
    }
   ],
   "metadata":{
    "datalore":{
     "type":"CODE",
     "hide_input_from_viewers":false,
     "hide_output_from_viewers":false
    }
   }
  },
  {
   "cell_type":"markdown",
   "source":[
    "### Кодирование строковых признаков (LabelEncoding)"
   ],
   "attachments":{
    
   },
   "metadata":{
    "datalore":{
     "type":"MD",
     "hide_input_from_viewers":false,
     "hide_output_from_viewers":false
    }
   }
  },
  {
   "cell_type":"code",
   "source":[
    "not_number_cols = data.select_dtypes(include=['object'])\n",
    "number_cols = data.select_dtypes(exclude=['object'])"
   ],
   "execution_count":null,
   "outputs":[
    
   ],
   "metadata":{
    "datalore":{
     "type":"CODE",
     "hide_input_from_viewers":false,
     "hide_output_from_viewers":false
    }
   }
  },
  {
   "cell_type":"code",
   "source":[
    "le = preprocessing.LabelEncoder()\n",
    "\n",
    "for col_name in not_number_cols:\n",
    "    data[col_name] = le.fit_transform(data[col_name])\n",
    "    \n",
    "data"
   ],
   "execution_count":null,
   "outputs":[
    {
     "data":{
      "text\/html":[
       "<div>\n",
       "<style scoped>\n",
       "    .dataframe tbody tr th:only-of-type {\n",
       "        vertical-align: middle;\n",
       "    }\n",
       "\n",
       "    .dataframe tbody tr th {\n",
       "        vertical-align: top;\n",
       "    }\n",
       "\n",
       "    .dataframe thead th {\n",
       "        text-align: right;\n",
       "    }\n",
       "<\/style>\n",
       "<table border=\"1\" class=\"dataframe\">\n",
       "  <thead>\n",
       "    <tr style=\"text-align: right;\">\n",
       "      <th><\/th>\n",
       "      <th>Start<\/th>\n",
       "      <th>End<\/th>\n",
       "      <th>Pollster<\/th>\n",
       "      <th>SampleSize<\/th>\n",
       "      <th>Pop<\/th>\n",
       "      <th>Text<\/th>\n",
       "      <th>Category<\/th>\n",
       "      <th>Include?<\/th>\n",
       "      <th>Yes<\/th>\n",
       "      <th>No<\/th>\n",
       "      <th>Unsure<\/th>\n",
       "      <th>Rep Sample<\/th>\n",
       "      <th>Rep Yes<\/th>\n",
       "      <th>Rep No<\/th>\n",
       "      <th>Dem Sample<\/th>\n",
       "      <th>Dem Yes<\/th>\n",
       "      <th>Dem No<\/th>\n",
       "      <th>Ind Yes<\/th>\n",
       "      <th>Ind No<\/th>\n",
       "      <th>URL<\/th>\n",
       "    <\/tr>\n",
       "  <\/thead>\n",
       "  <tbody>\n",
       "    <tr>\n",
       "      <th>0<\/th>\n",
       "      <td>263<\/td>\n",
       "      <td>257<\/td>\n",
       "      <td>0<\/td>\n",
       "      <td>1008<\/td>\n",
       "      <td>0<\/td>\n",
       "      <td>35<\/td>\n",
       "      <td>1<\/td>\n",
       "      <td>1<\/td>\n",
       "      <td>37.0<\/td>\n",
       "      <td>59.0<\/td>\n",
       "      <td>4.0<\/td>\n",
       "      <td>232.0<\/td>\n",
       "      <td>7.0<\/td>\n",
       "      <td>87.0<\/td>\n",
       "      <td>292.0<\/td>\n",
       "      <td>61.0<\/td>\n",
       "      <td>36.0<\/td>\n",
       "      <td>37.0<\/td>\n",
       "      <td>59.0<\/td>\n",
       "      <td>93<\/td>\n",
       "    <\/tr>\n",
       "    <tr>\n",
       "      <th>1<\/th>\n",
       "      <td>228<\/td>\n",
       "      <td>218<\/td>\n",
       "      <td>0<\/td>\n",
       "      <td>1001<\/td>\n",
       "      <td>0<\/td>\n",
       "      <td>35<\/td>\n",
       "      <td>1<\/td>\n",
       "      <td>1<\/td>\n",
       "      <td>37.0<\/td>\n",
       "      <td>56.0<\/td>\n",
       "      <td>6.0<\/td>\n",
       "      <td>260.0<\/td>\n",
       "      <td>10.0<\/td>\n",
       "      <td>87.0<\/td>\n",
       "      <td>290.0<\/td>\n",
       "      <td>62.0<\/td>\n",
       "      <td>29.0<\/td>\n",
       "      <td>36.0<\/td>\n",
       "      <td>59.0<\/td>\n",
       "      <td>94<\/td>\n",
       "    <\/tr>\n",
       "    <tr>\n",
       "      <th>2<\/th>\n",
       "      <td>16<\/td>\n",
       "      <td>18<\/td>\n",
       "      <td>0<\/td>\n",
       "      <td>1001<\/td>\n",
       "      <td>0<\/td>\n",
       "      <td>35<\/td>\n",
       "      <td>1<\/td>\n",
       "      <td>1<\/td>\n",
       "      <td>40.0<\/td>\n",
       "      <td>55.0<\/td>\n",
       "      <td>6.0<\/td>\n",
       "      <td>240.0<\/td>\n",
       "      <td>7.0<\/td>\n",
       "      <td>90.0<\/td>\n",
       "      <td>320.0<\/td>\n",
       "      <td>64.0<\/td>\n",
       "      <td>30.0<\/td>\n",
       "      <td>42.0<\/td>\n",
       "      <td>53.0<\/td>\n",
       "      <td>306<\/td>\n",
       "    <\/tr>\n",
       "    <tr>\n",
       "      <th>3<\/th>\n",
       "      <td>299<\/td>\n",
       "      <td>283<\/td>\n",
       "      <td>0<\/td>\n",
       "      <td>1003<\/td>\n",
       "      <td>0<\/td>\n",
       "      <td>35<\/td>\n",
       "      <td>1<\/td>\n",
       "      <td>1<\/td>\n",
       "      <td>49.0<\/td>\n",
       "      <td>46.0<\/td>\n",
       "      <td>5.0<\/td>\n",
       "      <td>251.0<\/td>\n",
       "      <td>15.0<\/td>\n",
       "      <td>82.0<\/td>\n",
       "      <td>331.0<\/td>\n",
       "      <td>75.0<\/td>\n",
       "      <td>21.0<\/td>\n",
       "      <td>49.0<\/td>\n",
       "      <td>46.0<\/td>\n",
       "      <td>235<\/td>\n",
       "    <\/tr>\n",
       "    <tr>\n",
       "      <th>4<\/th>\n",
       "      <td>271<\/td>\n",
       "      <td>244<\/td>\n",
       "      <td>6<\/td>\n",
       "      <td>1559<\/td>\n",
       "      <td>2<\/td>\n",
       "      <td>89<\/td>\n",
       "      <td>0<\/td>\n",
       "      <td>1<\/td>\n",
       "      <td>43.0<\/td>\n",
       "      <td>51.0<\/td>\n",
       "      <td>5.0<\/td>\n",
       "      <td>483.0<\/td>\n",
       "      <td>5.0<\/td>\n",
       "      <td>93.0<\/td>\n",
       "      <td>577.0<\/td>\n",
       "      <td>77.0<\/td>\n",
       "      <td>15.0<\/td>\n",
       "      <td>41.0<\/td>\n",
       "      <td>53.0<\/td>\n",
       "      <td>47<\/td>\n",
       "    <\/tr>\n",
       "    <tr>\n",
       "      <th>...<\/th>\n",
       "      <td>...<\/td>\n",
       "      <td>...<\/td>\n",
       "      <td>...<\/td>\n",
       "      <td>...<\/td>\n",
       "      <td>...<\/td>\n",
       "      <td>...<\/td>\n",
       "      <td>...<\/td>\n",
       "      <td>...<\/td>\n",
       "      <td>...<\/td>\n",
       "      <td>...<\/td>\n",
       "      <td>...<\/td>\n",
       "      <td>...<\/td>\n",
       "      <td>...<\/td>\n",
       "      <td>...<\/td>\n",
       "      <td>...<\/td>\n",
       "      <td>...<\/td>\n",
       "      <td>...<\/td>\n",
       "      <td>...<\/td>\n",
       "      <td>...<\/td>\n",
       "      <td>...<\/td>\n",
       "    <\/tr>\n",
       "    <tr>\n",
       "      <th>537<\/th>\n",
       "      <td>32<\/td>\n",
       "      <td>30<\/td>\n",
       "      <td>18<\/td>\n",
       "      <td>1992<\/td>\n",
       "      <td>2<\/td>\n",
       "      <td>13<\/td>\n",
       "      <td>4<\/td>\n",
       "      <td>1<\/td>\n",
       "      <td>50.0<\/td>\n",
       "      <td>43.0<\/td>\n",
       "      <td>7.0<\/td>\n",
       "      <td>641.0<\/td>\n",
       "      <td>15.0<\/td>\n",
       "      <td>80.0<\/td>\n",
       "      <td>765.0<\/td>\n",
       "      <td>84.0<\/td>\n",
       "      <td>11.0<\/td>\n",
       "      <td>45.0<\/td>\n",
       "      <td>42.0<\/td>\n",
       "      <td>126<\/td>\n",
       "    <\/tr>\n",
       "    <tr>\n",
       "      <th>538<\/th>\n",
       "      <td>32<\/td>\n",
       "      <td>30<\/td>\n",
       "      <td>18<\/td>\n",
       "      <td>1992<\/td>\n",
       "      <td>2<\/td>\n",
       "      <td>5<\/td>\n",
       "      <td>7<\/td>\n",
       "      <td>1<\/td>\n",
       "      <td>50.0<\/td>\n",
       "      <td>43.0<\/td>\n",
       "      <td>14.0<\/td>\n",
       "      <td>641.0<\/td>\n",
       "      <td>13.0<\/td>\n",
       "      <td>82.0<\/td>\n",
       "      <td>765.0<\/td>\n",
       "      <td>84.0<\/td>\n",
       "      <td>11.0<\/td>\n",
       "      <td>45.0<\/td>\n",
       "      <td>42.0<\/td>\n",
       "      <td>126<\/td>\n",
       "    <\/tr>\n",
       "    <tr>\n",
       "      <th>539<\/th>\n",
       "      <td>27<\/td>\n",
       "      <td>27<\/td>\n",
       "      <td>19<\/td>\n",
       "      <td>1000<\/td>\n",
       "      <td>2<\/td>\n",
       "      <td>117<\/td>\n",
       "      <td>7<\/td>\n",
       "      <td>1<\/td>\n",
       "      <td>46.0<\/td>\n",
       "      <td>49.0<\/td>\n",
       "      <td>5.0<\/td>\n",
       "      <td>300.0<\/td>\n",
       "      <td>12.0<\/td>\n",
       "      <td>91.0<\/td>\n",
       "      <td>320.0<\/td>\n",
       "      <td>84.0<\/td>\n",
       "      <td>11.0<\/td>\n",
       "      <td>45.0<\/td>\n",
       "      <td>50.0<\/td>\n",
       "      <td>250<\/td>\n",
       "    <\/tr>\n",
       "    <tr>\n",
       "      <th>540<\/th>\n",
       "      <td>36<\/td>\n",
       "      <td>164<\/td>\n",
       "      <td>2<\/td>\n",
       "      <td>1600<\/td>\n",
       "      <td>2<\/td>\n",
       "      <td>72<\/td>\n",
       "      <td>5<\/td>\n",
       "      <td>1<\/td>\n",
       "      <td>48.7<\/td>\n",
       "      <td>48.2<\/td>\n",
       "      <td>3.1<\/td>\n",
       "      <td>320.0<\/td>\n",
       "      <td>12.0<\/td>\n",
       "      <td>82.0<\/td>\n",
       "      <td>370.0<\/td>\n",
       "      <td>85.0<\/td>\n",
       "      <td>11.0<\/td>\n",
       "      <td>36.0<\/td>\n",
       "      <td>45.0<\/td>\n",
       "      <td>157<\/td>\n",
       "    <\/tr>\n",
       "    <tr>\n",
       "      <th>541<\/th>\n",
       "      <td>7<\/td>\n",
       "      <td>27<\/td>\n",
       "      <td>9<\/td>\n",
       "      <td>1033<\/td>\n",
       "      <td>0<\/td>\n",
       "      <td>109<\/td>\n",
       "      <td>7<\/td>\n",
       "      <td>1<\/td>\n",
       "      <td>46.0<\/td>\n",
       "      <td>52.0<\/td>\n",
       "      <td>1.0<\/td>\n",
       "      <td>328.0<\/td>\n",
       "      <td>4.0<\/td>\n",
       "      <td>95.0<\/td>\n",
       "      <td>275.0<\/td>\n",
       "      <td>92.0<\/td>\n",
       "      <td>7.0<\/td>\n",
       "      <td>48.0<\/td>\n",
       "      <td>50.0<\/td>\n",
       "      <td>137<\/td>\n",
       "    <\/tr>\n",
       "  <\/tbody>\n",
       "<\/table>\n",
       "<p>542 rows × 20 columns<\/p>\n",
       "<\/div>"
      ]
     },
     "metadata":{
      
     },
     "output_type":"display_data"
    }
   ],
   "metadata":{
    "datalore":{
     "type":"CODE",
     "hide_input_from_viewers":false,
     "hide_output_from_viewers":false
    }
   }
  },
  {
   "cell_type":"markdown",
   "source":[
    "### Масштабируем числовые данные"
   ],
   "attachments":{
    
   },
   "metadata":{
    "datalore":{
     "type":"MD",
     "hide_input_from_viewers":false,
     "hide_output_from_viewers":false
    }
   }
  },
  {
   "cell_type":"code",
   "source":[
    "scaler = preprocessing.MinMaxScaler()\n",
    "\n",
    "number_fields_source = number_cols.loc[:, number_cols.columns!=TARGET_COL_NAME] if TARGET_IS_NUMERIC else number_cols\n",
    "\n",
    "for col_name in number_fields_source:\n",
    "    data[col_name] = scaler.fit_transform(data[[col_name]])\n",
    "\n",
    "data"
   ],
   "execution_count":null,
   "outputs":[
    {
     "data":{
      "text\/html":[
       "<div>\n",
       "<style scoped>\n",
       "    .dataframe tbody tr th:only-of-type {\n",
       "        vertical-align: middle;\n",
       "    }\n",
       "\n",
       "    .dataframe tbody tr th {\n",
       "        vertical-align: top;\n",
       "    }\n",
       "\n",
       "    .dataframe thead th {\n",
       "        text-align: right;\n",
       "    }\n",
       "<\/style>\n",
       "<table border=\"1\" class=\"dataframe\">\n",
       "  <thead>\n",
       "    <tr style=\"text-align: right;\">\n",
       "      <th><\/th>\n",
       "      <th>Start<\/th>\n",
       "      <th>End<\/th>\n",
       "      <th>Pollster<\/th>\n",
       "      <th>SampleSize<\/th>\n",
       "      <th>Pop<\/th>\n",
       "      <th>Text<\/th>\n",
       "      <th>Category<\/th>\n",
       "      <th>Include?<\/th>\n",
       "      <th>Yes<\/th>\n",
       "      <th>No<\/th>\n",
       "      <th>Unsure<\/th>\n",
       "      <th>Rep Sample<\/th>\n",
       "      <th>Rep Yes<\/th>\n",
       "      <th>Rep No<\/th>\n",
       "      <th>Dem Sample<\/th>\n",
       "      <th>Dem Yes<\/th>\n",
       "      <th>Dem No<\/th>\n",
       "      <th>Ind Yes<\/th>\n",
       "      <th>Ind No<\/th>\n",
       "      <th>URL<\/th>\n",
       "    <\/tr>\n",
       "  <\/thead>\n",
       "  <tbody>\n",
       "    <tr>\n",
       "      <th>0<\/th>\n",
       "      <td>263<\/td>\n",
       "      <td>257<\/td>\n",
       "      <td>0<\/td>\n",
       "      <td>0.034294<\/td>\n",
       "      <td>0<\/td>\n",
       "      <td>35<\/td>\n",
       "      <td>1<\/td>\n",
       "      <td>1<\/td>\n",
       "      <td>0.272727<\/td>\n",
       "      <td>0.815789<\/td>\n",
       "      <td>0.111111<\/td>\n",
       "      <td>0.014654<\/td>\n",
       "      <td>0.185185<\/td>\n",
       "      <td>0.696970<\/td>\n",
       "      <td>0.018689<\/td>\n",
       "      <td>0.190476<\/td>\n",
       "      <td>0.941176<\/td>\n",
       "      <td>0.357143<\/td>\n",
       "      <td>0.796296<\/td>\n",
       "      <td>93<\/td>\n",
       "    <\/tr>\n",
       "    <tr>\n",
       "      <th>1<\/th>\n",
       "      <td>228<\/td>\n",
       "      <td>218<\/td>\n",
       "      <td>0<\/td>\n",
       "      <td>0.033898<\/td>\n",
       "      <td>0<\/td>\n",
       "      <td>35<\/td>\n",
       "      <td>1<\/td>\n",
       "      <td>1<\/td>\n",
       "      <td>0.272727<\/td>\n",
       "      <td>0.736842<\/td>\n",
       "      <td>0.185185<\/td>\n",
       "      <td>0.018045<\/td>\n",
       "      <td>0.296296<\/td>\n",
       "      <td>0.696970<\/td>\n",
       "      <td>0.018397<\/td>\n",
       "      <td>0.214286<\/td>\n",
       "      <td>0.735294<\/td>\n",
       "      <td>0.333333<\/td>\n",
       "      <td>0.796296<\/td>\n",
       "      <td>94<\/td>\n",
       "    <\/tr>\n",
       "    <tr>\n",
       "      <th>2<\/th>\n",
       "      <td>16<\/td>\n",
       "      <td>18<\/td>\n",
       "      <td>0<\/td>\n",
       "      <td>0.033898<\/td>\n",
       "      <td>0<\/td>\n",
       "      <td>35<\/td>\n",
       "      <td>1<\/td>\n",
       "      <td>1<\/td>\n",
       "      <td>0.363636<\/td>\n",
       "      <td>0.710526<\/td>\n",
       "      <td>0.185185<\/td>\n",
       "      <td>0.015623<\/td>\n",
       "      <td>0.185185<\/td>\n",
       "      <td>0.787879<\/td>\n",
       "      <td>0.022777<\/td>\n",
       "      <td>0.261905<\/td>\n",
       "      <td>0.764706<\/td>\n",
       "      <td>0.476190<\/td>\n",
       "      <td>0.685185<\/td>\n",
       "      <td>306<\/td>\n",
       "    <\/tr>\n",
       "    <tr>\n",
       "      <th>3<\/th>\n",
       "      <td>299<\/td>\n",
       "      <td>283<\/td>\n",
       "      <td>0<\/td>\n",
       "      <td>0.034011<\/td>\n",
       "      <td>0<\/td>\n",
       "      <td>35<\/td>\n",
       "      <td>1<\/td>\n",
       "      <td>1<\/td>\n",
       "      <td>0.636364<\/td>\n",
       "      <td>0.473684<\/td>\n",
       "      <td>0.148148<\/td>\n",
       "      <td>0.016955<\/td>\n",
       "      <td>0.481481<\/td>\n",
       "      <td>0.545455<\/td>\n",
       "      <td>0.024383<\/td>\n",
       "      <td>0.523810<\/td>\n",
       "      <td>0.500000<\/td>\n",
       "      <td>0.642857<\/td>\n",
       "      <td>0.555556<\/td>\n",
       "      <td>235<\/td>\n",
       "    <\/tr>\n",
       "    <tr>\n",
       "      <th>4<\/th>\n",
       "      <td>271<\/td>\n",
       "      <td>244<\/td>\n",
       "      <td>6<\/td>\n",
       "      <td>0.065424<\/td>\n",
       "      <td>2<\/td>\n",
       "      <td>89<\/td>\n",
       "      <td>0<\/td>\n",
       "      <td>1<\/td>\n",
       "      <td>0.454545<\/td>\n",
       "      <td>0.605263<\/td>\n",
       "      <td>0.148148<\/td>\n",
       "      <td>0.045053<\/td>\n",
       "      <td>0.111111<\/td>\n",
       "      <td>0.878788<\/td>\n",
       "      <td>0.060301<\/td>\n",
       "      <td>0.571429<\/td>\n",
       "      <td>0.323529<\/td>\n",
       "      <td>0.452381<\/td>\n",
       "      <td>0.685185<\/td>\n",
       "      <td>47<\/td>\n",
       "    <\/tr>\n",
       "    <tr>\n",
       "      <th>...<\/th>\n",
       "      <td>...<\/td>\n",
       "      <td>...<\/td>\n",
       "      <td>...<\/td>\n",
       "      <td>...<\/td>\n",
       "      <td>...<\/td>\n",
       "      <td>...<\/td>\n",
       "      <td>...<\/td>\n",
       "      <td>...<\/td>\n",
       "      <td>...<\/td>\n",
       "      <td>...<\/td>\n",
       "      <td>...<\/td>\n",
       "      <td>...<\/td>\n",
       "      <td>...<\/td>\n",
       "      <td>...<\/td>\n",
       "      <td>...<\/td>\n",
       "      <td>...<\/td>\n",
       "      <td>...<\/td>\n",
       "      <td>...<\/td>\n",
       "      <td>...<\/td>\n",
       "      <td>...<\/td>\n",
       "    <\/tr>\n",
       "    <tr>\n",
       "      <th>537<\/th>\n",
       "      <td>32<\/td>\n",
       "      <td>30<\/td>\n",
       "      <td>18<\/td>\n",
       "      <td>0.089887<\/td>\n",
       "      <td>2<\/td>\n",
       "      <td>13<\/td>\n",
       "      <td>4<\/td>\n",
       "      <td>1<\/td>\n",
       "      <td>0.666667<\/td>\n",
       "      <td>0.394737<\/td>\n",
       "      <td>0.222222<\/td>\n",
       "      <td>0.064188<\/td>\n",
       "      <td>0.481481<\/td>\n",
       "      <td>0.484848<\/td>\n",
       "      <td>0.087750<\/td>\n",
       "      <td>0.738095<\/td>\n",
       "      <td>0.205882<\/td>\n",
       "      <td>0.547619<\/td>\n",
       "      <td>0.481481<\/td>\n",
       "      <td>126<\/td>\n",
       "    <\/tr>\n",
       "    <tr>\n",
       "      <th>538<\/th>\n",
       "      <td>32<\/td>\n",
       "      <td>30<\/td>\n",
       "      <td>18<\/td>\n",
       "      <td>0.089887<\/td>\n",
       "      <td>2<\/td>\n",
       "      <td>5<\/td>\n",
       "      <td>7<\/td>\n",
       "      <td>1<\/td>\n",
       "      <td>0.666667<\/td>\n",
       "      <td>0.394737<\/td>\n",
       "      <td>0.481481<\/td>\n",
       "      <td>0.064188<\/td>\n",
       "      <td>0.407407<\/td>\n",
       "      <td>0.545455<\/td>\n",
       "      <td>0.087750<\/td>\n",
       "      <td>0.738095<\/td>\n",
       "      <td>0.205882<\/td>\n",
       "      <td>0.547619<\/td>\n",
       "      <td>0.481481<\/td>\n",
       "      <td>126<\/td>\n",
       "    <\/tr>\n",
       "    <tr>\n",
       "      <th>539<\/th>\n",
       "      <td>27<\/td>\n",
       "      <td>27<\/td>\n",
       "      <td>19<\/td>\n",
       "      <td>0.033842<\/td>\n",
       "      <td>2<\/td>\n",
       "      <td>117<\/td>\n",
       "      <td>7<\/td>\n",
       "      <td>1<\/td>\n",
       "      <td>0.545455<\/td>\n",
       "      <td>0.552632<\/td>\n",
       "      <td>0.148148<\/td>\n",
       "      <td>0.022890<\/td>\n",
       "      <td>0.370370<\/td>\n",
       "      <td>0.818182<\/td>\n",
       "      <td>0.022777<\/td>\n",
       "      <td>0.738095<\/td>\n",
       "      <td>0.205882<\/td>\n",
       "      <td>0.547619<\/td>\n",
       "      <td>0.629630<\/td>\n",
       "      <td>250<\/td>\n",
       "    <\/tr>\n",
       "    <tr>\n",
       "      <th>540<\/th>\n",
       "      <td>36<\/td>\n",
       "      <td>164<\/td>\n",
       "      <td>2<\/td>\n",
       "      <td>0.067740<\/td>\n",
       "      <td>2<\/td>\n",
       "      <td>72<\/td>\n",
       "      <td>5<\/td>\n",
       "      <td>1<\/td>\n",
       "      <td>0.627273<\/td>\n",
       "      <td>0.531579<\/td>\n",
       "      <td>0.077778<\/td>\n",
       "      <td>0.025312<\/td>\n",
       "      <td>0.370370<\/td>\n",
       "      <td>0.545455<\/td>\n",
       "      <td>0.030077<\/td>\n",
       "      <td>0.761905<\/td>\n",
       "      <td>0.205882<\/td>\n",
       "      <td>0.333333<\/td>\n",
       "      <td>0.537037<\/td>\n",
       "      <td>157<\/td>\n",
       "    <\/tr>\n",
       "    <tr>\n",
       "      <th>541<\/th>\n",
       "      <td>7<\/td>\n",
       "      <td>27<\/td>\n",
       "      <td>9<\/td>\n",
       "      <td>0.035706<\/td>\n",
       "      <td>0<\/td>\n",
       "      <td>109<\/td>\n",
       "      <td>7<\/td>\n",
       "      <td>1<\/td>\n",
       "      <td>0.545455<\/td>\n",
       "      <td>0.631579<\/td>\n",
       "      <td>0.000000<\/td>\n",
       "      <td>0.026281<\/td>\n",
       "      <td>0.074074<\/td>\n",
       "      <td>0.939394<\/td>\n",
       "      <td>0.016207<\/td>\n",
       "      <td>0.928571<\/td>\n",
       "      <td>0.088235<\/td>\n",
       "      <td>0.619048<\/td>\n",
       "      <td>0.629630<\/td>\n",
       "      <td>137<\/td>\n",
       "    <\/tr>\n",
       "  <\/tbody>\n",
       "<\/table>\n",
       "<p>542 rows × 20 columns<\/p>\n",
       "<\/div>"
      ]
     },
     "metadata":{
      
     },
     "output_type":"display_data"
    }
   ],
   "metadata":{
    "datalore":{
     "type":"CODE",
     "hide_input_from_viewers":false,
     "hide_output_from_viewers":false
    }
   }
  },
  {
   "cell_type":"markdown",
   "source":[
    "### Делим выборку на обучающую и тестовую"
   ],
   "attachments":{
    
   },
   "metadata":{
    "datalore":{
     "type":"MD",
     "hide_input_from_viewers":false,
     "hide_output_from_viewers":false
    }
   }
  },
  {
   "cell_type":"code",
   "source":[
    "target = data[TARGET_COL_NAME]\n",
    "data_X_train, data_X_test, data_y_train, data_y_test = train_test_split(\n",
    "    data, target, test_size=0.2, random_state=1)"
   ],
   "execution_count":null,
   "outputs":[
    
   ],
   "metadata":{
    "datalore":{
     "type":"CODE",
     "hide_input_from_viewers":false,
     "hide_output_from_viewers":false
    }
   }
  },
  {
   "cell_type":"code",
   "source":[
    "data_X_train.shape, data_y_train.shape"
   ],
   "execution_count":null,
   "outputs":[
    {
     "data":{
      "text\/plain":[
       "((433, 20), (433,))"
      ]
     },
     "metadata":{
      
     },
     "output_type":"display_data"
    }
   ],
   "metadata":{
    "datalore":{
     "type":"CODE",
     "hide_input_from_viewers":false,
     "hide_output_from_viewers":false
    }
   }
  },
  {
   "cell_type":"code",
   "source":[
    "data_X_test.shape, data_y_test.shape"
   ],
   "execution_count":null,
   "outputs":[
    {
     "data":{
      "text\/plain":[
       "((109, 20), (109,))"
      ]
     },
     "metadata":{
      
     },
     "output_type":"display_data"
    }
   ],
   "metadata":{
    "datalore":{
     "type":"CODE",
     "hide_input_from_viewers":false,
     "hide_output_from_viewers":false
    }
   }
  },
  {
   "cell_type":"code",
   "source":[
    "np.unique(target)"
   ],
   "execution_count":null,
   "outputs":[
    {
     "data":{
      "text\/html":[
       
      ]
     },
     "metadata":{
      
     },
     "output_type":"display_data"
    }
   ],
   "metadata":{
    "datalore":{
     "type":"CODE",
     "hide_input_from_viewers":false,
     "hide_output_from_viewers":false
    }
   }
  },
  {
   "cell_type":"markdown",
   "source":[
    "### Метод опорных векторов"
   ],
   "attachments":{
    
   },
   "metadata":{
    "datalore":{
     "type":"MD",
     "hide_input_from_viewers":false,
     "hide_output_from_viewers":false
    }
   }
  },
  {
   "cell_type":"code",
   "source":[
    "svr_1 = svm.LinearSVC()\n",
    "svr_1.fit(data_X_train, data_y_train)"
   ],
   "execution_count":null,
   "outputs":[
    {
     "name":"stderr",
     "text":[
      "\/opt\/python\/envs\/default\/lib\/python3.8\/site-packages\/sklearn\/svm\/_base.py:1206: ConvergenceWarning: Liblinear failed to converge, increase the number of iterations.\n",
      "  warnings.warn(\n"
     ],
     "output_type":"stream"
    },
    {
     "data":{
      "text\/plain":[
       "LinearSVC()"
      ]
     },
     "metadata":{
      
     },
     "output_type":"display_data"
    }
   ],
   "metadata":{
    "datalore":{
     "type":"CODE",
     "hide_input_from_viewers":false,
     "hide_output_from_viewers":false
    }
   }
  },
  {
   "cell_type":"code",
   "source":[
    "data_y_pred_1 = svr_1.predict(data_X_test)\n",
    "accuracy_score(data_y_test, data_y_pred_1)"
   ],
   "execution_count":null,
   "outputs":[
    {
     "data":{
      "text\/plain":[
       "0.03669724770642202"
      ]
     },
     "metadata":{
      
     },
     "output_type":"display_data"
    }
   ],
   "metadata":{
    "datalore":{
     "type":"CODE",
     "hide_input_from_viewers":false,
     "hide_output_from_viewers":false
    }
   }
  },
  {
   "cell_type":"code",
   "source":[
    "f1_score(data_y_test, data_y_pred_1, average='micro')"
   ],
   "execution_count":null,
   "outputs":[
    {
     "data":{
      "text\/plain":[
       "0.03669724770642202"
      ]
     },
     "metadata":{
      
     },
     "output_type":"display_data"
    }
   ],
   "metadata":{
    "datalore":{
     "type":"CODE",
     "hide_input_from_viewers":false,
     "hide_output_from_viewers":false
    }
   }
  },
  {
   "cell_type":"code",
   "source":[
    "f1_score(data_y_test, data_y_pred_1, average='macro')"
   ],
   "execution_count":null,
   "outputs":[
    {
     "data":{
      "text\/plain":[
       "0.05555555555555555"
      ]
     },
     "metadata":{
      
     },
     "output_type":"display_data"
    }
   ],
   "metadata":{
    "datalore":{
     "type":"CODE",
     "hide_input_from_viewers":false,
     "hide_output_from_viewers":false
    }
   }
  },
  {
   "cell_type":"code",
   "source":[
    "f1_score(data_y_test, data_y_pred_1, average='weighted')"
   ],
   "execution_count":null,
   "outputs":[
    {
     "data":{
      "text\/plain":[
       "0.046890927624872576"
      ]
     },
     "metadata":{
      
     },
     "output_type":"display_data"
    }
   ],
   "metadata":{
    "datalore":{
     "type":"CODE",
     "hide_input_from_viewers":false,
     "hide_output_from_viewers":false
    }
   }
  },
  {
   "cell_type":"code",
   "source":[
    "svr_2 = svm.LinearSVC(C=1.0, max_iter=10000)\n",
    "svr_2.fit(data_X_train, data_y_train)"
   ],
   "execution_count":null,
   "outputs":[
    {
     "name":"stderr",
     "text":[
      "\/opt\/python\/envs\/default\/lib\/python3.8\/site-packages\/sklearn\/svm\/_base.py:1206: ConvergenceWarning: Liblinear failed to converge, increase the number of iterations.\n",
      "  warnings.warn(\n"
     ],
     "output_type":"stream"
    },
    {
     "data":{
      "text\/plain":[
       "LinearSVC(max_iter=10000)"
      ]
     },
     "metadata":{
      
     },
     "output_type":"display_data"
    }
   ],
   "metadata":{
    "datalore":{
     "type":"CODE",
     "hide_input_from_viewers":false,
     "hide_output_from_viewers":false
    }
   }
  },
  {
   "cell_type":"code",
   "source":[
    "data_y_pred_2 = svr_2.predict(data_X_test)\n",
    "accuracy_score(data_y_test, data_y_pred_2)"
   ],
   "execution_count":null,
   "outputs":[
    {
     "data":{
      "text\/plain":[
       "0.01834862385321101"
      ]
     },
     "metadata":{
      
     },
     "output_type":"display_data"
    }
   ],
   "metadata":{
    "datalore":{
     "type":"CODE",
     "hide_input_from_viewers":false,
     "hide_output_from_viewers":false
    }
   }
  },
  {
   "cell_type":"code",
   "source":[
    "f1_score(data_y_test, data_y_pred_2, average='micro')"
   ],
   "execution_count":null,
   "outputs":[
    {
     "data":{
      "text\/plain":[
       "0.01834862385321101"
      ]
     },
     "metadata":{
      
     },
     "output_type":"display_data"
    }
   ],
   "metadata":{
    "datalore":{
     "type":"CODE",
     "hide_input_from_viewers":false,
     "hide_output_from_viewers":false
    }
   }
  },
  {
   "cell_type":"code",
   "source":[
    "f1_score(data_y_test, data_y_pred_2, average='macro')"
   ],
   "execution_count":null,
   "outputs":[
    {
     "data":{
      "text\/plain":[
       "0.017094017094017096"
      ]
     },
     "metadata":{
      
     },
     "output_type":"display_data"
    }
   ],
   "metadata":{
    "datalore":{
     "type":"CODE",
     "hide_input_from_viewers":false,
     "hide_output_from_viewers":false
    }
   }
  },
  {
   "cell_type":"code",
   "source":[
    "f1_score(data_y_test, data_y_pred_2, average='weighted')"
   ],
   "execution_count":null,
   "outputs":[
    {
     "data":{
      "text\/plain":[
       "0.02854230377166157"
      ]
     },
     "metadata":{
      
     },
     "output_type":"display_data"
    }
   ],
   "metadata":{
    "datalore":{
     "type":"CODE",
     "hide_input_from_viewers":false,
     "hide_output_from_viewers":false
    }
   }
  },
  {
   "cell_type":"code",
   "source":[
    "svr_3 = svm.LinearSVC(C=1.0, penalty='l1', dual=False, max_iter=10000)\n",
    "svr_3.fit(data_X_train, data_y_train)"
   ],
   "execution_count":null,
   "outputs":[
    {
     "name":"stderr",
     "text":[
      "\/opt\/python\/envs\/default\/lib\/python3.8\/site-packages\/sklearn\/svm\/_base.py:1206: ConvergenceWarning: Liblinear failed to converge, increase the number of iterations.\n",
      "  warnings.warn(\n"
     ],
     "output_type":"stream"
    },
    {
     "data":{
      "text\/plain":[
       "LinearSVC(dual=False, max_iter=10000, penalty='l1')"
      ]
     },
     "metadata":{
      
     },
     "output_type":"display_data"
    }
   ],
   "metadata":{
    "datalore":{
     "type":"CODE",
     "hide_input_from_viewers":false,
     "hide_output_from_viewers":false
    }
   }
  },
  {
   "cell_type":"code",
   "source":[
    "data_y_pred_3_0 = svr_3.predict(data_X_train)\n",
    "accuracy_score(data_y_train, data_y_pred_3_0)"
   ],
   "execution_count":null,
   "outputs":[
    {
     "data":{
      "text\/plain":[
       "0.9191685912240185"
      ]
     },
     "metadata":{
      
     },
     "output_type":"display_data"
    }
   ],
   "metadata":{
    "datalore":{
     "type":"CODE",
     "hide_input_from_viewers":false,
     "hide_output_from_viewers":false
    }
   }
  },
  {
   "cell_type":"code",
   "source":[
    "data_y_pred_3 = svr_3.predict(data_X_test)\n",
    "accuracy_score(data_y_test, data_y_pred_3)"
   ],
   "execution_count":null,
   "outputs":[
    {
     "data":{
      "text\/plain":[
       "0.8165137614678899"
      ]
     },
     "metadata":{
      
     },
     "output_type":"display_data"
    }
   ],
   "metadata":{
    "datalore":{
     "type":"CODE",
     "hide_input_from_viewers":false,
     "hide_output_from_viewers":false
    }
   }
  },
  {
   "cell_type":"code",
   "source":[
    "f1_score(data_y_test, data_y_pred_3, average='micro')"
   ],
   "execution_count":null,
   "outputs":[
    {
     "data":{
      "text\/plain":[
       "0.81651376146789"
      ]
     },
     "metadata":{
      
     },
     "output_type":"display_data"
    }
   ],
   "metadata":{
    "datalore":{
     "type":"CODE",
     "hide_input_from_viewers":false,
     "hide_output_from_viewers":false
    }
   }
  },
  {
   "cell_type":"code",
   "source":[
    "f1_score(data_y_test, data_y_pred_3, average='macro')"
   ],
   "execution_count":null,
   "outputs":[
    {
     "data":{
      "text\/plain":[
       "0.615193502150024"
      ]
     },
     "metadata":{
      
     },
     "output_type":"display_data"
    }
   ],
   "metadata":{
    "datalore":{
     "type":"CODE",
     "hide_input_from_viewers":false,
     "hide_output_from_viewers":false
    }
   }
  },
  {
   "cell_type":"code",
   "source":[
    "f1_score(data_y_test, data_y_pred_3, average='weighted')"
   ],
   "execution_count":null,
   "outputs":[
    {
     "data":{
      "text\/plain":[
       "0.7892764727627112"
      ]
     },
     "metadata":{
      
     },
     "output_type":"display_data"
    }
   ],
   "metadata":{
    "datalore":{
     "type":"CODE",
     "hide_input_from_viewers":false,
     "hide_output_from_viewers":false
    }
   }
  },
  {
   "cell_type":"markdown",
   "source":[
    "### Градиентный бустинг"
   ],
   "attachments":{
    
   },
   "metadata":{
    "datalore":{
     "type":"MD",
     "hide_input_from_viewers":false,
     "hide_output_from_viewers":false
    }
   }
  },
  {
   "cell_type":"code",
   "source":[
    "ab1 = AdaBoostClassifier()\n",
    "ab1.fit(data_X_train, data_y_train)\n",
    "data_y_pred_1 = ab1.predict(data_X_test)\n",
    "data_y_pred_1_0 = ab1.predict(data_X_train)\n",
    "accuracy_score(data_y_train, data_y_pred_1_0)"
   ],
   "execution_count":null,
   "outputs":[
    {
     "data":{
      "text\/plain":[
       "0.5127020785219399"
      ]
     },
     "metadata":{
      
     },
     "output_type":"display_data"
    }
   ],
   "metadata":{
    "datalore":{
     "type":"CODE",
     "hide_input_from_viewers":false,
     "hide_output_from_viewers":false
    }
   }
  },
  {
   "cell_type":"code",
   "source":[
    "accuracy_score(data_y_test, data_y_pred_1)"
   ],
   "execution_count":null,
   "outputs":[
    {
     "data":{
      "text\/plain":[
       "0.42201834862385323"
      ]
     },
     "metadata":{
      
     },
     "output_type":"display_data"
    }
   ],
   "metadata":{
    "datalore":{
     "type":"CODE",
     "hide_input_from_viewers":false,
     "hide_output_from_viewers":false
    }
   }
  },
  {
   "cell_type":"code",
   "source":[
    "f1_score(data_y_test, data_y_pred_1, average='micro')"
   ],
   "execution_count":null,
   "outputs":[
    {
     "data":{
      "text\/plain":[
       "0.42201834862385323"
      ]
     },
     "metadata":{
      
     },
     "output_type":"display_data"
    }
   ],
   "metadata":{
    "datalore":{
     "type":"CODE",
     "hide_input_from_viewers":false,
     "hide_output_from_viewers":false
    }
   }
  },
  {
   "cell_type":"code",
   "source":[
    "f1_score(data_y_test, data_y_pred_1, average='macro')"
   ],
   "execution_count":null,
   "outputs":[
    {
     "data":{
      "text\/plain":[
       "0.10816542948038176"
      ]
     },
     "metadata":{
      
     },
     "output_type":"display_data"
    }
   ],
   "metadata":{
    "datalore":{
     "type":"CODE",
     "hide_input_from_viewers":false,
     "hide_output_from_viewers":false
    }
   }
  },
  {
   "cell_type":"code",
   "source":[
    "f1_score(data_y_test, data_y_pred_1, average='weighted')"
   ],
   "execution_count":null,
   "outputs":[
    {
     "data":{
      "text\/plain":[
       "0.2810472141418662"
      ]
     },
     "metadata":{
      
     },
     "output_type":"display_data"
    }
   ],
   "metadata":{
    "datalore":{
     "type":"CODE",
     "hide_input_from_viewers":false,
     "hide_output_from_viewers":false
    }
   }
  },
  {
   "cell_type":"markdown",
   "source":[
    "### Выводы\n",
    "\n",
    "При использовании метода опорных векторов наилучшая точность была 0.919. В целом можно было бы и дальше подбирать параметры и добиться лучшего результата, однако при градиентном бустинге показатели гораздо выше и поэтому он более эффективен."
   ],
   "attachments":{
    
   },
   "metadata":{
    "datalore":{
     "type":"MD",
     "hide_input_from_viewers":false,
     "hide_output_from_viewers":false
    }
   }
  }
 ],
 "metadata":{
  "datalore":{
   "version":1,
   "computation_mode":"JUPYTER",
   "package_manager":"pip",
   "base_environment":"default",
   "packages":[
    
   ]
  }
 },
 "nbformat":4,
 "nbformat_minor":4
}