{
 "cells":[
  {
   "cell_type":"markdown",
   "source":[
    "# Лабораторная работа 4\n",
    "\n",
    "## Линейные модели, SVM и деревья решений.\n",
    "\n",
    "### Цель лабораторной работы: изучение линейных моделей, SVM и деревьев решений.\n",
    "\n",
    "Выберите набор данных (датасет) для решения задачи классификации или регрессии. В случае необходимости проведите удаление или заполнение пропусков и кодирование категориальных признаков. С использованием метода train_test_split разделите выборку на обучающую и тестовую.\n",
    "\n",
    "### Обучите следующие модели:\n",
    "\n",
    "- одну из линейных моделей (линейную или полиномиальную регрессию при решении задачи регрессии, логистическую регрессию при решении задачи классификации);\n",
    "- SVM;\n",
    "- дерево решений.\n",
    "  \n",
    "Оцените качество моделей с помощью двух подходящих для задачи метрик. Сравните качество полученных моделей.\n",
    "Постройте график, показывающий важность признаков в дереве решений.\n",
    "Визуализируйте дерево решений или выведите правила дерева решений в текстовом виде."
   ],
   "attachments":{
    
   },
   "metadata":{
    "datalore":{
     "type":"MD",
     "hide_input_from_viewers":false,
     "hide_output_from_viewers":false
    }
   }
  },
  {
   "cell_type":"code",
   "source":[
    "import pandas as pd\n",
    "import numpy as np\n",
    "import seaborn as sns\n",
    "from sklearn.preprocessing import LabelEncoder\n",
    "from sklearn.model_selection import train_test_split\n",
    "from sklearn.linear_model import SGDClassifier\n",
    "from sklearn.metrics import f1_score, precision_score\n",
    "from sklearn.svm import SVC\n",
    "from sklearn.tree import DecisionTreeClassifier, plot_tree\n",
    "from sklearn.model_selection import GridSearchCV\n",
    "import matplotlib.pyplot as plt\n",
    "\n",
    "target_col='Country'\n",
    "\n",
    "%matplotlib inline \n",
    "sns.set(style=\"ticks\")"
   ],
   "execution_count":null,
   "outputs":[
    
   ],
   "metadata":{
    "datalore":{
     "type":"CODE",
     "hide_input_from_viewers":false,
     "hide_output_from_viewers":false
    }
   }
  },
  {
   "cell_type":"code",
   "source":[
    "data = pd.read_csv('.\/Valo Lan Stats.csv')\n",
    "data.head()"
   ],
   "execution_count":null,
   "outputs":[
    {
     "data":{
      "text\/html":[
       "<div>\n",
       "<style scoped>\n",
       "    .dataframe tbody tr th:only-of-type {\n",
       "        vertical-align: middle;\n",
       "    }\n",
       "\n",
       "    .dataframe tbody tr th {\n",
       "        vertical-align: top;\n",
       "    }\n",
       "\n",
       "    .dataframe thead th {\n",
       "        text-align: right;\n",
       "    }\n",
       "<\/style>\n",
       "<table border=\"1\" class=\"dataframe\">\n",
       "  <thead>\n",
       "    <tr style=\"text-align: right;\">\n",
       "      <th><\/th>\n",
       "      <th>Country<\/th>\n",
       "      <th>Player<\/th>\n",
       "      <th>Team<\/th>\n",
       "      <th>Maps<\/th>\n",
       "      <th>K<\/th>\n",
       "      <th>D<\/th>\n",
       "      <th>A<\/th>\n",
       "      <th>KD<\/th>\n",
       "      <th>KDA<\/th>\n",
       "      <th>ACS\/Map<\/th>\n",
       "      <th>K\/Map<\/th>\n",
       "      <th>D\/Map<\/th>\n",
       "      <th>A\/Map<\/th>\n",
       "    <\/tr>\n",
       "  <\/thead>\n",
       "  <tbody>\n",
       "    <tr>\n",
       "      <th>0<\/th>\n",
       "      <td>Japan<\/td>\n",
       "      <td>Ade<\/td>\n",
       "      <td>Crazy Raccoon<\/td>\n",
       "      <td>10<\/td>\n",
       "      <td>95<\/td>\n",
       "      <td>148<\/td>\n",
       "      <td>59<\/td>\n",
       "      <td>0.64<\/td>\n",
       "      <td>1.04<\/td>\n",
       "      <td>125.50<\/td>\n",
       "      <td>9.50<\/td>\n",
       "      <td>14.80<\/td>\n",
       "      <td>5.90<\/td>\n",
       "    <\/tr>\n",
       "    <tr>\n",
       "      <th>1<\/th>\n",
       "      <td>Japan<\/td>\n",
       "      <td>Fisker<\/td>\n",
       "      <td>Crazy Raccoon<\/td>\n",
       "      <td>10<\/td>\n",
       "      <td>122<\/td>\n",
       "      <td>164<\/td>\n",
       "      <td>39<\/td>\n",
       "      <td>0.74<\/td>\n",
       "      <td>0.98<\/td>\n",
       "      <td>176.50<\/td>\n",
       "      <td>12.20<\/td>\n",
       "      <td>16.40<\/td>\n",
       "      <td>3.90<\/td>\n",
       "    <\/tr>\n",
       "    <tr>\n",
       "      <th>2<\/th>\n",
       "      <td>South Korea<\/td>\n",
       "      <td>Bazzi<\/td>\n",
       "      <td>Crazy Raccoon<\/td>\n",
       "      <td>5<\/td>\n",
       "      <td>62<\/td>\n",
       "      <td>74<\/td>\n",
       "      <td>25<\/td>\n",
       "      <td>0.84<\/td>\n",
       "      <td>1.18<\/td>\n",
       "      <td>208.00<\/td>\n",
       "      <td>12.40<\/td>\n",
       "      <td>14.80<\/td>\n",
       "      <td>5.00<\/td>\n",
       "    <\/tr>\n",
       "    <tr>\n",
       "      <th>3<\/th>\n",
       "      <td>South Korea<\/td>\n",
       "      <td>Munchkin<\/td>\n",
       "      <td>Crazy Raccoon<\/td>\n",
       "      <td>14<\/td>\n",
       "      <td>272<\/td>\n",
       "      <td>229<\/td>\n",
       "      <td>69<\/td>\n",
       "      <td>1.19<\/td>\n",
       "      <td>1.49<\/td>\n",
       "      <td>193.75<\/td>\n",
       "      <td>19.43<\/td>\n",
       "      <td>16.36<\/td>\n",
       "      <td>4.93<\/td>\n",
       "    <\/tr>\n",
       "    <tr>\n",
       "      <th>4<\/th>\n",
       "      <td>Japan<\/td>\n",
       "      <td>Neth<\/td>\n",
       "      <td>Crazy Raccoon<\/td>\n",
       "      <td>14<\/td>\n",
       "      <td>183<\/td>\n",
       "      <td>212<\/td>\n",
       "      <td>73<\/td>\n",
       "      <td>0.86<\/td>\n",
       "      <td>1.21<\/td>\n",
       "      <td>177.50<\/td>\n",
       "      <td>13.07<\/td>\n",
       "      <td>15.14<\/td>\n",
       "      <td>5.21<\/td>\n",
       "    <\/tr>\n",
       "  <\/tbody>\n",
       "<\/table>\n",
       "<\/div>"
      ]
     },
     "metadata":{
      
     },
     "output_type":"display_data"
    }
   ],
   "metadata":{
    "datalore":{
     "type":"CODE",
     "hide_input_from_viewers":false,
     "hide_output_from_viewers":false
    }
   }
  },
  {
   "cell_type":"code",
   "source":[
    "data.shape"
   ],
   "execution_count":null,
   "outputs":[
    {
     "data":{
      "text\/plain":[
       "(160, 13)"
      ]
     },
     "metadata":{
      
     },
     "output_type":"display_data"
    }
   ],
   "metadata":{
    "datalore":{
     "type":"CODE",
     "hide_input_from_viewers":false,
     "hide_output_from_viewers":false
    }
   }
  },
  {
   "cell_type":"code",
   "source":[
    "data = data.dropna(axis=1, how='any')\n",
    "data.head()"
   ],
   "execution_count":null,
   "outputs":[
    {
     "data":{
      "text\/html":[
       "<div>\n",
       "<style scoped>\n",
       "    .dataframe tbody tr th:only-of-type {\n",
       "        vertical-align: middle;\n",
       "    }\n",
       "\n",
       "    .dataframe tbody tr th {\n",
       "        vertical-align: top;\n",
       "    }\n",
       "\n",
       "    .dataframe thead th {\n",
       "        text-align: right;\n",
       "    }\n",
       "<\/style>\n",
       "<table border=\"1\" class=\"dataframe\">\n",
       "  <thead>\n",
       "    <tr style=\"text-align: right;\">\n",
       "      <th><\/th>\n",
       "      <th>Country<\/th>\n",
       "      <th>Player<\/th>\n",
       "      <th>Team<\/th>\n",
       "      <th>Maps<\/th>\n",
       "      <th>K<\/th>\n",
       "      <th>D<\/th>\n",
       "      <th>A<\/th>\n",
       "      <th>KD<\/th>\n",
       "      <th>KDA<\/th>\n",
       "      <th>ACS\/Map<\/th>\n",
       "      <th>K\/Map<\/th>\n",
       "      <th>D\/Map<\/th>\n",
       "      <th>A\/Map<\/th>\n",
       "    <\/tr>\n",
       "  <\/thead>\n",
       "  <tbody>\n",
       "    <tr>\n",
       "      <th>0<\/th>\n",
       "      <td>Japan<\/td>\n",
       "      <td>Ade<\/td>\n",
       "      <td>Crazy Raccoon<\/td>\n",
       "      <td>10<\/td>\n",
       "      <td>95<\/td>\n",
       "      <td>148<\/td>\n",
       "      <td>59<\/td>\n",
       "      <td>0.64<\/td>\n",
       "      <td>1.04<\/td>\n",
       "      <td>125.50<\/td>\n",
       "      <td>9.50<\/td>\n",
       "      <td>14.80<\/td>\n",
       "      <td>5.90<\/td>\n",
       "    <\/tr>\n",
       "    <tr>\n",
       "      <th>1<\/th>\n",
       "      <td>Japan<\/td>\n",
       "      <td>Fisker<\/td>\n",
       "      <td>Crazy Raccoon<\/td>\n",
       "      <td>10<\/td>\n",
       "      <td>122<\/td>\n",
       "      <td>164<\/td>\n",
       "      <td>39<\/td>\n",
       "      <td>0.74<\/td>\n",
       "      <td>0.98<\/td>\n",
       "      <td>176.50<\/td>\n",
       "      <td>12.20<\/td>\n",
       "      <td>16.40<\/td>\n",
       "      <td>3.90<\/td>\n",
       "    <\/tr>\n",
       "    <tr>\n",
       "      <th>2<\/th>\n",
       "      <td>South Korea<\/td>\n",
       "      <td>Bazzi<\/td>\n",
       "      <td>Crazy Raccoon<\/td>\n",
       "      <td>5<\/td>\n",
       "      <td>62<\/td>\n",
       "      <td>74<\/td>\n",
       "      <td>25<\/td>\n",
       "      <td>0.84<\/td>\n",
       "      <td>1.18<\/td>\n",
       "      <td>208.00<\/td>\n",
       "      <td>12.40<\/td>\n",
       "      <td>14.80<\/td>\n",
       "      <td>5.00<\/td>\n",
       "    <\/tr>\n",
       "    <tr>\n",
       "      <th>3<\/th>\n",
       "      <td>South Korea<\/td>\n",
       "      <td>Munchkin<\/td>\n",
       "      <td>Crazy Raccoon<\/td>\n",
       "      <td>14<\/td>\n",
       "      <td>272<\/td>\n",
       "      <td>229<\/td>\n",
       "      <td>69<\/td>\n",
       "      <td>1.19<\/td>\n",
       "      <td>1.49<\/td>\n",
       "      <td>193.75<\/td>\n",
       "      <td>19.43<\/td>\n",
       "      <td>16.36<\/td>\n",
       "      <td>4.93<\/td>\n",
       "    <\/tr>\n",
       "    <tr>\n",
       "      <th>4<\/th>\n",
       "      <td>Japan<\/td>\n",
       "      <td>Neth<\/td>\n",
       "      <td>Crazy Raccoon<\/td>\n",
       "      <td>14<\/td>\n",
       "      <td>183<\/td>\n",
       "      <td>212<\/td>\n",
       "      <td>73<\/td>\n",
       "      <td>0.86<\/td>\n",
       "      <td>1.21<\/td>\n",
       "      <td>177.50<\/td>\n",
       "      <td>13.07<\/td>\n",
       "      <td>15.14<\/td>\n",
       "      <td>5.21<\/td>\n",
       "    <\/tr>\n",
       "  <\/tbody>\n",
       "<\/table>\n",
       "<\/div>"
      ]
     },
     "metadata":{
      
     },
     "output_type":"display_data"
    }
   ],
   "metadata":{
    "datalore":{
     "type":"CODE",
     "hide_input_from_viewers":false,
     "hide_output_from_viewers":false
    }
   }
  },
  {
   "cell_type":"code",
   "source":[
    "for col in data.columns:\n",
    "    null_count = data[data[col].isnull()].shape[0]\n",
    "    if null_count == 0:\n",
    "        column_type = data[col].dtype\n",
    "        print('{} - {} - {}'.format(col, column_type, null_count))"
   ],
   "execution_count":null,
   "outputs":[
    {
     "name":"stdout",
     "text":[
      "Country - object - 0\n",
      "Player - object - 0\n",
      "Team - object - 0\n",
      "Maps - int64 - 0\n",
      "K - int64 - 0\n",
      "D - int64 - 0\n",
      "A - int64 - 0\n",
      "KD - float64 - 0\n",
      "KDA - float64 - 0\n",
      "ACS\/Map - float64 - 0\n",
      "K\/Map - float64 - 0\n",
      "D\/Map - float64 - 0\n",
      "A\/Map - float64 - 0\n"
     ],
     "output_type":"stream"
    }
   ],
   "metadata":{
    "datalore":{
     "type":"CODE",
     "hide_input_from_viewers":false,
     "hide_output_from_viewers":false
    }
   }
  },
  {
   "cell_type":"markdown",
   "source":[
    "Категориальные признаки"
   ],
   "attachments":{
    
   },
   "metadata":{
    "datalore":{
     "type":"MD",
     "hide_input_from_viewers":false,
     "hide_output_from_viewers":false
    }
   }
  },
  {
   "cell_type":"code",
   "source":[
    "le = LabelEncoder()\n",
    "for col in data.columns:\n",
    "    column_type = data[col].dtype\n",
    "    if column_type == 'object':\n",
    "        data[col] = le.fit_transform(data[col]);\n",
    "        print(col)"
   ],
   "execution_count":null,
   "outputs":[
    {
     "name":"stdout",
     "text":[
      "Country\n",
      "Player\n",
      "Team\n"
     ],
     "output_type":"stream"
    }
   ],
   "metadata":{
    "datalore":{
     "type":"CODE",
     "hide_input_from_viewers":false,
     "hide_output_from_viewers":false
    }
   }
  },
  {
   "cell_type":"markdown",
   "source":[
    "# Разделение выборки на обучающую и тестовую"
   ],
   "attachments":{
    
   },
   "metadata":{
    "datalore":{
     "type":"MD",
     "hide_input_from_viewers":false,
     "hide_output_from_viewers":false
    }
   }
  },
  {
   "cell_type":"code",
   "source":[
    "X = data.drop(target_col, axis=1)\n",
    "Y = data[target_col]"
   ],
   "execution_count":null,
   "outputs":[
    
   ],
   "metadata":{
    "datalore":{
     "type":"CODE",
     "hide_input_from_viewers":false,
     "hide_output_from_viewers":false
    }
   }
  },
  {
   "cell_type":"code",
   "source":[
    "X"
   ],
   "execution_count":null,
   "outputs":[
    {
     "data":{
      "text\/html":[
       "<div>\n",
       "<style scoped>\n",
       "    .dataframe tbody tr th:only-of-type {\n",
       "        vertical-align: middle;\n",
       "    }\n",
       "\n",
       "    .dataframe tbody tr th {\n",
       "        vertical-align: top;\n",
       "    }\n",
       "\n",
       "    .dataframe thead th {\n",
       "        text-align: right;\n",
       "    }\n",
       "<\/style>\n",
       "<table border=\"1\" class=\"dataframe\">\n",
       "  <thead>\n",
       "    <tr style=\"text-align: right;\">\n",
       "      <th><\/th>\n",
       "      <th>Player<\/th>\n",
       "      <th>Team<\/th>\n",
       "      <th>Maps<\/th>\n",
       "      <th>K<\/th>\n",
       "      <th>D<\/th>\n",
       "      <th>A<\/th>\n",
       "      <th>KD<\/th>\n",
       "      <th>KDA<\/th>\n",
       "      <th>ACS\/Map<\/th>\n",
       "      <th>K\/Map<\/th>\n",
       "      <th>D\/Map<\/th>\n",
       "      <th>A\/Map<\/th>\n",
       "    <\/tr>\n",
       "  <\/thead>\n",
       "  <tbody>\n",
       "    <tr>\n",
       "      <th>0<\/th>\n",
       "      <td>0<\/td>\n",
       "      <td>3<\/td>\n",
       "      <td>10<\/td>\n",
       "      <td>95<\/td>\n",
       "      <td>148<\/td>\n",
       "      <td>59<\/td>\n",
       "      <td>0.64<\/td>\n",
       "      <td>1.04<\/td>\n",
       "      <td>125.50<\/td>\n",
       "      <td>9.50<\/td>\n",
       "      <td>14.80<\/td>\n",
       "      <td>5.90<\/td>\n",
       "    <\/tr>\n",
       "    <tr>\n",
       "      <th>1<\/th>\n",
       "      <td>40<\/td>\n",
       "      <td>3<\/td>\n",
       "      <td>10<\/td>\n",
       "      <td>122<\/td>\n",
       "      <td>164<\/td>\n",
       "      <td>39<\/td>\n",
       "      <td>0.74<\/td>\n",
       "      <td>0.98<\/td>\n",
       "      <td>176.50<\/td>\n",
       "      <td>12.20<\/td>\n",
       "      <td>16.40<\/td>\n",
       "      <td>3.90<\/td>\n",
       "    <\/tr>\n",
       "    <tr>\n",
       "      <th>2<\/th>\n",
       "      <td>8<\/td>\n",
       "      <td>3<\/td>\n",
       "      <td>5<\/td>\n",
       "      <td>62<\/td>\n",
       "      <td>74<\/td>\n",
       "      <td>25<\/td>\n",
       "      <td>0.84<\/td>\n",
       "      <td>1.18<\/td>\n",
       "      <td>208.00<\/td>\n",
       "      <td>12.40<\/td>\n",
       "      <td>14.80<\/td>\n",
       "      <td>5.00<\/td>\n",
       "    <\/tr>\n",
       "    <tr>\n",
       "      <th>3<\/th>\n",
       "      <td>89<\/td>\n",
       "      <td>3<\/td>\n",
       "      <td>14<\/td>\n",
       "      <td>272<\/td>\n",
       "      <td>229<\/td>\n",
       "      <td>69<\/td>\n",
       "      <td>1.19<\/td>\n",
       "      <td>1.49<\/td>\n",
       "      <td>193.75<\/td>\n",
       "      <td>19.43<\/td>\n",
       "      <td>16.36<\/td>\n",
       "      <td>4.93<\/td>\n",
       "    <\/tr>\n",
       "    <tr>\n",
       "      <th>4<\/th>\n",
       "      <td>95<\/td>\n",
       "      <td>3<\/td>\n",
       "      <td>14<\/td>\n",
       "      <td>183<\/td>\n",
       "      <td>212<\/td>\n",
       "      <td>73<\/td>\n",
       "      <td>0.86<\/td>\n",
       "      <td>1.21<\/td>\n",
       "      <td>177.50<\/td>\n",
       "      <td>13.07<\/td>\n",
       "      <td>15.14<\/td>\n",
       "      <td>5.21<\/td>\n",
       "    <\/tr>\n",
       "    <tr>\n",
       "      <th>...<\/th>\n",
       "      <td>...<\/td>\n",
       "      <td>...<\/td>\n",
       "      <td>...<\/td>\n",
       "      <td>...<\/td>\n",
       "      <td>...<\/td>\n",
       "      <td>...<\/td>\n",
       "      <td>...<\/td>\n",
       "      <td>...<\/td>\n",
       "      <td>...<\/td>\n",
       "      <td>...<\/td>\n",
       "      <td>...<\/td>\n",
       "      <td>...<\/td>\n",
       "    <\/tr>\n",
       "    <tr>\n",
       "      <th>155<\/th>\n",
       "      <td>56<\/td>\n",
       "      <td>18<\/td>\n",
       "      <td>10<\/td>\n",
       "      <td>184<\/td>\n",
       "      <td>168<\/td>\n",
       "      <td>51<\/td>\n",
       "      <td>1.10<\/td>\n",
       "      <td>1.40<\/td>\n",
       "      <td>250.00<\/td>\n",
       "      <td>18.40<\/td>\n",
       "      <td>16.80<\/td>\n",
       "      <td>5.10<\/td>\n",
       "    <\/tr>\n",
       "    <tr>\n",
       "      <th>156<\/th>\n",
       "      <td>133<\/td>\n",
       "      <td>29<\/td>\n",
       "      <td>7<\/td>\n",
       "      <td>121<\/td>\n",
       "      <td>120<\/td>\n",
       "      <td>16<\/td>\n",
       "      <td>1.01<\/td>\n",
       "      <td>1.14<\/td>\n",
       "      <td>212.00<\/td>\n",
       "      <td>17.29<\/td>\n",
       "      <td>17.14<\/td>\n",
       "      <td>2.29<\/td>\n",
       "    <\/tr>\n",
       "    <tr>\n",
       "      <th>157<\/th>\n",
       "      <td>136<\/td>\n",
       "      <td>30<\/td>\n",
       "      <td>21<\/td>\n",
       "      <td>324<\/td>\n",
       "      <td>327<\/td>\n",
       "      <td>94<\/td>\n",
       "      <td>0.99<\/td>\n",
       "      <td>1.28<\/td>\n",
       "      <td>221.00<\/td>\n",
       "      <td>15.43<\/td>\n",
       "      <td>15.57<\/td>\n",
       "      <td>4.48<\/td>\n",
       "    <\/tr>\n",
       "    <tr>\n",
       "      <th>158<\/th>\n",
       "      <td>130<\/td>\n",
       "      <td>30<\/td>\n",
       "      <td>21<\/td>\n",
       "      <td>345<\/td>\n",
       "      <td>298<\/td>\n",
       "      <td>146<\/td>\n",
       "      <td>1.16<\/td>\n",
       "      <td>1.65<\/td>\n",
       "      <td>221.00<\/td>\n",
       "      <td>16.43<\/td>\n",
       "      <td>14.19<\/td>\n",
       "      <td>6.95<\/td>\n",
       "    <\/tr>\n",
       "    <tr>\n",
       "      <th>159<\/th>\n",
       "      <td>28<\/td>\n",
       "      <td>30<\/td>\n",
       "      <td>21<\/td>\n",
       "      <td>299<\/td>\n",
       "      <td>312<\/td>\n",
       "      <td>105<\/td>\n",
       "      <td>0.96<\/td>\n",
       "      <td>1.29<\/td>\n",
       "      <td>194.00<\/td>\n",
       "      <td>14.24<\/td>\n",
       "      <td>14.86<\/td>\n",
       "      <td>5.00<\/td>\n",
       "    <\/tr>\n",
       "  <\/tbody>\n",
       "<\/table>\n",
       "<p>160 rows × 12 columns<\/p>\n",
       "<\/div>"
      ]
     },
     "metadata":{
      
     },
     "output_type":"display_data"
    }
   ],
   "metadata":{
    "datalore":{
     "type":"CODE",
     "hide_input_from_viewers":false,
     "hide_output_from_viewers":false
    }
   }
  },
  {
   "cell_type":"code",
   "source":[
    "Y"
   ],
   "execution_count":null,
   "outputs":[
    {
     "data":{
      "text\/html":[
       
      ]
     },
     "metadata":{
      
     },
     "output_type":"display_data"
    }
   ],
   "metadata":{
    "datalore":{
     "type":"CODE",
     "hide_input_from_viewers":false,
     "hide_output_from_viewers":false
    }
   }
  },
  {
   "cell_type":"code",
   "source":[
    "pd.DataFrame(X, columns=X.columns).describe()"
   ],
   "execution_count":null,
   "outputs":[
    {
     "data":{
      "text\/html":[
       "<div>\n",
       "<style scoped>\n",
       "    .dataframe tbody tr th:only-of-type {\n",
       "        vertical-align: middle;\n",
       "    }\n",
       "\n",
       "    .dataframe tbody tr th {\n",
       "        vertical-align: top;\n",
       "    }\n",
       "\n",
       "    .dataframe thead th {\n",
       "        text-align: right;\n",
       "    }\n",
       "<\/style>\n",
       "<table border=\"1\" class=\"dataframe\">\n",
       "  <thead>\n",
       "    <tr style=\"text-align: right;\">\n",
       "      <th><\/th>\n",
       "      <th>Player<\/th>\n",
       "      <th>Team<\/th>\n",
       "      <th>Maps<\/th>\n",
       "      <th>K<\/th>\n",
       "      <th>D<\/th>\n",
       "      <th>A<\/th>\n",
       "      <th>KD<\/th>\n",
       "      <th>KDA<\/th>\n",
       "      <th>ACS\/Map<\/th>\n",
       "      <th>K\/Map<\/th>\n",
       "      <th>D\/Map<\/th>\n",
       "      <th>A\/Map<\/th>\n",
       "    <\/tr>\n",
       "  <\/thead>\n",
       "  <tbody>\n",
       "    <tr>\n",
       "      <th>count<\/th>\n",
       "      <td>160.000000<\/td>\n",
       "      <td>160.000000<\/td>\n",
       "      <td>160.000000<\/td>\n",
       "      <td>160.000000<\/td>\n",
       "      <td>160.000000<\/td>\n",
       "      <td>160.000000<\/td>\n",
       "      <td>160.000000<\/td>\n",
       "      <td>160.000000<\/td>\n",
       "      <td>160.000000<\/td>\n",
       "      <td>160.000000<\/td>\n",
       "      <td>160.000000<\/td>\n",
       "      <td>160.000000<\/td>\n",
       "    <\/tr>\n",
       "    <tr>\n",
       "      <th>mean<\/th>\n",
       "      <td>78.237500<\/td>\n",
       "      <td>14.356250<\/td>\n",
       "      <td>14.918750<\/td>\n",
       "      <td>220.737500<\/td>\n",
       "      <td>220.443750<\/td>\n",
       "      <td>80.793750<\/td>\n",
       "      <td>0.957250<\/td>\n",
       "      <td>1.303375<\/td>\n",
       "      <td>193.029687<\/td>\n",
       "      <td>14.242313<\/td>\n",
       "      <td>14.912687<\/td>\n",
       "      <td>5.113812<\/td>\n",
       "    <\/tr>\n",
       "    <tr>\n",
       "      <th>std<\/th>\n",
       "      <td>45.060056<\/td>\n",
       "      <td>8.899401<\/td>\n",
       "      <td>10.119395<\/td>\n",
       "      <td>164.120928<\/td>\n",
       "      <td>148.779088<\/td>\n",
       "      <td>65.216147<\/td>\n",
       "      <td>0.179884<\/td>\n",
       "      <td>0.216283<\/td>\n",
       "      <td>31.817407<\/td>\n",
       "      <td>2.724465<\/td>\n",
       "      <td>1.210045<\/td>\n",
       "      <td>1.534269<\/td>\n",
       "    <\/tr>\n",
       "    <tr>\n",
       "      <th>min<\/th>\n",
       "      <td>0.000000<\/td>\n",
       "      <td>0.000000<\/td>\n",
       "      <td>2.000000<\/td>\n",
       "      <td>13.000000<\/td>\n",
       "      <td>28.000000<\/td>\n",
       "      <td>4.000000<\/td>\n",
       "      <td>0.410000<\/td>\n",
       "      <td>0.750000<\/td>\n",
       "      <td>110.000000<\/td>\n",
       "      <td>6.000000<\/td>\n",
       "      <td>11.670000<\/td>\n",
       "      <td>1.750000<\/td>\n",
       "    <\/tr>\n",
       "    <tr>\n",
       "      <th>25%<\/th>\n",
       "      <td>39.750000<\/td>\n",
       "      <td>7.000000<\/td>\n",
       "      <td>6.750000<\/td>\n",
       "      <td>96.500000<\/td>\n",
       "      <td>103.000000<\/td>\n",
       "      <td>30.750000<\/td>\n",
       "      <td>0.837500<\/td>\n",
       "      <td>1.177500<\/td>\n",
       "      <td>172.875000<\/td>\n",
       "      <td>12.500000<\/td>\n",
       "      <td>14.060000<\/td>\n",
       "      <td>4.052500<\/td>\n",
       "    <\/tr>\n",
       "    <tr>\n",
       "      <th>50%<\/th>\n",
       "      <td>78.500000<\/td>\n",
       "      <td>14.000000<\/td>\n",
       "      <td>11.000000<\/td>\n",
       "      <td>161.000000<\/td>\n",
       "      <td>164.000000<\/td>\n",
       "      <td>58.000000<\/td>\n",
       "      <td>0.955000<\/td>\n",
       "      <td>1.315000<\/td>\n",
       "      <td>191.437500<\/td>\n",
       "      <td>14.100000<\/td>\n",
       "      <td>14.925000<\/td>\n",
       "      <td>5.140000<\/td>\n",
       "    <\/tr>\n",
       "    <tr>\n",
       "      <th>75%<\/th>\n",
       "      <td>117.000000<\/td>\n",
       "      <td>22.000000<\/td>\n",
       "      <td>24.000000<\/td>\n",
       "      <td>333.500000<\/td>\n",
       "      <td>346.750000<\/td>\n",
       "      <td>119.500000<\/td>\n",
       "      <td>1.090000<\/td>\n",
       "      <td>1.460000<\/td>\n",
       "      <td>212.000000<\/td>\n",
       "      <td>15.877500<\/td>\n",
       "      <td>15.510000<\/td>\n",
       "      <td>6.147500<\/td>\n",
       "    <\/tr>\n",
       "    <tr>\n",
       "      <th>max<\/th>\n",
       "      <td>155.000000<\/td>\n",
       "      <td>30.000000<\/td>\n",
       "      <td>39.000000<\/td>\n",
       "      <td>793.000000<\/td>\n",
       "      <td>612.000000<\/td>\n",
       "      <td>285.000000<\/td>\n",
       "      <td>1.340000<\/td>\n",
       "      <td>1.850000<\/td>\n",
       "      <td>263.500000<\/td>\n",
       "      <td>21.000000<\/td>\n",
       "      <td>18.250000<\/td>\n",
       "      <td>8.700000<\/td>\n",
       "    <\/tr>\n",
       "  <\/tbody>\n",
       "<\/table>\n",
       "<\/div>"
      ]
     },
     "metadata":{
      
     },
     "output_type":"display_data"
    }
   ],
   "metadata":{
    "datalore":{
     "type":"CODE",
     "hide_input_from_viewers":false,
     "hide_output_from_viewers":false
    }
   }
  },
  {
   "cell_type":"markdown",
   "source":[
    "### Разделим выборку на обучающую и тестовую:"
   ],
   "attachments":{
    
   },
   "metadata":{
    "datalore":{
     "type":"MD",
     "hide_input_from_viewers":false,
     "hide_output_from_viewers":false
    }
   }
  },
  {
   "cell_type":"code",
   "source":[
    "X_train, X_test, Y_train, Y_test = train_test_split(X, Y, test_size=0.25, random_state=1)\n",
    "print('{}, {}'.format(X_train.shape, X_test.shape))\n",
    "print('{}, {}'.format(Y_train.shape, Y_test.shape))"
   ],
   "execution_count":null,
   "outputs":[
    {
     "name":"stdout",
     "text":[
      "(120, 12), (40, 12)\n",
      "(120,), (40,)\n"
     ],
     "output_type":"stream"
    }
   ],
   "metadata":{
    "datalore":{
     "type":"CODE",
     "hide_input_from_viewers":false,
     "hide_output_from_viewers":false
    }
   }
  },
  {
   "cell_type":"markdown",
   "source":[
    "# Обучение моделей\n",
    "## Линейная модель"
   ],
   "attachments":{
    
   },
   "metadata":{
    "datalore":{
     "type":"MD",
     "hide_input_from_viewers":false,
     "hide_output_from_viewers":false
    }
   }
  },
  {
   "cell_type":"code",
   "source":[
    "SGD = SGDClassifier(max_iter=10000)\n",
    "SGD.fit(X_train, Y_train)"
   ],
   "execution_count":null,
   "outputs":[
    {
     "data":{
      "text\/plain":[
       "SGDClassifier(max_iter=10000)"
      ]
     },
     "metadata":{
      
     },
     "output_type":"display_data"
    }
   ],
   "metadata":{
    "datalore":{
     "type":"CODE",
     "hide_input_from_viewers":false,
     "hide_output_from_viewers":false
    }
   }
  },
  {
   "cell_type":"code",
   "source":[
    "f1_score(Y_test, SGD.predict(X_test), average='micro')\n",
    "precision_score(Y_test, SGD.predict(X_test), average='micro')"
   ],
   "execution_count":null,
   "outputs":[
    {
     "data":{
      "text\/plain":[
       "0.025"
      ]
     },
     "metadata":{
      
     },
     "output_type":"display_data"
    }
   ],
   "metadata":{
    "datalore":{
     "type":"CODE",
     "hide_input_from_viewers":false,
     "hide_output_from_viewers":false
    }
   }
  },
  {
   "cell_type":"markdown",
   "source":[
    "## SVM"
   ],
   "attachments":{
    
   },
   "metadata":{
    "datalore":{
     "type":"MD",
     "hide_input_from_viewers":false,
     "hide_output_from_viewers":false
    }
   }
  },
  {
   "cell_type":"code",
   "source":[
    "SVC = SVC(kernel='rbf')\n",
    "SVC.fit(X_train, Y_train)"
   ],
   "execution_count":null,
   "outputs":[
    {
     "data":{
      "text\/plain":[
       "SVC()"
      ]
     },
     "metadata":{
      
     },
     "output_type":"display_data"
    }
   ],
   "metadata":{
    "datalore":{
     "type":"CODE",
     "hide_input_from_viewers":false,
     "hide_output_from_viewers":false
    }
   }
  },
  {
   "cell_type":"code",
   "source":[
    "f1_score(Y_test, SVC.predict(X_test), average='micro')\n",
    "precision_score(Y_test, SVC.predict(X_test), average='micro')"
   ],
   "execution_count":null,
   "outputs":[
    {
     "data":{
      "text\/plain":[
       "0.325"
      ]
     },
     "metadata":{
      
     },
     "output_type":"display_data"
    }
   ],
   "metadata":{
    "datalore":{
     "type":"CODE",
     "hide_input_from_viewers":false,
     "hide_output_from_viewers":false
    }
   }
  },
  {
   "cell_type":"markdown",
   "source":[
    "## Дерево решений"
   ],
   "attachments":{
    
   },
   "metadata":{
    "datalore":{
     "type":"MD",
     "hide_input_from_viewers":false,
     "hide_output_from_viewers":false
    }
   }
  },
  {
   "cell_type":"code",
   "source":[
    "DT = DecisionTreeClassifier(random_state=1)\n",
    "DT.fit(X_train, Y_train)"
   ],
   "execution_count":null,
   "outputs":[
    {
     "data":{
      "text\/plain":[
       "DecisionTreeClassifier(random_state=1)"
      ]
     },
     "metadata":{
      
     },
     "output_type":"display_data"
    }
   ],
   "metadata":{
    "datalore":{
     "type":"CODE",
     "hide_input_from_viewers":false,
     "hide_output_from_viewers":false
    }
   }
  },
  {
   "cell_type":"code",
   "source":[
    "f1_score(Y_test, DT.predict(X_test), average='micro')\n",
    "precision_score(Y_test, DT.predict(X_test), average='micro')"
   ],
   "execution_count":null,
   "outputs":[
    {
     "data":{
      "text\/plain":[
       "0.425"
      ]
     },
     "metadata":{
      
     },
     "output_type":"display_data"
    }
   ],
   "metadata":{
    "datalore":{
     "type":"CODE",
     "hide_input_from_viewers":false,
     "hide_output_from_viewers":false
    }
   }
  },
  {
   "cell_type":"markdown",
   "source":[
    "### Можно сделать вывод, что дерево решений дает лучший результат"
   ],
   "attachments":{
    
   },
   "metadata":{
    "datalore":{
     "type":"MD",
     "hide_input_from_viewers":false,
     "hide_output_from_viewers":false
    }
   }
  },
  {
   "cell_type":"code",
   "source":[
    "from sklearn import tree\n",
    "fig, axes = plt.subplots(nrows = 1,ncols = 1,figsize = (0.5,0.5), dpi=400)\n",
    "clf = DecisionTreeClassifier(max_depth = 2, \n",
    "                             random_state = 0)\n",
    "clf.fit(X_train, Y_train)\n",
    "tree.plot_tree(clf, filled = True);"
   ],
   "execution_count":null,
   "outputs":[
    {
     "data":{
      "image\/png":"[encoded data removed]"
     },
     "metadata":{
      "image\/png":{
       
      }
     },
     "output_type":"display_data"
    }
   ],
   "metadata":{
    "datalore":{
     "type":"CODE",
     "hide_input_from_viewers":false,
     "hide_output_from_viewers":false
    }
   }
  }
 ],
 "metadata":{
  "datalore":{
   "version":1,
   "computation_mode":"JUPYTER",
   "package_manager":"pip",
   "base_environment":"default",
   "packages":[
    
   ]
  }
 },
 "nbformat":4,
 "nbformat_minor":4
}