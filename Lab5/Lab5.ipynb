{
 "cells":[
  {
   "cell_type":"markdown",
   "source":[
    "# Лабораторная работа 5\n",
    "\n",
    "## Ансамбли моделей машинного обучения.\n",
    "\n",
    "### Цель лабораторной работы: изучение ансамблей моделей машинного обучения.\n",
    "\n",
    "Задание: Выберите набор данных (датасет) для решения задачи классификации или регресии.\n",
    "\n",
    "В случае необходимости проведите удаление или заполнение пропусков и кодирование категориальных признаков.\n",
    "\n",
    "С использованием метода train_test_split разделите выборку на обучающую и тестовую.\n",
    "\n",
    "Обучите следующие ансамблевые модели:\n",
    "\n",
    "одну из моделей группы бэггинга (бэггинг или случайный лес или сверхслучайные деревья); одну из моделей группы бустинга; одну из моделей группы стекинга. (+1 балл на экзамене) Дополнительно к указанным моделям обучите еще две модели:\n",
    "\n",
    "Модель многослойного персептрона. По желанию, вместо библиотеки scikit-learn возможно использование библиотек TensorFlow, PyTorch или других аналогичных библиотек. Модель МГУА с использованием библиотеки - https:\/\/github.com\/kvoyager\/GmdhPy (или аналогичных библиотек). Найдите такие параметры запуска модели, при которых она будет по крайней мере не хуже, чем одна из предыдущих ансамблевых моделей. Оцените качество моделей с помощью одной из подходящих для задачи метрик. Сравните качество полученных моделей."
   ],
   "attachments":{
    
   },
   "metadata":{
    "datalore":{
     "type":"MD",
     "hide_input_from_viewers":false,
     "hide_output_from_viewers":false
    }
   }
  },
  {
   "cell_type":"code",
   "source":[
    "import pandas as pd\n",
    "import numpy as np\n",
    "from sklearn.preprocessing import LabelEncoder\n",
    "\n",
    "\n",
    "# скроем предупреждения о возможных ошибках для лучшей читаемости\n",
    "import warnings\n",
    "warnings.filterwarnings('ignore')\n",
    "\n",
    "target_col = 'Entity'"
   ],
   "execution_count":null,
   "outputs":[
    
   ],
   "metadata":{
    "datalore":{
     "type":"CODE",
     "hide_input_from_viewers":false,
     "hide_output_from_viewers":false
    }
   }
  },
  {
   "cell_type":"code",
   "source":[
    "data = pd.read_csv('.\/nuclear-warhead-stockpiles.csv')\n",
    "data"
   ],
   "execution_count":null,
   "outputs":[
    {
     "data":{
      "text\/html":[
       "<div>\n",
       "<style scoped>\n",
       "    .dataframe tbody tr th:only-of-type {\n",
       "        vertical-align: middle;\n",
       "    }\n",
       "\n",
       "    .dataframe tbody tr th {\n",
       "        vertical-align: top;\n",
       "    }\n",
       "\n",
       "    .dataframe thead th {\n",
       "        text-align: right;\n",
       "    }\n",
       "<\/style>\n",
       "<table border=\"1\" class=\"dataframe\">\n",
       "  <thead>\n",
       "    <tr style=\"text-align: right;\">\n",
       "      <th><\/th>\n",
       "      <th>Entity<\/th>\n",
       "      <th>Code<\/th>\n",
       "      <th>Year<\/th>\n",
       "      <th>nuclear_weapons_stockpile<\/th>\n",
       "    <\/tr>\n",
       "  <\/thead>\n",
       "  <tbody>\n",
       "    <tr>\n",
       "      <th>0<\/th>\n",
       "      <td>China<\/td>\n",
       "      <td>CHN<\/td>\n",
       "      <td>1945<\/td>\n",
       "      <td>0<\/td>\n",
       "    <\/tr>\n",
       "    <tr>\n",
       "      <th>1<\/th>\n",
       "      <td>China<\/td>\n",
       "      <td>CHN<\/td>\n",
       "      <td>1946<\/td>\n",
       "      <td>0<\/td>\n",
       "    <\/tr>\n",
       "    <tr>\n",
       "      <th>2<\/th>\n",
       "      <td>China<\/td>\n",
       "      <td>CHN<\/td>\n",
       "      <td>1947<\/td>\n",
       "      <td>0<\/td>\n",
       "    <\/tr>\n",
       "    <tr>\n",
       "      <th>3<\/th>\n",
       "      <td>China<\/td>\n",
       "      <td>CHN<\/td>\n",
       "      <td>1948<\/td>\n",
       "      <td>0<\/td>\n",
       "    <\/tr>\n",
       "    <tr>\n",
       "      <th>4<\/th>\n",
       "      <td>China<\/td>\n",
       "      <td>CHN<\/td>\n",
       "      <td>1949<\/td>\n",
       "      <td>0<\/td>\n",
       "    <\/tr>\n",
       "    <tr>\n",
       "      <th>...<\/th>\n",
       "      <td>...<\/td>\n",
       "      <td>...<\/td>\n",
       "      <td>...<\/td>\n",
       "      <td>...<\/td>\n",
       "    <\/tr>\n",
       "    <tr>\n",
       "      <th>775<\/th>\n",
       "      <td>United States<\/td>\n",
       "      <td>USA<\/td>\n",
       "      <td>2018<\/td>\n",
       "      <td>3785<\/td>\n",
       "    <\/tr>\n",
       "    <tr>\n",
       "      <th>776<\/th>\n",
       "      <td>United States<\/td>\n",
       "      <td>USA<\/td>\n",
       "      <td>2019<\/td>\n",
       "      <td>3805<\/td>\n",
       "    <\/tr>\n",
       "    <tr>\n",
       "      <th>777<\/th>\n",
       "      <td>United States<\/td>\n",
       "      <td>USA<\/td>\n",
       "      <td>2020<\/td>\n",
       "      <td>3750<\/td>\n",
       "    <\/tr>\n",
       "    <tr>\n",
       "      <th>778<\/th>\n",
       "      <td>United States<\/td>\n",
       "      <td>USA<\/td>\n",
       "      <td>2021<\/td>\n",
       "      <td>3708<\/td>\n",
       "    <\/tr>\n",
       "    <tr>\n",
       "      <th>779<\/th>\n",
       "      <td>United States<\/td>\n",
       "      <td>USA<\/td>\n",
       "      <td>2022<\/td>\n",
       "      <td>3708<\/td>\n",
       "    <\/tr>\n",
       "  <\/tbody>\n",
       "<\/table>\n",
       "<p>780 rows × 4 columns<\/p>\n",
       "<\/div>"
      ]
     },
     "metadata":{
      
     },
     "output_type":"display_data"
    }
   ],
   "metadata":{
    "datalore":{
     "type":"CODE",
     "hide_input_from_viewers":false,
     "hide_output_from_viewers":false
    }
   }
  },
  {
   "cell_type":"code",
   "source":[
    "data.shape"
   ],
   "execution_count":null,
   "outputs":[
    {
     "data":{
      "text\/plain":[
       "(780, 4)"
      ]
     },
     "metadata":{
      
     },
     "output_type":"display_data"
    }
   ],
   "metadata":{
    "datalore":{
     "type":"CODE",
     "hide_input_from_viewers":false,
     "hide_output_from_viewers":false
    }
   }
  },
  {
   "cell_type":"markdown",
   "source":[
    "Предварительная обработка\n",
    "\n",
    "Удаляем столбцы с пустыми значениями:"
   ],
   "attachments":{
    
   },
   "metadata":{
    "datalore":{
     "type":"MD",
     "hide_input_from_viewers":false,
     "hide_output_from_viewers":false
    }
   }
  },
  {
   "cell_type":"code",
   "source":[
    "data = data.dropna(axis=1, how='any')\n",
    "data"
   ],
   "execution_count":null,
   "outputs":[
    {
     "data":{
      "text\/html":[
       "<div>\n",
       "<style scoped>\n",
       "    .dataframe tbody tr th:only-of-type {\n",
       "        vertical-align: middle;\n",
       "    }\n",
       "\n",
       "    .dataframe tbody tr th {\n",
       "        vertical-align: top;\n",
       "    }\n",
       "\n",
       "    .dataframe thead th {\n",
       "        text-align: right;\n",
       "    }\n",
       "<\/style>\n",
       "<table border=\"1\" class=\"dataframe\">\n",
       "  <thead>\n",
       "    <tr style=\"text-align: right;\">\n",
       "      <th><\/th>\n",
       "      <th>Entity<\/th>\n",
       "      <th>Code<\/th>\n",
       "      <th>Year<\/th>\n",
       "      <th>nuclear_weapons_stockpile<\/th>\n",
       "    <\/tr>\n",
       "  <\/thead>\n",
       "  <tbody>\n",
       "    <tr>\n",
       "      <th>0<\/th>\n",
       "      <td>China<\/td>\n",
       "      <td>CHN<\/td>\n",
       "      <td>1945<\/td>\n",
       "      <td>0<\/td>\n",
       "    <\/tr>\n",
       "    <tr>\n",
       "      <th>1<\/th>\n",
       "      <td>China<\/td>\n",
       "      <td>CHN<\/td>\n",
       "      <td>1946<\/td>\n",
       "      <td>0<\/td>\n",
       "    <\/tr>\n",
       "    <tr>\n",
       "      <th>2<\/th>\n",
       "      <td>China<\/td>\n",
       "      <td>CHN<\/td>\n",
       "      <td>1947<\/td>\n",
       "      <td>0<\/td>\n",
       "    <\/tr>\n",
       "    <tr>\n",
       "      <th>3<\/th>\n",
       "      <td>China<\/td>\n",
       "      <td>CHN<\/td>\n",
       "      <td>1948<\/td>\n",
       "      <td>0<\/td>\n",
       "    <\/tr>\n",
       "    <tr>\n",
       "      <th>4<\/th>\n",
       "      <td>China<\/td>\n",
       "      <td>CHN<\/td>\n",
       "      <td>1949<\/td>\n",
       "      <td>0<\/td>\n",
       "    <\/tr>\n",
       "    <tr>\n",
       "      <th>...<\/th>\n",
       "      <td>...<\/td>\n",
       "      <td>...<\/td>\n",
       "      <td>...<\/td>\n",
       "      <td>...<\/td>\n",
       "    <\/tr>\n",
       "    <tr>\n",
       "      <th>775<\/th>\n",
       "      <td>United States<\/td>\n",
       "      <td>USA<\/td>\n",
       "      <td>2018<\/td>\n",
       "      <td>3785<\/td>\n",
       "    <\/tr>\n",
       "    <tr>\n",
       "      <th>776<\/th>\n",
       "      <td>United States<\/td>\n",
       "      <td>USA<\/td>\n",
       "      <td>2019<\/td>\n",
       "      <td>3805<\/td>\n",
       "    <\/tr>\n",
       "    <tr>\n",
       "      <th>777<\/th>\n",
       "      <td>United States<\/td>\n",
       "      <td>USA<\/td>\n",
       "      <td>2020<\/td>\n",
       "      <td>3750<\/td>\n",
       "    <\/tr>\n",
       "    <tr>\n",
       "      <th>778<\/th>\n",
       "      <td>United States<\/td>\n",
       "      <td>USA<\/td>\n",
       "      <td>2021<\/td>\n",
       "      <td>3708<\/td>\n",
       "    <\/tr>\n",
       "    <tr>\n",
       "      <th>779<\/th>\n",
       "      <td>United States<\/td>\n",
       "      <td>USA<\/td>\n",
       "      <td>2022<\/td>\n",
       "      <td>3708<\/td>\n",
       "    <\/tr>\n",
       "  <\/tbody>\n",
       "<\/table>\n",
       "<p>780 rows × 4 columns<\/p>\n",
       "<\/div>"
      ]
     },
     "metadata":{
      
     },
     "output_type":"display_data"
    }
   ],
   "metadata":{
    "datalore":{
     "type":"CODE",
     "hide_input_from_viewers":false,
     "hide_output_from_viewers":false
    }
   }
  },
  {
   "cell_type":"code",
   "source":[
    "for col in data.columns:\n",
    "    null_count = data[data[col].isnull()].shape[0]\n",
    "    if null_count == 0:\n",
    "        column_type = data[col].dtype\n",
    "        print('{} - {} - {}'.format(col, column_type, null_count))"
   ],
   "execution_count":null,
   "outputs":[
    {
     "name":"stdout",
     "text":[
      "Entity - object - 0\n",
      "Code - object - 0\n",
      "Year - int64 - 0\n",
      "nuclear_weapons_stockpile - int64 - 0\n"
     ],
     "output_type":"stream"
    }
   ],
   "metadata":{
    "datalore":{
     "type":"CODE",
     "hide_input_from_viewers":false,
     "hide_output_from_viewers":false
    }
   }
  },
  {
   "cell_type":"code",
   "source":[
    "le = LabelEncoder()\n",
    "for col in data.columns:\n",
    "    column_type = data[col].dtype\n",
    "    if column_type == 'object':\n",
    "        data[col] = le.fit_transform(data[col]);\n",
    "        print(col)"
   ],
   "execution_count":null,
   "outputs":[
    {
     "name":"stdout",
     "text":[
      "Entity\n",
      "Code\n"
     ],
     "output_type":"stream"
    }
   ],
   "metadata":{
    "datalore":{
     "type":"CODE",
     "hide_input_from_viewers":false,
     "hide_output_from_viewers":false
    }
   }
  },
  {
   "cell_type":"markdown",
   "source":[
    "## Разделение выборки на обучающую и тестовую"
   ],
   "attachments":{
    
   },
   "metadata":{
    "datalore":{
     "type":"MD",
     "hide_input_from_viewers":false,
     "hide_output_from_viewers":false
    }
   }
  },
  {
   "cell_type":"code",
   "source":[
    "from sklearn.model_selection import train_test_split\n",
    "\n",
    "data_x = data.loc[:, data.columns != target_col]\n",
    "data_y = data[target_col]\n",
    "\n",
    "train_x, test_x, train_y, test_y = train_test_split(data_x, data_y, test_size=0.3, random_state=1)"
   ],
   "execution_count":null,
   "outputs":[
    
   ],
   "metadata":{
    "datalore":{
     "type":"CODE",
     "hide_input_from_viewers":false,
     "hide_output_from_viewers":false
    }
   }
  },
  {
   "cell_type":"code",
   "source":[
    "train_x.shape"
   ],
   "execution_count":null,
   "outputs":[
    {
     "data":{
      "text\/plain":[
       "(546, 3)"
      ]
     },
     "metadata":{
      
     },
     "output_type":"display_data"
    }
   ],
   "metadata":{
    "datalore":{
     "type":"CODE",
     "hide_input_from_viewers":false,
     "hide_output_from_viewers":false
    }
   }
  },
  {
   "cell_type":"code",
   "source":[
    "test_x.shape"
   ],
   "execution_count":null,
   "outputs":[
    {
     "data":{
      "text\/plain":[
       "(234, 3)"
      ]
     },
     "metadata":{
      
     },
     "output_type":"display_data"
    }
   ],
   "metadata":{
    "datalore":{
     "type":"CODE",
     "hide_input_from_viewers":false,
     "hide_output_from_viewers":false
    }
   }
  },
  {
   "cell_type":"code",
   "source":[
    "from sklearn.neighbors import KNeighborsRegressor\n",
    "from sklearn.metrics import mean_absolute_error\n",
    "from sklearn.metrics import median_absolute_error, r2_score\n",
    "\n",
    "def test_model(model):\n",
    "    print('mean_absolute_error: {}'.format(round(mean_absolute_error(test_y, model.predict(test_x)), 2)))\n",
    "    print('median_absolute_error: {}'.format(round(median_absolute_error(test_y, model.predict(test_x)), 2)))\n",
    "    print('r2_score: {}'.format(round(r2_score(test_y, model.predict(test_x)), 2)))"
   ],
   "execution_count":null,
   "outputs":[
    
   ],
   "metadata":{
    "datalore":{
     "type":"CODE",
     "hide_input_from_viewers":false,
     "hide_output_from_viewers":false
    }
   }
  },
  {
   "cell_type":"markdown",
   "source":[
    "## Обучение моделей\n",
    "### Случайный лес"
   ],
   "attachments":{
    
   },
   "metadata":{
    "datalore":{
     "type":"MD",
     "hide_input_from_viewers":false,
     "hide_output_from_viewers":false
    }
   }
  },
  {
   "cell_type":"code",
   "source":[
    "from sklearn.ensemble import RandomForestRegressor\n",
    "\n",
    "ran_80 = RandomForestRegressor(n_estimators=80)\n",
    "ran_80.fit(train_x, train_y)"
   ],
   "execution_count":null,
   "outputs":[
    {
     "data":{
      "text\/plain":[
       "RandomForestRegressor(n_estimators=80)"
      ]
     },
     "metadata":{
      
     },
     "output_type":"display_data"
    }
   ],
   "metadata":{
    "datalore":{
     "type":"CODE",
     "hide_input_from_viewers":false,
     "hide_output_from_viewers":false
    }
   }
  },
  {
   "cell_type":"code",
   "source":[
    "test_model(ran_80)"
   ],
   "execution_count":null,
   "outputs":[
    {
     "name":"stdout",
     "text":[
      "mean_absolute_error: 0.01\n",
      "median_absolute_error: 0.0\n",
      "r2_score: 1.0\n"
     ],
     "output_type":"stream"
    }
   ],
   "metadata":{
    "datalore":{
     "type":"CODE",
     "hide_input_from_viewers":false,
     "hide_output_from_viewers":false
    }
   }
  },
  {
   "cell_type":"code",
   "source":[
    "param_range = np.arange(50, 170, 10)\n",
    "tuned_parameters = [{'n_estimators': param_range}]\n",
    "tuned_parameters"
   ],
   "execution_count":null,
   "outputs":[
    {
     "data":{
      "text\/plain":[
       "[{'n_estimators': array([ 50,  60,  70,  80,  90, 100, 110, 120, 130, 140, 150, 160])}]"
      ]
     },
     "metadata":{
      
     },
     "output_type":"display_data"
    }
   ],
   "metadata":{
    "datalore":{
     "type":"CODE",
     "hide_input_from_viewers":false,
     "hide_output_from_viewers":false
    }
   }
  },
  {
   "cell_type":"code",
   "source":[
    "from sklearn.model_selection import GridSearchCV\n",
    "from sklearn.model_selection import ShuffleSplit\n",
    "\n",
    "gs = GridSearchCV(RandomForestRegressor(), tuned_parameters,\n",
    "                  cv=ShuffleSplit(n_splits=10), scoring=\"r2\",\n",
    "                  return_train_score=True, n_jobs=-1)\n",
    "gs.fit(data_x, data_y)"
   ],
   "execution_count":null,
   "outputs":[
    {
     "data":{
      "text\/plain":[
       "GridSearchCV(cv=ShuffleSplit(n_splits=10, random_state=None, test_size=None, train_size=None),\n",
       "             estimator=RandomForestRegressor(), n_jobs=-1,\n",
       "             param_grid=[{'n_estimators': array([ 50,  60,  70,  80,  90, 100, 110, 120, 130, 140, 150, 160])}],\n",
       "             return_train_score=True, scoring='r2')"
      ]
     },
     "metadata":{
      
     },
     "output_type":"display_data"
    }
   ],
   "metadata":{
    "datalore":{
     "type":"CODE",
     "hide_input_from_viewers":false,
     "hide_output_from_viewers":false
    }
   }
  },
  {
   "cell_type":"code",
   "source":[
    "reg = gs.best_estimator_"
   ],
   "execution_count":null,
   "outputs":[
    
   ],
   "metadata":{
    "datalore":{
     "type":"CODE",
     "hide_input_from_viewers":false,
     "hide_output_from_viewers":false
    }
   }
  },
  {
   "cell_type":"code",
   "source":[
    "import matplotlib.pyplot as plt\n",
    "\n",
    "plt.plot(param_range, gs.cv_results_[\"mean_train_score\"]);"
   ],
   "execution_count":null,
   "outputs":[
    {
     "data":{
      "image\/png":"[encoded data removed]"
     },
     "metadata":{
      "image\/png":{
       
      }
     },
     "output_type":"display_data"
    }
   ],
   "metadata":{
    "datalore":{
     "type":"CODE",
     "hide_input_from_viewers":false,
     "hide_output_from_viewers":false
    }
   }
  },
  {
   "cell_type":"code",
   "source":[
    "plt.plot(param_range, gs.cv_results_[\"mean_test_score\"]);"
   ],
   "execution_count":null,
   "outputs":[
    {
     "data":{
      "image\/png":"[encoded data removed]"
     },
     "metadata":{
      "image\/png":{
       
      }
     },
     "output_type":"display_data"
    }
   ],
   "metadata":{
    "datalore":{
     "type":"CODE",
     "hide_input_from_viewers":false,
     "hide_output_from_viewers":false
    }
   }
  },
  {
   "cell_type":"code",
   "source":[
    "reg.fit(train_x, train_y)\n",
    "test_model(reg)"
   ],
   "execution_count":null,
   "outputs":[
    {
     "name":"stdout",
     "text":[
      "mean_absolute_error: 0.01\n",
      "median_absolute_error: 0.0\n",
      "r2_score: 1.0\n"
     ],
     "output_type":"stream"
    }
   ],
   "metadata":{
    "datalore":{
     "type":"CODE",
     "hide_input_from_viewers":false,
     "hide_output_from_viewers":false
    }
   }
  },
  {
   "cell_type":"markdown",
   "source":[
    "## Градиентный бустинг"
   ],
   "attachments":{
    
   },
   "metadata":{
    "datalore":{
     "type":"MD",
     "hide_input_from_viewers":false,
     "hide_output_from_viewers":false
    }
   }
  },
  {
   "cell_type":"code",
   "source":[
    "from sklearn.ensemble import GradientBoostingRegressor\n",
    "\n",
    "gr_80 = GradientBoostingRegressor(n_estimators=80)\n",
    "gr_80.fit(train_x, train_y)"
   ],
   "execution_count":null,
   "outputs":[
    {
     "data":{
      "text\/plain":[
       "GradientBoostingRegressor(n_estimators=80)"
      ]
     },
     "metadata":{
      
     },
     "output_type":"display_data"
    }
   ],
   "metadata":{
    "datalore":{
     "type":"CODE",
     "hide_input_from_viewers":false,
     "hide_output_from_viewers":false
    }
   }
  },
  {
   "cell_type":"code",
   "source":[
    "test_model(gr_80)"
   ],
   "execution_count":null,
   "outputs":[
    {
     "name":"stdout",
     "text":[
      "mean_absolute_error: 0.03\n",
      "median_absolute_error: 0.02\n",
      "r2_score: 1.0\n"
     ],
     "output_type":"stream"
    }
   ],
   "metadata":{
    "datalore":{
     "type":"CODE",
     "hide_input_from_viewers":false,
     "hide_output_from_viewers":false
    }
   }
  },
  {
   "cell_type":"code",
   "source":[
    "gs = GridSearchCV(GradientBoostingRegressor(), tuned_parameters,\n",
    "                  cv=ShuffleSplit(n_splits=10), scoring=\"r2\",\n",
    "                  return_train_score=True, n_jobs=-1)\n",
    "gs.fit(data_x, data_y)"
   ],
   "execution_count":null,
   "outputs":[
    {
     "data":{
      "text\/plain":[
       "GridSearchCV(cv=ShuffleSplit(n_splits=10, random_state=None, test_size=None, train_size=None),\n",
       "             estimator=GradientBoostingRegressor(), n_jobs=-1,\n",
       "             param_grid=[{'n_estimators': array([ 50,  60,  70,  80,  90, 100, 110, 120, 130, 140, 150, 160])}],\n",
       "             return_train_score=True, scoring='r2')"
      ]
     },
     "metadata":{
      
     },
     "output_type":"display_data"
    }
   ],
   "metadata":{
    "datalore":{
     "type":"CODE",
     "hide_input_from_viewers":false,
     "hide_output_from_viewers":false
    }
   }
  },
  {
   "cell_type":"code",
   "source":[
    "reg = gs.best_estimator_"
   ],
   "execution_count":null,
   "outputs":[
    
   ],
   "metadata":{
    "datalore":{
     "type":"CODE",
     "hide_input_from_viewers":false,
     "hide_output_from_viewers":false
    }
   }
  },
  {
   "cell_type":"code",
   "source":[
    "plt.plot(param_range, gs.cv_results_[\"mean_train_score\"]);"
   ],
   "execution_count":null,
   "outputs":[
    {
     "data":{
      "image\/png":"[encoded data removed]"
     },
     "metadata":{
      "image\/png":{
       
      }
     },
     "output_type":"display_data"
    }
   ],
   "metadata":{
    "datalore":{
     "type":"CODE",
     "hide_input_from_viewers":false,
     "hide_output_from_viewers":false
    }
   }
  },
  {
   "cell_type":"code",
   "source":[
    "reg.fit(train_x, train_y)\n",
    "test_model(reg)"
   ],
   "execution_count":null,
   "outputs":[
    {
     "name":"stdout",
     "text":[
      "mean_absolute_error: 0.02\n",
      "median_absolute_error: 0.01\n",
      "r2_score: 1.0\n"
     ],
     "output_type":"stream"
    }
   ],
   "metadata":{
    "datalore":{
     "type":"CODE",
     "hide_input_from_viewers":false,
     "hide_output_from_viewers":false
    }
   }
  }
 ],
 "metadata":{
  "datalore":{
   "version":1,
   "computation_mode":"JUPYTER",
   "package_manager":"pip",
   "base_environment":"default",
   "packages":[
    
   ]
  }
 },
 "nbformat":4,
 "nbformat_minor":4
}